{
  "nbformat": 4,
  "nbformat_minor": 0,
  "metadata": {
    "kernelspec": {
      "display_name": "Python 3",
      "language": "python",
      "name": "python3"
    },
    "language_info": {
      "codemirror_mode": {
        "name": "ipython",
        "version": 3
      },
      "file_extension": ".py",
      "mimetype": "text/x-python",
      "name": "python",
      "nbconvert_exporter": "python",
      "pygments_lexer": "ipython3",
      "version": "3.7.6"
    },
    "colab": {
      "name": "01_dataset_preparation_02.ipynb",
      "provenance": []
    }
  },
  "cells": [
    {
      "cell_type": "markdown",
      "metadata": {
        "id": "3K3JOxeQYD4i",
        "colab_type": "text"
      },
      "source": [
        "#### Create Pandas Dataframe from the Dictionaries of Metadata"
      ]
    },
    {
      "cell_type": "markdown",
      "metadata": {
        "id": "09u3zRr0YD4j",
        "colab_type": "text"
      },
      "source": [
        "# Predictor and Generator for Audio Signals using Machine Learning\n",
        "## Basic Research Project\n",
        "### Student Name: Prachi Sharma\n",
        "### Professor Supervisor: Prof. Gerald Schuller\n",
        "### Research Assistant Supervisor: Renato de C. R. Profeta"
      ]
    },
    {
      "cell_type": "markdown",
      "metadata": {
        "id": "J_UnKrymYD4k",
        "colab_type": "text"
      },
      "source": [
        "## Create Pandas Dataframe from the Dictionaries of Metadata"
      ]
    },
    {
      "cell_type": "code",
      "metadata": {
        "id": "0waWRRYuYD4l",
        "colab_type": "code",
        "colab": {}
      },
      "source": [
        "# Imports - It's always good to put a description at every part, even if it seems obvious\n",
        "import pandas as pd\n",
        "import pickle"
      ],
      "execution_count": null,
      "outputs": []
    },
    {
      "cell_type": "code",
      "metadata": {
        "id": "5eXU0vUWYD4p",
        "colab_type": "code",
        "colab": {}
      },
      "source": [
        "pkl_file_list = pickle.load( open( \"files_pkl.pkl\", \"rb\" ) )   # laoding pickle files list of dictionaries\n",
        "df = pd.DataFrame()                                                #converting the dictionaries into dataframe\n",
        "\n",
        "# Shortly explain this part\n",
        "for i in range(len(pkl_file_list)):\n",
        "    with open(pkl_file_list[i],'rb') as f:\n",
        "        dict_instruments = pickle.load(f)\n",
        "        df = df.append(dict_instruments,ignore_index = True)"
      ],
      "execution_count": null,
      "outputs": []
    },
    {
      "cell_type": "code",
      "metadata": {
        "id": "eB-5gxeoYD4r",
        "colab_type": "code",
        "colab": {},
        "outputId": "cece2b51-a504-42a3-ebe1-b10baf00232b"
      },
      "source": [
        "# Shortly explain this part\n",
        "df.head()                   #"
      ],
      "execution_count": null,
      "outputs": [
        {
          "output_type": "execute_result",
          "data": {
            "text/html": [
              "<div>\n",
              "<style scoped>\n",
              "    .dataframe tbody tr th:only-of-type {\n",
              "        vertical-align: middle;\n",
              "    }\n",
              "\n",
              "    .dataframe tbody tr th {\n",
              "        vertical-align: top;\n",
              "    }\n",
              "\n",
              "    .dataframe thead th {\n",
              "        text-align: right;\n",
              "    }\n",
              "</style>\n",
              "<table border=\"1\" class=\"dataframe\">\n",
              "  <thead>\n",
              "    <tr style=\"text-align: right;\">\n",
              "      <th></th>\n",
              "      <th>class</th>\n",
              "      <th>duration</th>\n",
              "      <th>filename</th>\n",
              "      <th>sampling rate</th>\n",
              "    </tr>\n",
              "  </thead>\n",
              "  <tbody>\n",
              "    <tr>\n",
              "      <th>0</th>\n",
              "      <td>banjo</td>\n",
              "      <td>3.474286</td>\n",
              "      <td>/Users/DELL/Updated_binder_enviro/all-samples/...</td>\n",
              "      <td>44100.0</td>\n",
              "    </tr>\n",
              "    <tr>\n",
              "      <th>1</th>\n",
              "      <td>banjo</td>\n",
              "      <td>3.500408</td>\n",
              "      <td>/Users/DELL/Updated_binder_enviro/all-samples/...</td>\n",
              "      <td>44100.0</td>\n",
              "    </tr>\n",
              "    <tr>\n",
              "      <th>2</th>\n",
              "      <td>banjo</td>\n",
              "      <td>3.813878</td>\n",
              "      <td>/Users/DELL/Updated_binder_enviro/all-samples/...</td>\n",
              "      <td>44100.0</td>\n",
              "    </tr>\n",
              "    <tr>\n",
              "      <th>3</th>\n",
              "      <td>banjo</td>\n",
              "      <td>3.160816</td>\n",
              "      <td>/Users/DELL/Updated_binder_enviro/all-samples/...</td>\n",
              "      <td>44100.0</td>\n",
              "    </tr>\n",
              "    <tr>\n",
              "      <th>4</th>\n",
              "      <td>banjo</td>\n",
              "      <td>3.866122</td>\n",
              "      <td>/Users/DELL/Updated_binder_enviro/all-samples/...</td>\n",
              "      <td>44100.0</td>\n",
              "    </tr>\n",
              "  </tbody>\n",
              "</table>\n",
              "</div>"
            ],
            "text/plain": [
              "   class  duration                                           filename  \\\n",
              "0  banjo  3.474286  /Users/DELL/Updated_binder_enviro/all-samples/...   \n",
              "1  banjo  3.500408  /Users/DELL/Updated_binder_enviro/all-samples/...   \n",
              "2  banjo  3.813878  /Users/DELL/Updated_binder_enviro/all-samples/...   \n",
              "3  banjo  3.160816  /Users/DELL/Updated_binder_enviro/all-samples/...   \n",
              "4  banjo  3.866122  /Users/DELL/Updated_binder_enviro/all-samples/...   \n",
              "\n",
              "   sampling rate  \n",
              "0        44100.0  \n",
              "1        44100.0  \n",
              "2        44100.0  \n",
              "3        44100.0  \n",
              "4        44100.0  "
            ]
          },
          "metadata": {
            "tags": []
          },
          "execution_count": 11
        }
      ]
    },
    {
      "cell_type": "markdown",
      "metadata": {
        "id": "m2MOpMtNYD4v",
        "colab_type": "text"
      },
      "source": [
        "#### Filtering the dataframes"
      ]
    },
    {
      "cell_type": "code",
      "metadata": {
        "id": "iA23xQL7YD4v",
        "colab_type": "code",
        "colab": {}
      },
      "source": [
        "filtr =  (df['class'] != 'percussion') & (df['duration']<=22)  #creating filter to leave out the files with a duration longer than 22seconds\n",
        "                                                                    # and leave out files of class percussion"
      ],
      "execution_count": null,
      "outputs": []
    },
    {
      "cell_type": "code",
      "metadata": {
        "id": "43FbJ6wAYD4y",
        "colab_type": "code",
        "colab": {},
        "outputId": "092893cc-58a6-4d9e-da9e-cc85e4d09117"
      },
      "source": [
        "df[filtr]"
      ],
      "execution_count": null,
      "outputs": [
        {
          "output_type": "execute_result",
          "data": {
            "text/html": [
              "<div>\n",
              "<style scoped>\n",
              "    .dataframe tbody tr th:only-of-type {\n",
              "        vertical-align: middle;\n",
              "    }\n",
              "\n",
              "    .dataframe tbody tr th {\n",
              "        vertical-align: top;\n",
              "    }\n",
              "\n",
              "    .dataframe thead th {\n",
              "        text-align: right;\n",
              "    }\n",
              "</style>\n",
              "<table border=\"1\" class=\"dataframe\">\n",
              "  <thead>\n",
              "    <tr style=\"text-align: right;\">\n",
              "      <th></th>\n",
              "      <th>class</th>\n",
              "      <th>duration</th>\n",
              "      <th>filename</th>\n",
              "      <th>sampling rate</th>\n",
              "    </tr>\n",
              "  </thead>\n",
              "  <tbody>\n",
              "    <tr>\n",
              "      <th>0</th>\n",
              "      <td>banjo</td>\n",
              "      <td>3.474286</td>\n",
              "      <td>/Users/DELL/Updated_binder_enviro/all-samples/...</td>\n",
              "      <td>44100.0</td>\n",
              "    </tr>\n",
              "    <tr>\n",
              "      <th>1</th>\n",
              "      <td>banjo</td>\n",
              "      <td>3.500408</td>\n",
              "      <td>/Users/DELL/Updated_binder_enviro/all-samples/...</td>\n",
              "      <td>44100.0</td>\n",
              "    </tr>\n",
              "    <tr>\n",
              "      <th>2</th>\n",
              "      <td>banjo</td>\n",
              "      <td>3.813878</td>\n",
              "      <td>/Users/DELL/Updated_binder_enviro/all-samples/...</td>\n",
              "      <td>44100.0</td>\n",
              "    </tr>\n",
              "    <tr>\n",
              "      <th>3</th>\n",
              "      <td>banjo</td>\n",
              "      <td>3.160816</td>\n",
              "      <td>/Users/DELL/Updated_binder_enviro/all-samples/...</td>\n",
              "      <td>44100.0</td>\n",
              "    </tr>\n",
              "    <tr>\n",
              "      <th>4</th>\n",
              "      <td>banjo</td>\n",
              "      <td>3.866122</td>\n",
              "      <td>/Users/DELL/Updated_binder_enviro/all-samples/...</td>\n",
              "      <td>44100.0</td>\n",
              "    </tr>\n",
              "    <tr>\n",
              "      <th>...</th>\n",
              "      <td>...</td>\n",
              "      <td>...</td>\n",
              "      <td>...</td>\n",
              "      <td>...</td>\n",
              "    </tr>\n",
              "    <tr>\n",
              "      <th>13676</th>\n",
              "      <td>violin</td>\n",
              "      <td>2.220408</td>\n",
              "      <td>/Users/DELL/Updated_binder_enviro/all-samples/...</td>\n",
              "      <td>44100.0</td>\n",
              "    </tr>\n",
              "    <tr>\n",
              "      <th>13677</th>\n",
              "      <td>violin</td>\n",
              "      <td>1.306122</td>\n",
              "      <td>/Users/DELL/Updated_binder_enviro/all-samples/...</td>\n",
              "      <td>44100.0</td>\n",
              "    </tr>\n",
              "    <tr>\n",
              "      <th>13678</th>\n",
              "      <td>violin</td>\n",
              "      <td>1.567347</td>\n",
              "      <td>/Users/DELL/Updated_binder_enviro/all-samples/...</td>\n",
              "      <td>44100.0</td>\n",
              "    </tr>\n",
              "    <tr>\n",
              "      <th>13679</th>\n",
              "      <td>violin</td>\n",
              "      <td>2.351020</td>\n",
              "      <td>/Users/DELL/Updated_binder_enviro/all-samples/...</td>\n",
              "      <td>44100.0</td>\n",
              "    </tr>\n",
              "    <tr>\n",
              "      <th>13680</th>\n",
              "      <td>violin</td>\n",
              "      <td>1.436735</td>\n",
              "      <td>/Users/DELL/Updated_binder_enviro/all-samples/...</td>\n",
              "      <td>44100.0</td>\n",
              "    </tr>\n",
              "  </tbody>\n",
              "</table>\n",
              "<p>13480 rows × 4 columns</p>\n",
              "</div>"
            ],
            "text/plain": [
              "        class  duration                                           filename  \\\n",
              "0       banjo  3.474286  /Users/DELL/Updated_binder_enviro/all-samples/...   \n",
              "1       banjo  3.500408  /Users/DELL/Updated_binder_enviro/all-samples/...   \n",
              "2       banjo  3.813878  /Users/DELL/Updated_binder_enviro/all-samples/...   \n",
              "3       banjo  3.160816  /Users/DELL/Updated_binder_enviro/all-samples/...   \n",
              "4       banjo  3.866122  /Users/DELL/Updated_binder_enviro/all-samples/...   \n",
              "...       ...       ...                                                ...   \n",
              "13676  violin  2.220408  /Users/DELL/Updated_binder_enviro/all-samples/...   \n",
              "13677  violin  1.306122  /Users/DELL/Updated_binder_enviro/all-samples/...   \n",
              "13678  violin  1.567347  /Users/DELL/Updated_binder_enviro/all-samples/...   \n",
              "13679  violin  2.351020  /Users/DELL/Updated_binder_enviro/all-samples/...   \n",
              "13680  violin  1.436735  /Users/DELL/Updated_binder_enviro/all-samples/...   \n",
              "\n",
              "       sampling rate  \n",
              "0            44100.0  \n",
              "1            44100.0  \n",
              "2            44100.0  \n",
              "3            44100.0  \n",
              "4            44100.0  \n",
              "...              ...  \n",
              "13676        44100.0  \n",
              "13677        44100.0  \n",
              "13678        44100.0  \n",
              "13679        44100.0  \n",
              "13680        44100.0  \n",
              "\n",
              "[13480 rows x 4 columns]"
            ]
          },
          "metadata": {
            "tags": []
          },
          "execution_count": 13
        }
      ]
    },
    {
      "cell_type": "code",
      "metadata": {
        "id": "Lzq1kBCYYD40",
        "colab_type": "code",
        "colab": {}
      },
      "source": [
        "#Experimenting with training sets"
      ],
      "execution_count": null,
      "outputs": []
    }
  ]
}