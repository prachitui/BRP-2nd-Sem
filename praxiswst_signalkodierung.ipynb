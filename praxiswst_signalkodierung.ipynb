{
 "cells": [
  {
   "cell_type": "markdown",
   "metadata": {},
   "source": [
    "# -*- coding: utf-8 -*-\n",
    "__author__ = 'Gerald Schuller'\n",
    "__copyright__ = 'G.S.'\n"
   ]
  },
  {
   "cell_type": "markdown",
   "metadata": {},
   "source": [
    "\"\"\"\n",
    "Simple program to use a convolutional neural network to obtain a predictive coder,\n",
    "using explicit inputs to layers, to enable skip layers.\n",
    "According to: https://keras.io/getting-started/functional-api-guide/\n",
    "With Pytorch\n",
    "For instance according to WCLMS or prediction Boosting\n",
    "Gerald Schuller, November 2018.\n",
    "\"\"\""
   ]
  },
  {
   "cell_type": "code",
   "execution_count": 1,
   "metadata": {},
   "outputs": [],
   "source": [
    "import torch\n",
    "import torch.nn as nn"
   ]
  },
  {
   "cell_type": "code",
   "execution_count": 4,
   "metadata": {},
   "outputs": [],
   "source": [
    "import numpy as np\n",
    "import matplotlib.pyplot as plt\n",
    "import sys\n",
    "import scipy.io.wavfile as wav"
   ]
  },
  {
   "cell_type": "code",
   "execution_count": 5,
   "metadata": {},
   "outputs": [],
   "source": [
    "if sys.version_info[0] < 3:\n",
    "   # for Python 2\n",
    "   import cPickle as pickle\n",
    "else:\n",
    "   # for Python 3\n",
    "   import pickle\n",
    "\n",
    "L=12 #filter length\n",
    "dilation=1 #Dilation: upsampling the filter impulse response, new filter length: (L-1)*dilation+1"
   ]
  },
  {
   "cell_type": "code",
   "execution_count": 7,
   "metadata": {},
   "outputs": [],
   "source": [
    "def format_vector2pytorch(vector):\n",
    "    \n",
    "    #Function to convert a vector, like a mono audio signal, into a 3-d Tensor X that Keras expects\n",
    "    #Tensor X with shape (batch, signal):\n",
    "    #https://discuss.pytorch.org/t/confused-about-tensor-dimensions-and-batches/4761\n",
    "    \n",
    "    X = np.expand_dims(vector, axis=0)  #add batch dimension (here only 1 batch)\n",
    "    X = np.expand_dims(X, axis=0)\n",
    "    X=torch.from_numpy(X)\n",
    "    X=X.type(torch.Tensor)\n",
    "    return X\n"
   ]
  },
  {
   "cell_type": "code",
   "execution_count": 8,
   "metadata": {},
   "outputs": [
    {
     "name": "stderr",
     "output_type": "stream",
     "text": [
      "C:\\Users\\DELL\\anaconda3\\envs\\BRP2\\lib\\site-packages\\scipy\\io\\wavfile.py:273: WavFileWarning: Chunk (non-data) not understood, skipping it.\n",
      "  WavFileWarning)\n"
     ]
    },
    {
     "data": {
      "image/png": "[encoded data removed]",
      "text/plain": [
       "<Figure size 432x288 with 1 Axes>"
      ]
     },
     "metadata": {
      "needs_background": "light"
     },
     "output_type": "display_data"
    },
    {
     "name": "stdout",
     "output_type": "stream",
     "text": [
      "Generate Model:\n",
      "Input X.shape= torch.Size([1, 1, 99988, 2])\n",
      "Target Y.shape= torch.Size([1, 1, 99999, 2])\n",
      "Generate Model:\n",
      "Def. loss function:\n"
     ]
    },
    {
     "name": "stderr",
     "output_type": "stream",
     "text": [
      "C:\\Users\\DELL\\anaconda3\\envs\\BRP2\\lib\\site-packages\\torch\\nn\\_reduction.py:43: UserWarning: size_average and reduce args will be deprecated, please use reduction='sum' instead.\n",
      "  warnings.warn(warning.format(ret))\n"
     ]
    },
    {
     "ename": "NotImplementedError",
     "evalue": "",
     "output_type": "error",
     "traceback": [
      "\u001b[1;31m---------------------------------------------------------------------------\u001b[0m",
      "\u001b[1;31mNotImplementedError\u001b[0m                       Traceback (most recent call last)",
      "\u001b[1;32m<ipython-input-8-33d815daef9a>\u001b[0m in \u001b[0;36m<module>\u001b[1;34m\u001b[0m\n\u001b[0;32m     61\u001b[0m \u001b[1;33m\u001b[0m\u001b[0m\n\u001b[0;32m     62\u001b[0m     \u001b[1;32mfor\u001b[0m \u001b[0mepoch\u001b[0m \u001b[1;32min\u001b[0m \u001b[0mrange\u001b[0m\u001b[1;33m(\u001b[0m\u001b[1;36m6000\u001b[0m\u001b[1;33m)\u001b[0m\u001b[1;33m:\u001b[0m\u001b[1;33m\u001b[0m\u001b[1;33m\u001b[0m\u001b[0m\n\u001b[1;32m---> 63\u001b[1;33m         \u001b[0mYred\u001b[0m\u001b[1;33m=\u001b[0m\u001b[0mmodel\u001b[0m\u001b[1;33m(\u001b[0m\u001b[0mX\u001b[0m\u001b[1;33m)\u001b[0m\u001b[1;33m\u001b[0m\u001b[1;33m\u001b[0m\u001b[0m\n\u001b[0m\u001b[0;32m     64\u001b[0m         \u001b[0mloss\u001b[0m\u001b[1;33m=\u001b[0m\u001b[0mloss_fn\u001b[0m\u001b[1;33m(\u001b[0m\u001b[0mYpred\u001b[0m\u001b[1;33m,\u001b[0m \u001b[0mY\u001b[0m\u001b[1;33m)\u001b[0m\u001b[1;33m\u001b[0m\u001b[1;33m\u001b[0m\u001b[0m\n\u001b[0;32m     65\u001b[0m         \u001b[1;32mif\u001b[0m \u001b[0mepoch\u001b[0m\u001b[1;33m%\u001b[0m\u001b[1;36m100\u001b[0m\u001b[1;33m==\u001b[0m\u001b[1;36m0\u001b[0m\u001b[1;33m:\u001b[0m\u001b[1;33m\u001b[0m\u001b[1;33m\u001b[0m\u001b[0m\n",
      "\u001b[1;32m~\\anaconda3\\envs\\BRP2\\lib\\site-packages\\torch\\nn\\modules\\module.py\u001b[0m in \u001b[0;36m__call__\u001b[1;34m(self, *input, **kwargs)\u001b[0m\n\u001b[0;32m    548\u001b[0m             \u001b[0mresult\u001b[0m \u001b[1;33m=\u001b[0m \u001b[0mself\u001b[0m\u001b[1;33m.\u001b[0m\u001b[0m_slow_forward\u001b[0m\u001b[1;33m(\u001b[0m\u001b[1;33m*\u001b[0m\u001b[0minput\u001b[0m\u001b[1;33m,\u001b[0m \u001b[1;33m**\u001b[0m\u001b[0mkwargs\u001b[0m\u001b[1;33m)\u001b[0m\u001b[1;33m\u001b[0m\u001b[1;33m\u001b[0m\u001b[0m\n\u001b[0;32m    549\u001b[0m         \u001b[1;32melse\u001b[0m\u001b[1;33m:\u001b[0m\u001b[1;33m\u001b[0m\u001b[1;33m\u001b[0m\u001b[0m\n\u001b[1;32m--> 550\u001b[1;33m             \u001b[0mresult\u001b[0m \u001b[1;33m=\u001b[0m \u001b[0mself\u001b[0m\u001b[1;33m.\u001b[0m\u001b[0mforward\u001b[0m\u001b[1;33m(\u001b[0m\u001b[1;33m*\u001b[0m\u001b[0minput\u001b[0m\u001b[1;33m,\u001b[0m \u001b[1;33m**\u001b[0m\u001b[0mkwargs\u001b[0m\u001b[1;33m)\u001b[0m\u001b[1;33m\u001b[0m\u001b[1;33m\u001b[0m\u001b[0m\n\u001b[0m\u001b[0;32m    551\u001b[0m         \u001b[1;32mfor\u001b[0m \u001b[0mhook\u001b[0m \u001b[1;32min\u001b[0m \u001b[0mself\u001b[0m\u001b[1;33m.\u001b[0m\u001b[0m_forward_hooks\u001b[0m\u001b[1;33m.\u001b[0m\u001b[0mvalues\u001b[0m\u001b[1;33m(\u001b[0m\u001b[1;33m)\u001b[0m\u001b[1;33m:\u001b[0m\u001b[1;33m\u001b[0m\u001b[1;33m\u001b[0m\u001b[0m\n\u001b[0;32m    552\u001b[0m             \u001b[0mhook_result\u001b[0m \u001b[1;33m=\u001b[0m \u001b[0mhook\u001b[0m\u001b[1;33m(\u001b[0m\u001b[0mself\u001b[0m\u001b[1;33m,\u001b[0m \u001b[0minput\u001b[0m\u001b[1;33m,\u001b[0m \u001b[0mresult\u001b[0m\u001b[1;33m)\u001b[0m\u001b[1;33m\u001b[0m\u001b[1;33m\u001b[0m\u001b[0m\n",
      "\u001b[1;32m~\\anaconda3\\envs\\BRP2\\lib\\site-packages\\torch\\nn\\modules\\module.py\u001b[0m in \u001b[0;36mforward\u001b[1;34m(self, *input)\u001b[0m\n\u001b[0;32m     96\u001b[0m             \u001b[0mregistered\u001b[0m \u001b[0mhooks\u001b[0m \u001b[1;32mwhile\u001b[0m \u001b[0mthe\u001b[0m \u001b[0mlatter\u001b[0m \u001b[0msilently\u001b[0m \u001b[0mignores\u001b[0m \u001b[0mthem\u001b[0m\u001b[1;33m.\u001b[0m\u001b[1;33m\u001b[0m\u001b[1;33m\u001b[0m\u001b[0m\n\u001b[0;32m     97\u001b[0m         \"\"\"\n\u001b[1;32m---> 98\u001b[1;33m         \u001b[1;32mraise\u001b[0m \u001b[0mNotImplementedError\u001b[0m\u001b[1;33m\u001b[0m\u001b[1;33m\u001b[0m\u001b[0m\n\u001b[0m\u001b[0;32m     99\u001b[0m \u001b[1;33m\u001b[0m\u001b[0m\n\u001b[0;32m    100\u001b[0m     \u001b[1;32mdef\u001b[0m \u001b[0mregister_buffer\u001b[0m\u001b[1;33m(\u001b[0m\u001b[0mself\u001b[0m\u001b[1;33m,\u001b[0m \u001b[0mname\u001b[0m\u001b[1;33m,\u001b[0m \u001b[0mtensor\u001b[0m\u001b[1;33m)\u001b[0m\u001b[1;33m:\u001b[0m\u001b[1;33m\u001b[0m\u001b[1;33m\u001b[0m\u001b[0m\n",
      "\u001b[1;31mNotImplementedError\u001b[0m: "
     ]
    }
   ],
   "source": [
    "class ConvNet(nn.Module):\n",
    "    def __init__(self):\n",
    "        super(ConvNet, self).__init__()\n",
    "        \n",
    "        # Define the model. \n",
    "        \n",
    "        self.layer1=nn.Sequential(nn.Conv1d(in_channels=1, out_channels=1, kernel_size=L, stride=1, dilation=dilation, padding=dilation*(L-1), bias=False))\n",
    "            \n",
    "      #https://pytorch.org/docs/stable/nn.html#conv1d  \n",
    "      # Generate a convolutional neural network model, 1 layer, no bias, linear activation function \n",
    "      # returns: Trainable object\n",
    "      #concatenate data:\n",
    "      #https://discuss.pytorch.org/t/concatenate-layer-output-with-additional-input-data/20462\n",
    "      #input of layer: x, output of layer: out\n",
    "        \n",
    "        def forward(self, x):\n",
    "            out = self.layer1(x)\n",
    "            return out\n",
    "    \n",
    "\n",
    "if __name__ == '__main__':\n",
    "    \n",
    "    #Example to find prediction coefficients to minimize the mean absolute error using Python Keras\n",
    "    #and 1 Convolutional layer as a predictor.\n",
    "    \n",
    "    #Input mono audio signal X:\n",
    "    \n",
    "    samplerate, audio = wav.read(\"trywav.wav\")\n",
    "    \n",
    "    #samplerate, audio = wav.read(\"mspeech.wav\")\n",
    "    #samplerate, audio = wav.read(\"fspeech.wav\")\n",
    "    #samplerate, audio = wav.read(\"WCLMSprederror.wav\")\n",
    "    \n",
    "    audio=audio*1.0/2**15          #normalize\n",
    "    \n",
    "    #audio=audio*1.0/np.max(np.abs(audio)) #normalize\n",
    "    \n",
    "    audiosh=audio[:100000]             #shorten the signal for faster optimization,\n",
    "    \n",
    "    #audiosh=audio[46750:47750]\n",
    "    \n",
    "    plt.plot(audiosh)\n",
    "    plt.title(\"The Audio Signal to Predict\")\n",
    "    plt.show()\n",
    "    \n",
    "    X=format_vector2pytorch(audiosh[:-((L-1)*dilation+1)])      #remove last samples \n",
    "    Y=format_vector2pytorch(audiosh[1:]) #remove first sample, for the signal to predict, 1 sample in the future\n",
    "    \n",
    "    print(\"Generate Model:\")\n",
    "    print(\"Input X.shape=\", X.shape )\n",
    "    print(\"Target Y.shape=\", Y.shape)\n",
    "\n",
    "    print(\"Generate Model:\")\n",
    "    #model = generate_model()     # Compile an neural net\n",
    "    model = ConvNet()#.to('cpu')\n",
    "    print(\"Def. loss function:\")\n",
    "    loss_fn = nn.MSELoss(size_average=False)\n",
    "    #learning_rate = 1e-4\n",
    "    optimizer = torch.optim.Adam(model.parameters())#, lr=learning_rate)\n",
    "    \n",
    "    \n",
    "    for epoch in range(6000):\n",
    "        Yred=model(X)\n",
    "        loss=loss_fn(Ypred, Y)\n",
    "        if epoch%100==0:\n",
    "            print(epoch, loss.item())\n",
    "            optimizer.zero_grad()\n",
    "            loss.backward()\n",
    "            optimizer.step()\n",
    "    \n",
    "    torch.save({'epoch': epoch,\n",
    "       'model_state_dict': model.state_dict(),\n",
    "       'optimizer_state_dict': optimizer.state_dict()}, \"linpredweights.torch\")\n",
    "    \n",
    "    #Processing full length signal:\n",
    "    X=format_vector2pytorch(audio[:-((L-1)*dilation+1)])  #remove last samples \n",
    "    Y=format_vector2pytorch(audio[1:]) #remove first sample\n",
    "    predictions=model(X) # Make Predictions based on the obtained weights, on short audio\n",
    "    #mean squared predicton error:\n",
    "    err= sum((predictions[0,0,:]-Y[0,0,:])**2)/max(Y.shape)\n",
    "    print(\"mean squared prediction error=\", err)\n",
    "    #mean signal power:\n",
    "    sigpow=sum(X[0,0,:]**2)/max(X.shape)\n",
    "    print(\"mean signal power=\", sigpow)\n",
    "    print(\"Signal to Error Power Ratio:\", sigpow/err)\n",
    "    \n",
    "    ww = model.state_dict()   #read obtained weights\n",
    "    print(\"ww=\", ww)\n",
    "    #weight format for Conv1d:\n",
    "    #[0: filter weights, 1: bias for first layer]\n",
    "    #weight: filters of shape: out_channelsÃ— in_channelsgroupsÃ— kW\n",
    "    weights=ww['layer1.0.weight'][0,0,:]\n",
    "    \n",
    "    \n",
    "    print(\"weights= \", weights)\n",
    "    #print(\"Predictions[0,0,:]= \", predictions[0,0,:])\n",
    "    \n",
    "    #print(\"Y=\",Y)\n",
    "    #convert to numpy:\n",
    "    #https://discuss.pytorch.org/t/how-to-transform-variable-into-numpy/104/2\n",
    "    #plt.plot(np.array(Y[0,0,:]))\n",
    "    #plt.show()\n",
    "    plt.plot(np.array(Y[0,0,:]))\n",
    "    plt.plot(predictions.detach().numpy()[0,0,:])\n",
    "    plt.legend(('Original','Predicted'))\n",
    "    plt.title('The Original and Predicted Signal')\n",
    "    plt.xlabel('Sample')\n",
    "    plt.figure()\n",
    "    plt.plot(np.array(Y[0,0,:]))\n",
    "    plt.plot(predictions.detach().numpy()[0,0,:]-np.array(Y[0,0,:]))\n",
    "    plt.legend(('Original','Prediction Error'))\n",
    "    plt.title('The Original and Prediction Error')\n",
    "    plt.xlabel('Sample')\n",
    "    plt.figure()\n",
    "    plt.plot(np.array(weights))\n",
    "    plt.title('The Weights')\n",
    "    plt.show()"
   ]
  },
  {
   "cell_type": "code",
   "execution_count": null,
   "metadata": {},
   "outputs": [],
   "source": []
  }
 ],
 "metadata": {
  "kernelspec": {
   "display_name": "Python 3",
   "language": "python",
   "name": "python3"
  },
  "language_info": {
   "codemirror_mode": {
    "name": "ipython",
    "version": 3
   },
   "file_extension": ".py",
   "mimetype": "text/x-python",
   "name": "python",
   "nbconvert_exporter": "python",
   "pygments_lexer": "ipython3",
   "version": "3.7.6"
  }
 },
 "nbformat": 4,
 "nbformat_minor": 4
}
