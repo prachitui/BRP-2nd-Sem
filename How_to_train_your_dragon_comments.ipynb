{
  "nbformat": 4,
  "nbformat_minor": 0,
  "metadata": {
    "kernelspec": {
      "display_name": "Python 3",
      "language": "python",
      "name": "python3"
    },
    "language_info": {
      "codemirror_mode": {
        "name": "ipython",
        "version": 3
      },
      "file_extension": ".py",
      "mimetype": "text/x-python",
      "name": "python",
      "nbconvert_exporter": "python",
      "pygments_lexer": "ipython3",
      "version": "3.7.6"
    },
    "colab": {
      "name": "How to train your dragon.ipynb",
      "provenance": []
    }
  },
  "cells": [
    {
      "cell_type": "markdown",
      "metadata": {
        "id": "d1Ypb_PhqRge",
        "colab_type": "text"
      },
      "source": [
        "### Loading files_pkl.pkl "
      ]
    },
    {
      "cell_type": "code",
      "metadata": {
        "id": "Vw1MkZb6qRgg",
        "colab_type": "code",
        "colab": {}
      },
      "source": [
        "import pickle\n",
        "    \n",
        "pkl_file_list = pickle.load( open( \"files_pkl.pkl\", \"rb\" ) )\n",
        "    "
      ],
      "execution_count": null,
      "outputs": []
    },
    {
      "cell_type": "code",
      "metadata": {
        "id": "7R2WsY7-qRgo",
        "colab_type": "code",
        "colab": {},
        "outputId": "e456fe69-9234-4301-9baa-d900154b6d68"
      },
      "source": [
        "import pandas as pd\n",
        "df = pd.DataFrame()\n",
        "\n",
        "for i in pkl_file_list:\n",
        "    with open(i,'rb') as f:\n",
        "        dict = pickle.load(f)\n",
        "        df = df.append(dict,ignore_index = True)\n",
        "print(df)\n",
        "    "
      ],
      "execution_count": null,
      "outputs": [
        {
          "output_type": "stream",
          "text": [
            "        class  duration                                           filename  \\\n",
            "0       banjo  3.474286  /Users/DELL/Updated_binder_enviro/all-samples/...   \n",
            "1       banjo  3.500408  /Users/DELL/Updated_binder_enviro/all-samples/...   \n",
            "2       banjo  3.813878  /Users/DELL/Updated_binder_enviro/all-samples/...   \n",
            "3       banjo  3.160816  /Users/DELL/Updated_binder_enviro/all-samples/...   \n",
            "4       banjo  3.866122  /Users/DELL/Updated_binder_enviro/all-samples/...   \n",
            "...       ...       ...                                                ...   \n",
            "13676  violin  2.220408  /Users/DELL/Updated_binder_enviro/all-samples/...   \n",
            "13677  violin  1.306122  /Users/DELL/Updated_binder_enviro/all-samples/...   \n",
            "13678  violin  1.567347  /Users/DELL/Updated_binder_enviro/all-samples/...   \n",
            "13679  violin  2.351020  /Users/DELL/Updated_binder_enviro/all-samples/...   \n",
            "13680  violin  1.436735  /Users/DELL/Updated_binder_enviro/all-samples/...   \n",
            "\n",
            "       sampling rate  \n",
            "0            44100.0  \n",
            "1            44100.0  \n",
            "2            44100.0  \n",
            "3            44100.0  \n",
            "4            44100.0  \n",
            "...              ...  \n",
            "13676        44100.0  \n",
            "13677        44100.0  \n",
            "13678        44100.0  \n",
            "13679        44100.0  \n",
            "13680        44100.0  \n",
            "\n",
            "[13681 rows x 4 columns]\n"
          ],
          "name": "stdout"
        }
      ]
    },
    {
      "cell_type": "code",
      "metadata": {
        "id": "di5ZOze7qRgt",
        "colab_type": "code",
        "colab": {},
        "outputId": "9978378b-a4e4-4793-8a61-55224a3d79a5"
      },
      "source": [
        "print(df)"
      ],
      "execution_count": null,
      "outputs": [
        {
          "output_type": "stream",
          "text": [
            "        class  duration                                           filename  \\\n",
            "0       banjo  3.474286  /Users/DELL/Updated_binder_enviro/all-samples/...   \n",
            "1       banjo  3.500408  /Users/DELL/Updated_binder_enviro/all-samples/...   \n",
            "2       banjo  3.813878  /Users/DELL/Updated_binder_enviro/all-samples/...   \n",
            "3       banjo  3.160816  /Users/DELL/Updated_binder_enviro/all-samples/...   \n",
            "4       banjo  3.866122  /Users/DELL/Updated_binder_enviro/all-samples/...   \n",
            "...       ...       ...                                                ...   \n",
            "13676  violin  2.220408  /Users/DELL/Updated_binder_enviro/all-samples/...   \n",
            "13677  violin  1.306122  /Users/DELL/Updated_binder_enviro/all-samples/...   \n",
            "13678  violin  1.567347  /Users/DELL/Updated_binder_enviro/all-samples/...   \n",
            "13679  violin  2.351020  /Users/DELL/Updated_binder_enviro/all-samples/...   \n",
            "13680  violin  1.436735  /Users/DELL/Updated_binder_enviro/all-samples/...   \n",
            "\n",
            "       sampling rate  \n",
            "0            44100.0  \n",
            "1            44100.0  \n",
            "2            44100.0  \n",
            "3            44100.0  \n",
            "4            44100.0  \n",
            "...              ...  \n",
            "13676        44100.0  \n",
            "13677        44100.0  \n",
            "13678        44100.0  \n",
            "13679        44100.0  \n",
            "13680        44100.0  \n",
            "\n",
            "[13681 rows x 4 columns]\n"
          ],
          "name": "stdout"
        }
      ]
    },
    {
      "cell_type": "code",
      "metadata": {
        "id": "cbWEjgi7qRgw",
        "colab_type": "code",
        "colab": {},
        "outputId": "a8ec9002-7ad9-46a4-e95a-b709f1c16c62"
      },
      "source": [
        "df[['duration', 'sampling rate', 'class']] #accesing the column duration"
      ],
      "execution_count": null,
      "outputs": [
        {
          "output_type": "execute_result",
          "data": {
            "text/html": [
              "<div>\n",
              "<style scoped>\n",
              "    .dataframe tbody tr th:only-of-type {\n",
              "        vertical-align: middle;\n",
              "    }\n",
              "\n",
              "    .dataframe tbody tr th {\n",
              "        vertical-align: top;\n",
              "    }\n",
              "\n",
              "    .dataframe thead th {\n",
              "        text-align: right;\n",
              "    }\n",
              "</style>\n",
              "<table border=\"1\" class=\"dataframe\">\n",
              "  <thead>\n",
              "    <tr style=\"text-align: right;\">\n",
              "      <th></th>\n",
              "      <th>duration</th>\n",
              "      <th>sampling rate</th>\n",
              "      <th>class</th>\n",
              "    </tr>\n",
              "  </thead>\n",
              "  <tbody>\n",
              "    <tr>\n",
              "      <th>0</th>\n",
              "      <td>3.474286</td>\n",
              "      <td>44100.0</td>\n",
              "      <td>banjo</td>\n",
              "    </tr>\n",
              "    <tr>\n",
              "      <th>1</th>\n",
              "      <td>3.500408</td>\n",
              "      <td>44100.0</td>\n",
              "      <td>banjo</td>\n",
              "    </tr>\n",
              "    <tr>\n",
              "      <th>2</th>\n",
              "      <td>3.813878</td>\n",
              "      <td>44100.0</td>\n",
              "      <td>banjo</td>\n",
              "    </tr>\n",
              "    <tr>\n",
              "      <th>3</th>\n",
              "      <td>3.160816</td>\n",
              "      <td>44100.0</td>\n",
              "      <td>banjo</td>\n",
              "    </tr>\n",
              "    <tr>\n",
              "      <th>4</th>\n",
              "      <td>3.866122</td>\n",
              "      <td>44100.0</td>\n",
              "      <td>banjo</td>\n",
              "    </tr>\n",
              "    <tr>\n",
              "      <th>...</th>\n",
              "      <td>...</td>\n",
              "      <td>...</td>\n",
              "      <td>...</td>\n",
              "    </tr>\n",
              "    <tr>\n",
              "      <th>13676</th>\n",
              "      <td>2.220408</td>\n",
              "      <td>44100.0</td>\n",
              "      <td>violin</td>\n",
              "    </tr>\n",
              "    <tr>\n",
              "      <th>13677</th>\n",
              "      <td>1.306122</td>\n",
              "      <td>44100.0</td>\n",
              "      <td>violin</td>\n",
              "    </tr>\n",
              "    <tr>\n",
              "      <th>13678</th>\n",
              "      <td>1.567347</td>\n",
              "      <td>44100.0</td>\n",
              "      <td>violin</td>\n",
              "    </tr>\n",
              "    <tr>\n",
              "      <th>13679</th>\n",
              "      <td>2.351020</td>\n",
              "      <td>44100.0</td>\n",
              "      <td>violin</td>\n",
              "    </tr>\n",
              "    <tr>\n",
              "      <th>13680</th>\n",
              "      <td>1.436735</td>\n",
              "      <td>44100.0</td>\n",
              "      <td>violin</td>\n",
              "    </tr>\n",
              "  </tbody>\n",
              "</table>\n",
              "<p>13681 rows × 3 columns</p>\n",
              "</div>"
            ],
            "text/plain": [
              "       duration  sampling rate   class\n",
              "0      3.474286        44100.0   banjo\n",
              "1      3.500408        44100.0   banjo\n",
              "2      3.813878        44100.0   banjo\n",
              "3      3.160816        44100.0   banjo\n",
              "4      3.866122        44100.0   banjo\n",
              "...         ...            ...     ...\n",
              "13676  2.220408        44100.0  violin\n",
              "13677  1.306122        44100.0  violin\n",
              "13678  1.567347        44100.0  violin\n",
              "13679  2.351020        44100.0  violin\n",
              "13680  1.436735        44100.0  violin\n",
              "\n",
              "[13681 rows x 3 columns]"
            ]
          },
          "metadata": {
            "tags": []
          },
          "execution_count": 6
        }
      ]
    },
    {
      "cell_type": "code",
      "metadata": {
        "id": "2gEve6sKqRgz",
        "colab_type": "code",
        "colab": {}
      },
      "source": [
        "filtr =  (df['class'] != 'percussion') & (df['duration']<=22)"
      ],
      "execution_count": null,
      "outputs": []
    },
    {
      "cell_type": "code",
      "metadata": {
        "id": "iLgTVqhcqRg2",
        "colab_type": "code",
        "colab": {},
        "outputId": "e2830af7-7422-4e53-e4bc-7dc8b4e51dbc"
      },
      "source": [
        "df[filtr]"
      ],
      "execution_count": null,
      "outputs": [
        {
          "output_type": "execute_result",
          "data": {
            "text/html": [
              "<div>\n",
              "<style scoped>\n",
              "    .dataframe tbody tr th:only-of-type {\n",
              "        vertical-align: middle;\n",
              "    }\n",
              "\n",
              "    .dataframe tbody tr th {\n",
              "        vertical-align: top;\n",
              "    }\n",
              "\n",
              "    .dataframe thead th {\n",
              "        text-align: right;\n",
              "    }\n",
              "</style>\n",
              "<table border=\"1\" class=\"dataframe\">\n",
              "  <thead>\n",
              "    <tr style=\"text-align: right;\">\n",
              "      <th></th>\n",
              "      <th>class</th>\n",
              "      <th>duration</th>\n",
              "      <th>filename</th>\n",
              "      <th>sampling rate</th>\n",
              "    </tr>\n",
              "  </thead>\n",
              "  <tbody>\n",
              "    <tr>\n",
              "      <th>0</th>\n",
              "      <td>banjo</td>\n",
              "      <td>3.474286</td>\n",
              "      <td>/Users/DELL/Updated_binder_enviro/all-samples/...</td>\n",
              "      <td>44100.0</td>\n",
              "    </tr>\n",
              "    <tr>\n",
              "      <th>1</th>\n",
              "      <td>banjo</td>\n",
              "      <td>3.500408</td>\n",
              "      <td>/Users/DELL/Updated_binder_enviro/all-samples/...</td>\n",
              "      <td>44100.0</td>\n",
              "    </tr>\n",
              "    <tr>\n",
              "      <th>2</th>\n",
              "      <td>banjo</td>\n",
              "      <td>3.813878</td>\n",
              "      <td>/Users/DELL/Updated_binder_enviro/all-samples/...</td>\n",
              "      <td>44100.0</td>\n",
              "    </tr>\n",
              "    <tr>\n",
              "      <th>3</th>\n",
              "      <td>banjo</td>\n",
              "      <td>3.160816</td>\n",
              "      <td>/Users/DELL/Updated_binder_enviro/all-samples/...</td>\n",
              "      <td>44100.0</td>\n",
              "    </tr>\n",
              "    <tr>\n",
              "      <th>4</th>\n",
              "      <td>banjo</td>\n",
              "      <td>3.866122</td>\n",
              "      <td>/Users/DELL/Updated_binder_enviro/all-samples/...</td>\n",
              "      <td>44100.0</td>\n",
              "    </tr>\n",
              "    <tr>\n",
              "      <th>...</th>\n",
              "      <td>...</td>\n",
              "      <td>...</td>\n",
              "      <td>...</td>\n",
              "      <td>...</td>\n",
              "    </tr>\n",
              "    <tr>\n",
              "      <th>13676</th>\n",
              "      <td>violin</td>\n",
              "      <td>2.220408</td>\n",
              "      <td>/Users/DELL/Updated_binder_enviro/all-samples/...</td>\n",
              "      <td>44100.0</td>\n",
              "    </tr>\n",
              "    <tr>\n",
              "      <th>13677</th>\n",
              "      <td>violin</td>\n",
              "      <td>1.306122</td>\n",
              "      <td>/Users/DELL/Updated_binder_enviro/all-samples/...</td>\n",
              "      <td>44100.0</td>\n",
              "    </tr>\n",
              "    <tr>\n",
              "      <th>13678</th>\n",
              "      <td>violin</td>\n",
              "      <td>1.567347</td>\n",
              "      <td>/Users/DELL/Updated_binder_enviro/all-samples/...</td>\n",
              "      <td>44100.0</td>\n",
              "    </tr>\n",
              "    <tr>\n",
              "      <th>13679</th>\n",
              "      <td>violin</td>\n",
              "      <td>2.351020</td>\n",
              "      <td>/Users/DELL/Updated_binder_enviro/all-samples/...</td>\n",
              "      <td>44100.0</td>\n",
              "    </tr>\n",
              "    <tr>\n",
              "      <th>13680</th>\n",
              "      <td>violin</td>\n",
              "      <td>1.436735</td>\n",
              "      <td>/Users/DELL/Updated_binder_enviro/all-samples/...</td>\n",
              "      <td>44100.0</td>\n",
              "    </tr>\n",
              "  </tbody>\n",
              "</table>\n",
              "<p>13480 rows × 4 columns</p>\n",
              "</div>"
            ],
            "text/plain": [
              "        class  duration                                           filename  \\\n",
              "0       banjo  3.474286  /Users/DELL/Updated_binder_enviro/all-samples/...   \n",
              "1       banjo  3.500408  /Users/DELL/Updated_binder_enviro/all-samples/...   \n",
              "2       banjo  3.813878  /Users/DELL/Updated_binder_enviro/all-samples/...   \n",
              "3       banjo  3.160816  /Users/DELL/Updated_binder_enviro/all-samples/...   \n",
              "4       banjo  3.866122  /Users/DELL/Updated_binder_enviro/all-samples/...   \n",
              "...       ...       ...                                                ...   \n",
              "13676  violin  2.220408  /Users/DELL/Updated_binder_enviro/all-samples/...   \n",
              "13677  violin  1.306122  /Users/DELL/Updated_binder_enviro/all-samples/...   \n",
              "13678  violin  1.567347  /Users/DELL/Updated_binder_enviro/all-samples/...   \n",
              "13679  violin  2.351020  /Users/DELL/Updated_binder_enviro/all-samples/...   \n",
              "13680  violin  1.436735  /Users/DELL/Updated_binder_enviro/all-samples/...   \n",
              "\n",
              "       sampling rate  \n",
              "0            44100.0  \n",
              "1            44100.0  \n",
              "2            44100.0  \n",
              "3            44100.0  \n",
              "4            44100.0  \n",
              "...              ...  \n",
              "13676        44100.0  \n",
              "13677        44100.0  \n",
              "13678        44100.0  \n",
              "13679        44100.0  \n",
              "13680        44100.0  \n",
              "\n",
              "[13480 rows x 4 columns]"
            ]
          },
          "metadata": {
            "tags": []
          },
          "execution_count": 8
        }
      ]
    },
    {
      "cell_type": "code",
      "metadata": {
        "id": "dO5gNL_eqRg5",
        "colab_type": "code",
        "colab": {}
      },
      "source": [
        "s = df[filtr]"
      ],
      "execution_count": null,
      "outputs": []
    },
    {
      "cell_type": "code",
      "metadata": {
        "id": "g6isSWEeqRg8",
        "colab_type": "code",
        "colab": {},
        "outputId": "ed2264bf-c379-4c58-f5f5-3b56acc346a0"
      },
      "source": [
        "print(s)"
      ],
      "execution_count": null,
      "outputs": [
        {
          "output_type": "stream",
          "text": [
            "        class  duration                                           filename  \\\n",
            "0       banjo  3.474286  /Users/DELL/Updated_binder_enviro/all-samples/...   \n",
            "1       banjo  3.500408  /Users/DELL/Updated_binder_enviro/all-samples/...   \n",
            "2       banjo  3.813878  /Users/DELL/Updated_binder_enviro/all-samples/...   \n",
            "3       banjo  3.160816  /Users/DELL/Updated_binder_enviro/all-samples/...   \n",
            "4       banjo  3.866122  /Users/DELL/Updated_binder_enviro/all-samples/...   \n",
            "...       ...       ...                                                ...   \n",
            "13676  violin  2.220408  /Users/DELL/Updated_binder_enviro/all-samples/...   \n",
            "13677  violin  1.306122  /Users/DELL/Updated_binder_enviro/all-samples/...   \n",
            "13678  violin  1.567347  /Users/DELL/Updated_binder_enviro/all-samples/...   \n",
            "13679  violin  2.351020  /Users/DELL/Updated_binder_enviro/all-samples/...   \n",
            "13680  violin  1.436735  /Users/DELL/Updated_binder_enviro/all-samples/...   \n",
            "\n",
            "       sampling rate  \n",
            "0            44100.0  \n",
            "1            44100.0  \n",
            "2            44100.0  \n",
            "3            44100.0  \n",
            "4            44100.0  \n",
            "...              ...  \n",
            "13676        44100.0  \n",
            "13677        44100.0  \n",
            "13678        44100.0  \n",
            "13679        44100.0  \n",
            "13680        44100.0  \n",
            "\n",
            "[13480 rows x 4 columns]\n"
          ],
          "name": "stdout"
        }
      ]
    },
    {
      "cell_type": "markdown",
      "metadata": {
        "id": "ppuPfQn0qRg-",
        "colab_type": "text"
      },
      "source": [
        "# Training from here"
      ]
    },
    {
      "cell_type": "code",
      "metadata": {
        "id": "h38EI2i1qRg_",
        "colab_type": "code",
        "colab": {},
        "outputId": "59255876-42cb-4fa1-eea7-524928b963dd"
      },
      "source": [
        "import numpy as np\n",
        "from sklearn.model_selection import StratifiedShuffleSplit\n",
        "\n",
        "sss = StratifiedShuffleSplit(n_splits=5, test_size=0.25, random_state=42)\n",
        "sss.get_n_splits(s)"
      ],
      "execution_count": null,
      "outputs": [
        {
          "output_type": "execute_result",
          "data": {
            "text/plain": [
              "5"
            ]
          },
          "metadata": {
            "tags": []
          },
          "execution_count": 11
        }
      ]
    },
    {
      "cell_type": "markdown",
      "metadata": {
        "id": "KvMaoqwJqi1r",
        "colab_type": "text"
      },
      "source": [
        "We don't need 5 different splits, just 1 split is sufficient, so n_splits=1"
      ]
    },
    {
      "cell_type": "code",
      "metadata": {
        "id": "tBSs7uX4qRhB",
        "colab_type": "code",
        "colab": {},
        "outputId": "99e74971-c88e-48a2-eb1c-aca190254cbc"
      },
      "source": [
        "print(sss)"
      ],
      "execution_count": null,
      "outputs": [
        {
          "output_type": "stream",
          "text": [
            "StratifiedShuffleSplit(n_splits=5, random_state=42, test_size=0.25,\n",
            "            train_size=None)\n"
          ],
          "name": "stdout"
        }
      ]
    },
    {
      "cell_type": "code",
      "metadata": {
        "id": "N8nvgm26qRhE",
        "colab_type": "code",
        "colab": {},
        "outputId": "af52a643-b20d-4b1c-f4bf-7e741eede03b"
      },
      "source": [
        "# In this context, X and y are not defined.\n",
        "# What you are getting from sss.splits() are indexes so that you can use it with a python list or dataframe \n",
        "# In your case your dataset is called 's', so you must index 's' and not indefined variables\n",
        "# try this if it works, I didn't have time to try\n",
        "for train_index, test_index in sss.split(s, s['class']):\n",
        "    print(\"TRAIN:\", train_index, \"TEST:\", test_index)\n",
        "    train_set = s.iloc[train_index] # https://pandas.pydata.org/pandas-docs/stable/reference/api/pandas.DataFrame.iloc.html\n",
        "    test_set = s.iloc[test_index] # I recommend you to revise about data manipulation and indexing in pandas https://pandas.pydata.org/pandas-docs/stable/user_guide/indexing.html\n",
        "    #X_train, X_test = s[train_index], s[test_index]\n",
        "    #y_train, y_test = s[train_index], s[test_index]\n",
        "    \n",
        "\n",
        "    #X_train, X_test = X[train_index], X[test_index]\n",
        "    #y_train, y_test = y[train_index], y[test_index]"
      ],
      "execution_count": null,
      "outputs": [
        {
          "output_type": "stream",
          "text": [
            "TRAIN: [11164  8319  3592 ...  6078  1442 10623] TEST: [13189 10326 12673 ... 10476  9639 10461]\n"
          ],
          "name": "stdout"
        },
        {
          "output_type": "error",
          "ename": "NameError",
          "evalue": "name 'X' is not defined",
          "traceback": [
            "\u001b[1;31m---------------------------------------------------------------------------\u001b[0m",
            "\u001b[1;31mNameError\u001b[0m                                 Traceback (most recent call last)",
            "\u001b[1;32m<ipython-input-13-e1a77b5b76f0>\u001b[0m in \u001b[0;36m<module>\u001b[1;34m\u001b[0m\n\u001b[0;32m      3\u001b[0m     \u001b[1;31m#train_set = s.loc[train_index]\u001b[0m\u001b[1;33m\u001b[0m\u001b[1;33m\u001b[0m\u001b[1;33m\u001b[0m\u001b[0m\n\u001b[0;32m      4\u001b[0m     \u001b[1;31m#test_set = s.loc[test_index]\u001b[0m\u001b[1;33m\u001b[0m\u001b[1;33m\u001b[0m\u001b[1;33m\u001b[0m\u001b[0m\n\u001b[1;32m----> 5\u001b[1;33m     \u001b[0mX_train\u001b[0m\u001b[1;33m,\u001b[0m \u001b[0mX_test\u001b[0m \u001b[1;33m=\u001b[0m \u001b[0mX\u001b[0m\u001b[1;33m[\u001b[0m\u001b[0mtrain_index\u001b[0m\u001b[1;33m]\u001b[0m\u001b[1;33m,\u001b[0m \u001b[0mX\u001b[0m\u001b[1;33m[\u001b[0m\u001b[0mtest_index\u001b[0m\u001b[1;33m]\u001b[0m\u001b[1;33m\u001b[0m\u001b[1;33m\u001b[0m\u001b[0m\n\u001b[0m\u001b[0;32m      6\u001b[0m     \u001b[0my_train\u001b[0m\u001b[1;33m,\u001b[0m \u001b[0my_test\u001b[0m \u001b[1;33m=\u001b[0m \u001b[0my\u001b[0m\u001b[1;33m[\u001b[0m\u001b[0mtrain_index\u001b[0m\u001b[1;33m]\u001b[0m\u001b[1;33m,\u001b[0m \u001b[0my\u001b[0m\u001b[1;33m[\u001b[0m\u001b[0mtest_index\u001b[0m\u001b[1;33m]\u001b[0m\u001b[1;33m\u001b[0m\u001b[1;33m\u001b[0m\u001b[0m\n\u001b[0;32m      7\u001b[0m \u001b[1;33m\u001b[0m\u001b[0m\n",
            "\u001b[1;31mNameError\u001b[0m: name 'X' is not defined"
          ]
        }
      ]
    },
    {
      "cell_type": "code",
      "metadata": {
        "id": "dDqPVb4TqRhL",
        "colab_type": "code",
        "colab": {
          "base_uri": "https://localhost:8080/",
          "height": 690
        },
        "outputId": "c8d3a247-1dfe-42d2-f916-5eb76749a13e"
      },
      "source": [
        "df.loc[0]"
      ],
      "execution_count": 28,
      "outputs": [
        {
          "output_type": "error",
          "ename": "KeyError",
          "evalue": "ignored",
          "traceback": [
            "\u001b[0;31m---------------------------------------------------------------------------\u001b[0m",
            "\u001b[0;31mKeyError\u001b[0m                                  Traceback (most recent call last)",
            "\u001b[0;32m/usr/local/lib/python3.6/dist-packages/pandas/core/indexes/base.py\u001b[0m in \u001b[0;36mget_loc\u001b[0;34m(self, key, method, tolerance)\u001b[0m\n\u001b[1;32m   2645\u001b[0m             \u001b[0;32mtry\u001b[0m\u001b[0;34m:\u001b[0m\u001b[0;34m\u001b[0m\u001b[0;34m\u001b[0m\u001b[0m\n\u001b[0;32m-> 2646\u001b[0;31m                 \u001b[0;32mreturn\u001b[0m \u001b[0mself\u001b[0m\u001b[0;34m.\u001b[0m\u001b[0m_engine\u001b[0m\u001b[0;34m.\u001b[0m\u001b[0mget_loc\u001b[0m\u001b[0;34m(\u001b[0m\u001b[0mkey\u001b[0m\u001b[0;34m)\u001b[0m\u001b[0;34m\u001b[0m\u001b[0;34m\u001b[0m\u001b[0m\n\u001b[0m\u001b[1;32m   2647\u001b[0m             \u001b[0;32mexcept\u001b[0m \u001b[0mKeyError\u001b[0m\u001b[0;34m:\u001b[0m\u001b[0;34m\u001b[0m\u001b[0;34m\u001b[0m\u001b[0m\n",
            "\u001b[0;32mpandas/_libs/index.pyx\u001b[0m in \u001b[0;36mpandas._libs.index.IndexEngine.get_loc\u001b[0;34m()\u001b[0m\n",
            "\u001b[0;32mpandas/_libs/index.pyx\u001b[0m in \u001b[0;36mpandas._libs.index.IndexEngine.get_loc\u001b[0;34m()\u001b[0m\n",
            "\u001b[0;32mpandas/_libs/hashtable_class_helper.pxi\u001b[0m in \u001b[0;36mpandas._libs.hashtable.PyObjectHashTable.get_item\u001b[0;34m()\u001b[0m\n",
            "\u001b[0;32mpandas/_libs/hashtable_class_helper.pxi\u001b[0m in \u001b[0;36mpandas._libs.hashtable.PyObjectHashTable.get_item\u001b[0;34m()\u001b[0m\n",
            "\u001b[0;31mKeyError\u001b[0m: 0",
            "\nDuring handling of the above exception, another exception occurred:\n",
            "\u001b[0;31mKeyError\u001b[0m                                  Traceback (most recent call last)",
            "\u001b[0;32m<ipython-input-28-7eaf75073732>\u001b[0m in \u001b[0;36m<module>\u001b[0;34m()\u001b[0m\n\u001b[0;32m----> 1\u001b[0;31m \u001b[0mdf\u001b[0m\u001b[0;34m.\u001b[0m\u001b[0mloc\u001b[0m\u001b[0;34m[\u001b[0m\u001b[0;36m0\u001b[0m\u001b[0;34m]\u001b[0m\u001b[0;34m\u001b[0m\u001b[0;34m\u001b[0m\u001b[0m\n\u001b[0m",
            "\u001b[0;32m/usr/local/lib/python3.6/dist-packages/pandas/core/indexing.py\u001b[0m in \u001b[0;36m__getitem__\u001b[0;34m(self, key)\u001b[0m\n\u001b[1;32m   1766\u001b[0m \u001b[0;34m\u001b[0m\u001b[0m\n\u001b[1;32m   1767\u001b[0m             \u001b[0mmaybe_callable\u001b[0m \u001b[0;34m=\u001b[0m \u001b[0mcom\u001b[0m\u001b[0;34m.\u001b[0m\u001b[0mapply_if_callable\u001b[0m\u001b[0;34m(\u001b[0m\u001b[0mkey\u001b[0m\u001b[0;34m,\u001b[0m \u001b[0mself\u001b[0m\u001b[0;34m.\u001b[0m\u001b[0mobj\u001b[0m\u001b[0;34m)\u001b[0m\u001b[0;34m\u001b[0m\u001b[0;34m\u001b[0m\u001b[0m\n\u001b[0;32m-> 1768\u001b[0;31m             \u001b[0;32mreturn\u001b[0m \u001b[0mself\u001b[0m\u001b[0;34m.\u001b[0m\u001b[0m_getitem_axis\u001b[0m\u001b[0;34m(\u001b[0m\u001b[0mmaybe_callable\u001b[0m\u001b[0;34m,\u001b[0m \u001b[0maxis\u001b[0m\u001b[0;34m=\u001b[0m\u001b[0maxis\u001b[0m\u001b[0;34m)\u001b[0m\u001b[0;34m\u001b[0m\u001b[0;34m\u001b[0m\u001b[0m\n\u001b[0m\u001b[1;32m   1769\u001b[0m \u001b[0;34m\u001b[0m\u001b[0m\n\u001b[1;32m   1770\u001b[0m     \u001b[0;32mdef\u001b[0m \u001b[0m_is_scalar_access\u001b[0m\u001b[0;34m(\u001b[0m\u001b[0mself\u001b[0m\u001b[0;34m,\u001b[0m \u001b[0mkey\u001b[0m\u001b[0;34m:\u001b[0m \u001b[0mTuple\u001b[0m\u001b[0;34m)\u001b[0m\u001b[0;34m:\u001b[0m\u001b[0;34m\u001b[0m\u001b[0;34m\u001b[0m\u001b[0m\n",
            "\u001b[0;32m/usr/local/lib/python3.6/dist-packages/pandas/core/indexing.py\u001b[0m in \u001b[0;36m_getitem_axis\u001b[0;34m(self, key, axis)\u001b[0m\n\u001b[1;32m   1963\u001b[0m         \u001b[0;31m# fall thru to straight lookup\u001b[0m\u001b[0;34m\u001b[0m\u001b[0;34m\u001b[0m\u001b[0;34m\u001b[0m\u001b[0m\n\u001b[1;32m   1964\u001b[0m         \u001b[0mself\u001b[0m\u001b[0;34m.\u001b[0m\u001b[0m_validate_key\u001b[0m\u001b[0;34m(\u001b[0m\u001b[0mkey\u001b[0m\u001b[0;34m,\u001b[0m \u001b[0maxis\u001b[0m\u001b[0;34m)\u001b[0m\u001b[0;34m\u001b[0m\u001b[0;34m\u001b[0m\u001b[0m\n\u001b[0;32m-> 1965\u001b[0;31m         \u001b[0;32mreturn\u001b[0m \u001b[0mself\u001b[0m\u001b[0;34m.\u001b[0m\u001b[0m_get_label\u001b[0m\u001b[0;34m(\u001b[0m\u001b[0mkey\u001b[0m\u001b[0;34m,\u001b[0m \u001b[0maxis\u001b[0m\u001b[0;34m=\u001b[0m\u001b[0maxis\u001b[0m\u001b[0;34m)\u001b[0m\u001b[0;34m\u001b[0m\u001b[0;34m\u001b[0m\u001b[0m\n\u001b[0m\u001b[1;32m   1966\u001b[0m \u001b[0;34m\u001b[0m\u001b[0m\n\u001b[1;32m   1967\u001b[0m \u001b[0;34m\u001b[0m\u001b[0m\n",
            "\u001b[0;32m/usr/local/lib/python3.6/dist-packages/pandas/core/indexing.py\u001b[0m in \u001b[0;36m_get_label\u001b[0;34m(self, label, axis)\u001b[0m\n\u001b[1;32m    623\u001b[0m             \u001b[0;32mraise\u001b[0m \u001b[0mIndexingError\u001b[0m\u001b[0;34m(\u001b[0m\u001b[0;34m\"no slices here, handle elsewhere\"\u001b[0m\u001b[0;34m)\u001b[0m\u001b[0;34m\u001b[0m\u001b[0;34m\u001b[0m\u001b[0m\n\u001b[1;32m    624\u001b[0m \u001b[0;34m\u001b[0m\u001b[0m\n\u001b[0;32m--> 625\u001b[0;31m         \u001b[0;32mreturn\u001b[0m \u001b[0mself\u001b[0m\u001b[0;34m.\u001b[0m\u001b[0mobj\u001b[0m\u001b[0;34m.\u001b[0m\u001b[0m_xs\u001b[0m\u001b[0;34m(\u001b[0m\u001b[0mlabel\u001b[0m\u001b[0;34m,\u001b[0m \u001b[0maxis\u001b[0m\u001b[0;34m=\u001b[0m\u001b[0maxis\u001b[0m\u001b[0;34m)\u001b[0m\u001b[0;34m\u001b[0m\u001b[0;34m\u001b[0m\u001b[0m\n\u001b[0m\u001b[1;32m    626\u001b[0m \u001b[0;34m\u001b[0m\u001b[0m\n\u001b[1;32m    627\u001b[0m     \u001b[0;32mdef\u001b[0m \u001b[0m_get_loc\u001b[0m\u001b[0;34m(\u001b[0m\u001b[0mself\u001b[0m\u001b[0;34m,\u001b[0m \u001b[0mkey\u001b[0m\u001b[0;34m:\u001b[0m \u001b[0mint\u001b[0m\u001b[0;34m,\u001b[0m \u001b[0maxis\u001b[0m\u001b[0;34m:\u001b[0m \u001b[0mint\u001b[0m\u001b[0;34m)\u001b[0m\u001b[0;34m:\u001b[0m\u001b[0;34m\u001b[0m\u001b[0;34m\u001b[0m\u001b[0m\n",
            "\u001b[0;32m/usr/local/lib/python3.6/dist-packages/pandas/core/generic.py\u001b[0m in \u001b[0;36mxs\u001b[0;34m(self, key, axis, level, drop_level)\u001b[0m\n\u001b[1;32m   3535\u001b[0m             \u001b[0mloc\u001b[0m\u001b[0;34m,\u001b[0m \u001b[0mnew_index\u001b[0m \u001b[0;34m=\u001b[0m \u001b[0mself\u001b[0m\u001b[0;34m.\u001b[0m\u001b[0mindex\u001b[0m\u001b[0;34m.\u001b[0m\u001b[0mget_loc_level\u001b[0m\u001b[0;34m(\u001b[0m\u001b[0mkey\u001b[0m\u001b[0;34m,\u001b[0m \u001b[0mdrop_level\u001b[0m\u001b[0;34m=\u001b[0m\u001b[0mdrop_level\u001b[0m\u001b[0;34m)\u001b[0m\u001b[0;34m\u001b[0m\u001b[0;34m\u001b[0m\u001b[0m\n\u001b[1;32m   3536\u001b[0m         \u001b[0;32melse\u001b[0m\u001b[0;34m:\u001b[0m\u001b[0;34m\u001b[0m\u001b[0;34m\u001b[0m\u001b[0m\n\u001b[0;32m-> 3537\u001b[0;31m             \u001b[0mloc\u001b[0m \u001b[0;34m=\u001b[0m \u001b[0mself\u001b[0m\u001b[0;34m.\u001b[0m\u001b[0mindex\u001b[0m\u001b[0;34m.\u001b[0m\u001b[0mget_loc\u001b[0m\u001b[0;34m(\u001b[0m\u001b[0mkey\u001b[0m\u001b[0;34m)\u001b[0m\u001b[0;34m\u001b[0m\u001b[0;34m\u001b[0m\u001b[0m\n\u001b[0m\u001b[1;32m   3538\u001b[0m \u001b[0;34m\u001b[0m\u001b[0m\n\u001b[1;32m   3539\u001b[0m             \u001b[0;32mif\u001b[0m \u001b[0misinstance\u001b[0m\u001b[0;34m(\u001b[0m\u001b[0mloc\u001b[0m\u001b[0;34m,\u001b[0m \u001b[0mnp\u001b[0m\u001b[0;34m.\u001b[0m\u001b[0mndarray\u001b[0m\u001b[0;34m)\u001b[0m\u001b[0;34m:\u001b[0m\u001b[0;34m\u001b[0m\u001b[0;34m\u001b[0m\u001b[0m\n",
            "\u001b[0;32m/usr/local/lib/python3.6/dist-packages/pandas/core/indexes/base.py\u001b[0m in \u001b[0;36mget_loc\u001b[0;34m(self, key, method, tolerance)\u001b[0m\n\u001b[1;32m   2646\u001b[0m                 \u001b[0;32mreturn\u001b[0m \u001b[0mself\u001b[0m\u001b[0;34m.\u001b[0m\u001b[0m_engine\u001b[0m\u001b[0;34m.\u001b[0m\u001b[0mget_loc\u001b[0m\u001b[0;34m(\u001b[0m\u001b[0mkey\u001b[0m\u001b[0;34m)\u001b[0m\u001b[0;34m\u001b[0m\u001b[0;34m\u001b[0m\u001b[0m\n\u001b[1;32m   2647\u001b[0m             \u001b[0;32mexcept\u001b[0m \u001b[0mKeyError\u001b[0m\u001b[0;34m:\u001b[0m\u001b[0;34m\u001b[0m\u001b[0;34m\u001b[0m\u001b[0m\n\u001b[0;32m-> 2648\u001b[0;31m                 \u001b[0;32mreturn\u001b[0m \u001b[0mself\u001b[0m\u001b[0;34m.\u001b[0m\u001b[0m_engine\u001b[0m\u001b[0;34m.\u001b[0m\u001b[0mget_loc\u001b[0m\u001b[0;34m(\u001b[0m\u001b[0mself\u001b[0m\u001b[0;34m.\u001b[0m\u001b[0m_maybe_cast_indexer\u001b[0m\u001b[0;34m(\u001b[0m\u001b[0mkey\u001b[0m\u001b[0;34m)\u001b[0m\u001b[0;34m)\u001b[0m\u001b[0;34m\u001b[0m\u001b[0;34m\u001b[0m\u001b[0m\n\u001b[0m\u001b[1;32m   2649\u001b[0m         \u001b[0mindexer\u001b[0m \u001b[0;34m=\u001b[0m \u001b[0mself\u001b[0m\u001b[0;34m.\u001b[0m\u001b[0mget_indexer\u001b[0m\u001b[0;34m(\u001b[0m\u001b[0;34m[\u001b[0m\u001b[0mkey\u001b[0m\u001b[0;34m]\u001b[0m\u001b[0;34m,\u001b[0m \u001b[0mmethod\u001b[0m\u001b[0;34m=\u001b[0m\u001b[0mmethod\u001b[0m\u001b[0;34m,\u001b[0m \u001b[0mtolerance\u001b[0m\u001b[0;34m=\u001b[0m\u001b[0mtolerance\u001b[0m\u001b[0;34m)\u001b[0m\u001b[0;34m\u001b[0m\u001b[0;34m\u001b[0m\u001b[0m\n\u001b[1;32m   2650\u001b[0m         \u001b[0;32mif\u001b[0m \u001b[0mindexer\u001b[0m\u001b[0;34m.\u001b[0m\u001b[0mndim\u001b[0m \u001b[0;34m>\u001b[0m \u001b[0;36m1\u001b[0m \u001b[0;32mor\u001b[0m \u001b[0mindexer\u001b[0m\u001b[0;34m.\u001b[0m\u001b[0msize\u001b[0m \u001b[0;34m>\u001b[0m \u001b[0;36m1\u001b[0m\u001b[0;34m:\u001b[0m\u001b[0;34m\u001b[0m\u001b[0;34m\u001b[0m\u001b[0m\n",
            "\u001b[0;32mpandas/_libs/index.pyx\u001b[0m in \u001b[0;36mpandas._libs.index.IndexEngine.get_loc\u001b[0;34m()\u001b[0m\n",
            "\u001b[0;32mpandas/_libs/index.pyx\u001b[0m in \u001b[0;36mpandas._libs.index.IndexEngine.get_loc\u001b[0;34m()\u001b[0m\n",
            "\u001b[0;32mpandas/_libs/hashtable_class_helper.pxi\u001b[0m in \u001b[0;36mpandas._libs.hashtable.PyObjectHashTable.get_item\u001b[0;34m()\u001b[0m\n",
            "\u001b[0;32mpandas/_libs/hashtable_class_helper.pxi\u001b[0m in \u001b[0;36mpandas._libs.hashtable.PyObjectHashTable.get_item\u001b[0;34m()\u001b[0m\n",
            "\u001b[0;31mKeyError\u001b[0m: 0"
          ]
        }
      ]
    },
    {
      "cell_type": "code",
      "metadata": {
        "id": "IIFBm1uIqRhN",
        "colab_type": "code",
        "colab": {
          "base_uri": "https://localhost:8080/",
          "height": 34
        },
        "outputId": "f025f5dc-43e7-4145-86ae-fe5e68423415"
      },
      "source": [
        "test"
      ],
      "execution_count": 23,
      "outputs": [
        {
          "output_type": "execute_result",
          "data": {
            "text/plain": [
              "{'a2': 3, 'b2': 3, 'c2': 5, 'd2': 6}"
            ]
          },
          "metadata": {
            "tags": []
          },
          "execution_count": 23
        }
      ]
    },
    {
      "cell_type": "code",
      "metadata": {
        "id": "CWsNCQslqRhP",
        "colab_type": "code",
        "colab": {},
        "outputId": "8d88d84e-f1ee-4738-f7d4-217803a7284f"
      },
      "source": [
        "df.loc[[0,1],['filename','class','duration']]"
      ],
      "execution_count": null,
      "outputs": [
        {
          "output_type": "execute_result",
          "data": {
            "text/html": [
              "<div>\n",
              "<style scoped>\n",
              "    .dataframe tbody tr th:only-of-type {\n",
              "        vertical-align: middle;\n",
              "    }\n",
              "\n",
              "    .dataframe tbody tr th {\n",
              "        vertical-align: top;\n",
              "    }\n",
              "\n",
              "    .dataframe thead th {\n",
              "        text-align: right;\n",
              "    }\n",
              "</style>\n",
              "<table border=\"1\" class=\"dataframe\">\n",
              "  <thead>\n",
              "    <tr style=\"text-align: right;\">\n",
              "      <th></th>\n",
              "      <th>filename</th>\n",
              "      <th>class</th>\n",
              "      <th>duration</th>\n",
              "    </tr>\n",
              "  </thead>\n",
              "  <tbody>\n",
              "    <tr>\n",
              "      <th>0</th>\n",
              "      <td>/Users/DELL/Updated_binder_enviro/all-samples/...</td>\n",
              "      <td>banjo</td>\n",
              "      <td>3.474286</td>\n",
              "    </tr>\n",
              "    <tr>\n",
              "      <th>1</th>\n",
              "      <td>/Users/DELL/Updated_binder_enviro/all-samples/...</td>\n",
              "      <td>banjo</td>\n",
              "      <td>3.500408</td>\n",
              "    </tr>\n",
              "  </tbody>\n",
              "</table>\n",
              "</div>"
            ],
            "text/plain": [
              "                                            filename  class  duration\n",
              "0  /Users/DELL/Updated_binder_enviro/all-samples/...  banjo  3.474286\n",
              "1  /Users/DELL/Updated_binder_enviro/all-samples/...  banjo  3.500408"
            ]
          },
          "metadata": {
            "tags": []
          },
          "execution_count": 29
        }
      ]
    },
    {
      "cell_type": "code",
      "metadata": {
        "id": "QAjaoNKKqRhR",
        "colab_type": "code",
        "colab": {},
        "outputId": "cb2c72d2-c899-4d22-a947-ff36e8d710b6"
      },
      "source": [
        "df.shape"
      ],
      "execution_count": null,
      "outputs": [
        {
          "output_type": "execute_result",
          "data": {
            "text/plain": [
              "(13681, 4)"
            ]
          },
          "metadata": {
            "tags": []
          },
          "execution_count": 30
        }
      ]
    },
    {
      "cell_type": "code",
      "metadata": {
        "id": "ue6otds6qRhT",
        "colab_type": "code",
        "colab": {},
        "outputId": "f15e16db-2c79-45b8-bd5f-02d230f754e2"
      },
      "source": [
        "df.loc[0:2,'class':'filename']"
      ],
      "execution_count": null,
      "outputs": [
        {
          "output_type": "execute_result",
          "data": {
            "text/html": [
              "<div>\n",
              "<style scoped>\n",
              "    .dataframe tbody tr th:only-of-type {\n",
              "        vertical-align: middle;\n",
              "    }\n",
              "\n",
              "    .dataframe tbody tr th {\n",
              "        vertical-align: top;\n",
              "    }\n",
              "\n",
              "    .dataframe thead th {\n",
              "        text-align: right;\n",
              "    }\n",
              "</style>\n",
              "<table border=\"1\" class=\"dataframe\">\n",
              "  <thead>\n",
              "    <tr style=\"text-align: right;\">\n",
              "      <th></th>\n",
              "      <th>class</th>\n",
              "      <th>duration</th>\n",
              "      <th>filename</th>\n",
              "    </tr>\n",
              "  </thead>\n",
              "  <tbody>\n",
              "    <tr>\n",
              "      <th>0</th>\n",
              "      <td>banjo</td>\n",
              "      <td>3.474286</td>\n",
              "      <td>/Users/DELL/Updated_binder_enviro/all-samples/...</td>\n",
              "    </tr>\n",
              "    <tr>\n",
              "      <th>1</th>\n",
              "      <td>banjo</td>\n",
              "      <td>3.500408</td>\n",
              "      <td>/Users/DELL/Updated_binder_enviro/all-samples/...</td>\n",
              "    </tr>\n",
              "    <tr>\n",
              "      <th>2</th>\n",
              "      <td>banjo</td>\n",
              "      <td>3.813878</td>\n",
              "      <td>/Users/DELL/Updated_binder_enviro/all-samples/...</td>\n",
              "    </tr>\n",
              "  </tbody>\n",
              "</table>\n",
              "</div>"
            ],
            "text/plain": [
              "   class  duration                                           filename\n",
              "0  banjo  3.474286  /Users/DELL/Updated_binder_enviro/all-samples/...\n",
              "1  banjo  3.500408  /Users/DELL/Updated_binder_enviro/all-samples/...\n",
              "2  banjo  3.813878  /Users/DELL/Updated_binder_enviro/all-samples/..."
            ]
          },
          "metadata": {
            "tags": []
          },
          "execution_count": 38
        }
      ]
    },
    {
      "cell_type": "code",
      "metadata": {
        "id": "yOIDb5dTqRhX",
        "colab_type": "code",
        "colab": {}
      },
      "source": [
        "df.set_index('filename',inplace=True)"
      ],
      "execution_count": null,
      "outputs": []
    },
    {
      "cell_type": "code",
      "metadata": {
        "id": "cGzdwlEDqRhZ",
        "colab_type": "code",
        "colab": {},
        "outputId": "4520fe5f-802e-4b7d-aca3-f9539191d037"
      },
      "source": [
        "df"
      ],
      "execution_count": null,
      "outputs": [
        {
          "output_type": "execute_result",
          "data": {
            "text/html": [
              "<div>\n",
              "<style scoped>\n",
              "    .dataframe tbody tr th:only-of-type {\n",
              "        vertical-align: middle;\n",
              "    }\n",
              "\n",
              "    .dataframe tbody tr th {\n",
              "        vertical-align: top;\n",
              "    }\n",
              "\n",
              "    .dataframe thead th {\n",
              "        text-align: right;\n",
              "    }\n",
              "</style>\n",
              "<table border=\"1\" class=\"dataframe\">\n",
              "  <thead>\n",
              "    <tr style=\"text-align: right;\">\n",
              "      <th></th>\n",
              "      <th>class</th>\n",
              "      <th>duration</th>\n",
              "      <th>sampling rate</th>\n",
              "    </tr>\n",
              "    <tr>\n",
              "      <th>filename</th>\n",
              "      <th></th>\n",
              "      <th></th>\n",
              "      <th></th>\n",
              "    </tr>\n",
              "  </thead>\n",
              "  <tbody>\n",
              "    <tr>\n",
              "      <th>/Users/DELL/Updated_binder_enviro/all-samples/banjo\\banjo_A3_very-long_forte_normal.npy</th>\n",
              "      <td>banjo</td>\n",
              "      <td>3.474286</td>\n",
              "      <td>44100.0</td>\n",
              "    </tr>\n",
              "    <tr>\n",
              "      <th>/Users/DELL/Updated_binder_enviro/all-samples/banjo\\banjo_A3_very-long_piano_normal.npy</th>\n",
              "      <td>banjo</td>\n",
              "      <td>3.500408</td>\n",
              "      <td>44100.0</td>\n",
              "    </tr>\n",
              "    <tr>\n",
              "      <th>/Users/DELL/Updated_binder_enviro/all-samples/banjo\\banjo_A4_very-long_forte_normal.npy</th>\n",
              "      <td>banjo</td>\n",
              "      <td>3.813878</td>\n",
              "      <td>44100.0</td>\n",
              "    </tr>\n",
              "    <tr>\n",
              "      <th>/Users/DELL/Updated_binder_enviro/all-samples/banjo\\banjo_A4_very-long_piano_normal.npy</th>\n",
              "      <td>banjo</td>\n",
              "      <td>3.160816</td>\n",
              "      <td>44100.0</td>\n",
              "    </tr>\n",
              "    <tr>\n",
              "      <th>/Users/DELL/Updated_binder_enviro/all-samples/banjo\\banjo_A5_very-long_forte_normal.npy</th>\n",
              "      <td>banjo</td>\n",
              "      <td>3.866122</td>\n",
              "      <td>44100.0</td>\n",
              "    </tr>\n",
              "    <tr>\n",
              "      <th>...</th>\n",
              "      <td>...</td>\n",
              "      <td>...</td>\n",
              "      <td>...</td>\n",
              "    </tr>\n",
              "    <tr>\n",
              "      <th>/Users/DELL/Updated_binder_enviro/all-samples/violin\\violin_Gs6_1_mezzo-forte_natural-harmonic.npy</th>\n",
              "      <td>violin</td>\n",
              "      <td>2.220408</td>\n",
              "      <td>44100.0</td>\n",
              "    </tr>\n",
              "    <tr>\n",
              "      <th>/Users/DELL/Updated_binder_enviro/all-samples/violin\\violin_Gs6_1_piano_arco-sul-tasto.npy</th>\n",
              "      <td>violin</td>\n",
              "      <td>1.306122</td>\n",
              "      <td>44100.0</td>\n",
              "    </tr>\n",
              "    <tr>\n",
              "      <th>/Users/DELL/Updated_binder_enviro/all-samples/violin\\violin_Gs6_1_piano_natural-harmonic.npy</th>\n",
              "      <td>violin</td>\n",
              "      <td>1.567347</td>\n",
              "      <td>44100.0</td>\n",
              "    </tr>\n",
              "    <tr>\n",
              "      <th>/Users/DELL/Updated_binder_enviro/all-samples/violin\\violin_Gs6_phrase_pianissimo_arco-normal.npy</th>\n",
              "      <td>violin</td>\n",
              "      <td>2.351020</td>\n",
              "      <td>44100.0</td>\n",
              "    </tr>\n",
              "    <tr>\n",
              "      <th>/Users/DELL/Updated_binder_enviro/all-samples/violin\\violin_Gs7_1_mezzo-forte_natural-harmonic.npy</th>\n",
              "      <td>violin</td>\n",
              "      <td>1.436735</td>\n",
              "      <td>44100.0</td>\n",
              "    </tr>\n",
              "  </tbody>\n",
              "</table>\n",
              "<p>13681 rows × 3 columns</p>\n",
              "</div>"
            ],
            "text/plain": [
              "                                                     class  duration  \\\n",
              "filename                                                               \n",
              "/Users/DELL/Updated_binder_enviro/all-samples/b...   banjo  3.474286   \n",
              "/Users/DELL/Updated_binder_enviro/all-samples/b...   banjo  3.500408   \n",
              "/Users/DELL/Updated_binder_enviro/all-samples/b...   banjo  3.813878   \n",
              "/Users/DELL/Updated_binder_enviro/all-samples/b...   banjo  3.160816   \n",
              "/Users/DELL/Updated_binder_enviro/all-samples/b...   banjo  3.866122   \n",
              "...                                                    ...       ...   \n",
              "/Users/DELL/Updated_binder_enviro/all-samples/v...  violin  2.220408   \n",
              "/Users/DELL/Updated_binder_enviro/all-samples/v...  violin  1.306122   \n",
              "/Users/DELL/Updated_binder_enviro/all-samples/v...  violin  1.567347   \n",
              "/Users/DELL/Updated_binder_enviro/all-samples/v...  violin  2.351020   \n",
              "/Users/DELL/Updated_binder_enviro/all-samples/v...  violin  1.436735   \n",
              "\n",
              "                                                    sampling rate  \n",
              "filename                                                           \n",
              "/Users/DELL/Updated_binder_enviro/all-samples/b...        44100.0  \n",
              "/Users/DELL/Updated_binder_enviro/all-samples/b...        44100.0  \n",
              "/Users/DELL/Updated_binder_enviro/all-samples/b...        44100.0  \n",
              "/Users/DELL/Updated_binder_enviro/all-samples/b...        44100.0  \n",
              "/Users/DELL/Updated_binder_enviro/all-samples/b...        44100.0  \n",
              "...                                                           ...  \n",
              "/Users/DELL/Updated_binder_enviro/all-samples/v...        44100.0  \n",
              "/Users/DELL/Updated_binder_enviro/all-samples/v...        44100.0  \n",
              "/Users/DELL/Updated_binder_enviro/all-samples/v...        44100.0  \n",
              "/Users/DELL/Updated_binder_enviro/all-samples/v...        44100.0  \n",
              "/Users/DELL/Updated_binder_enviro/all-samples/v...        44100.0  \n",
              "\n",
              "[13681 rows x 3 columns]"
            ]
          },
          "metadata": {
            "tags": []
          },
          "execution_count": 43
        }
      ]
    },
    {
      "cell_type": "code",
      "metadata": {
        "id": "msGNf2R3qRhb",
        "colab_type": "code",
        "colab": {},
        "outputId": "ffd4f525-5453-4a22-9394-428588338db9"
      },
      "source": [
        "df.loc['Users/DELL/Updated_binder_enviro/all-samples/banjo\\banjo_A3_very-long_forte_normal.npy']"
      ],
      "execution_count": null,
      "outputs": [
        {
          "output_type": "error",
          "ename": "KeyError",
          "evalue": "'Users/DELL/Updated_binder_enviro/all-samples/banjo\\x08anjo_A3_very-long_forte_normal.npy'",
          "traceback": [
            "\u001b[1;31m---------------------------------------------------------------------------\u001b[0m",
            "\u001b[1;31mKeyError\u001b[0m                                  Traceback (most recent call last)",
            "\u001b[1;32m~\\anaconda3\\envs\\BRP2\\lib\\site-packages\\pandas\\core\\indexes\\base.py\u001b[0m in \u001b[0;36mget_loc\u001b[1;34m(self, key, method, tolerance)\u001b[0m\n\u001b[0;32m   2645\u001b[0m             \u001b[1;32mtry\u001b[0m\u001b[1;33m:\u001b[0m\u001b[1;33m\u001b[0m\u001b[1;33m\u001b[0m\u001b[0m\n\u001b[1;32m-> 2646\u001b[1;33m                 \u001b[1;32mreturn\u001b[0m \u001b[0mself\u001b[0m\u001b[1;33m.\u001b[0m\u001b[0m_engine\u001b[0m\u001b[1;33m.\u001b[0m\u001b[0mget_loc\u001b[0m\u001b[1;33m(\u001b[0m\u001b[0mkey\u001b[0m\u001b[1;33m)\u001b[0m\u001b[1;33m\u001b[0m\u001b[1;33m\u001b[0m\u001b[0m\n\u001b[0m\u001b[0;32m   2647\u001b[0m             \u001b[1;32mexcept\u001b[0m \u001b[0mKeyError\u001b[0m\u001b[1;33m:\u001b[0m\u001b[1;33m\u001b[0m\u001b[1;33m\u001b[0m\u001b[0m\n",
            "\u001b[1;32mpandas\\_libs\\index.pyx\u001b[0m in \u001b[0;36mpandas._libs.index.IndexEngine.get_loc\u001b[1;34m()\u001b[0m\n",
            "\u001b[1;32mpandas\\_libs\\index.pyx\u001b[0m in \u001b[0;36mpandas._libs.index.IndexEngine.get_loc\u001b[1;34m()\u001b[0m\n",
            "\u001b[1;32mpandas\\_libs\\hashtable_class_helper.pxi\u001b[0m in \u001b[0;36mpandas._libs.hashtable.PyObjectHashTable.get_item\u001b[1;34m()\u001b[0m\n",
            "\u001b[1;32mpandas\\_libs\\hashtable_class_helper.pxi\u001b[0m in \u001b[0;36mpandas._libs.hashtable.PyObjectHashTable.get_item\u001b[1;34m()\u001b[0m\n",
            "\u001b[1;31mKeyError\u001b[0m: 'Users/DELL/Updated_binder_enviro/all-samples/banjo\\x08anjo_A3_very-long_forte_normal.npy'",
            "\nDuring handling of the above exception, another exception occurred:\n",
            "\u001b[1;31mKeyError\u001b[0m                                  Traceback (most recent call last)",
            "\u001b[1;32m<ipython-input-47-cb14f2a00216>\u001b[0m in \u001b[0;36m<module>\u001b[1;34m\u001b[0m\n\u001b[1;32m----> 1\u001b[1;33m \u001b[0mdf\u001b[0m\u001b[1;33m.\u001b[0m\u001b[0mloc\u001b[0m\u001b[1;33m[\u001b[0m\u001b[1;34m'Users/DELL/Updated_binder_enviro/all-samples/banjo\\banjo_A3_very-long_forte_normal.npy'\u001b[0m\u001b[1;33m]\u001b[0m\u001b[1;33m\u001b[0m\u001b[1;33m\u001b[0m\u001b[0m\n\u001b[0m",
            "\u001b[1;32m~\\anaconda3\\envs\\BRP2\\lib\\site-packages\\pandas\\core\\indexing.py\u001b[0m in \u001b[0;36m__getitem__\u001b[1;34m(self, key)\u001b[0m\n\u001b[0;32m   1766\u001b[0m \u001b[1;33m\u001b[0m\u001b[0m\n\u001b[0;32m   1767\u001b[0m             \u001b[0mmaybe_callable\u001b[0m \u001b[1;33m=\u001b[0m \u001b[0mcom\u001b[0m\u001b[1;33m.\u001b[0m\u001b[0mapply_if_callable\u001b[0m\u001b[1;33m(\u001b[0m\u001b[0mkey\u001b[0m\u001b[1;33m,\u001b[0m \u001b[0mself\u001b[0m\u001b[1;33m.\u001b[0m\u001b[0mobj\u001b[0m\u001b[1;33m)\u001b[0m\u001b[1;33m\u001b[0m\u001b[1;33m\u001b[0m\u001b[0m\n\u001b[1;32m-> 1768\u001b[1;33m             \u001b[1;32mreturn\u001b[0m \u001b[0mself\u001b[0m\u001b[1;33m.\u001b[0m\u001b[0m_getitem_axis\u001b[0m\u001b[1;33m(\u001b[0m\u001b[0mmaybe_callable\u001b[0m\u001b[1;33m,\u001b[0m \u001b[0maxis\u001b[0m\u001b[1;33m=\u001b[0m\u001b[0maxis\u001b[0m\u001b[1;33m)\u001b[0m\u001b[1;33m\u001b[0m\u001b[1;33m\u001b[0m\u001b[0m\n\u001b[0m\u001b[0;32m   1769\u001b[0m \u001b[1;33m\u001b[0m\u001b[0m\n\u001b[0;32m   1770\u001b[0m     \u001b[1;32mdef\u001b[0m \u001b[0m_is_scalar_access\u001b[0m\u001b[1;33m(\u001b[0m\u001b[0mself\u001b[0m\u001b[1;33m,\u001b[0m \u001b[0mkey\u001b[0m\u001b[1;33m:\u001b[0m \u001b[0mTuple\u001b[0m\u001b[1;33m)\u001b[0m\u001b[1;33m:\u001b[0m\u001b[1;33m\u001b[0m\u001b[1;33m\u001b[0m\u001b[0m\n",
            "\u001b[1;32m~\\anaconda3\\envs\\BRP2\\lib\\site-packages\\pandas\\core\\indexing.py\u001b[0m in \u001b[0;36m_getitem_axis\u001b[1;34m(self, key, axis)\u001b[0m\n\u001b[0;32m   1963\u001b[0m         \u001b[1;31m# fall thru to straight lookup\u001b[0m\u001b[1;33m\u001b[0m\u001b[1;33m\u001b[0m\u001b[1;33m\u001b[0m\u001b[0m\n\u001b[0;32m   1964\u001b[0m         \u001b[0mself\u001b[0m\u001b[1;33m.\u001b[0m\u001b[0m_validate_key\u001b[0m\u001b[1;33m(\u001b[0m\u001b[0mkey\u001b[0m\u001b[1;33m,\u001b[0m \u001b[0maxis\u001b[0m\u001b[1;33m)\u001b[0m\u001b[1;33m\u001b[0m\u001b[1;33m\u001b[0m\u001b[0m\n\u001b[1;32m-> 1965\u001b[1;33m         \u001b[1;32mreturn\u001b[0m \u001b[0mself\u001b[0m\u001b[1;33m.\u001b[0m\u001b[0m_get_label\u001b[0m\u001b[1;33m(\u001b[0m\u001b[0mkey\u001b[0m\u001b[1;33m,\u001b[0m \u001b[0maxis\u001b[0m\u001b[1;33m=\u001b[0m\u001b[0maxis\u001b[0m\u001b[1;33m)\u001b[0m\u001b[1;33m\u001b[0m\u001b[1;33m\u001b[0m\u001b[0m\n\u001b[0m\u001b[0;32m   1966\u001b[0m \u001b[1;33m\u001b[0m\u001b[0m\n\u001b[0;32m   1967\u001b[0m \u001b[1;33m\u001b[0m\u001b[0m\n",
            "\u001b[1;32m~\\anaconda3\\envs\\BRP2\\lib\\site-packages\\pandas\\core\\indexing.py\u001b[0m in \u001b[0;36m_get_label\u001b[1;34m(self, label, axis)\u001b[0m\n\u001b[0;32m    623\u001b[0m             \u001b[1;32mraise\u001b[0m \u001b[0mIndexingError\u001b[0m\u001b[1;33m(\u001b[0m\u001b[1;34m\"no slices here, handle elsewhere\"\u001b[0m\u001b[1;33m)\u001b[0m\u001b[1;33m\u001b[0m\u001b[1;33m\u001b[0m\u001b[0m\n\u001b[0;32m    624\u001b[0m \u001b[1;33m\u001b[0m\u001b[0m\n\u001b[1;32m--> 625\u001b[1;33m         \u001b[1;32mreturn\u001b[0m \u001b[0mself\u001b[0m\u001b[1;33m.\u001b[0m\u001b[0mobj\u001b[0m\u001b[1;33m.\u001b[0m\u001b[0m_xs\u001b[0m\u001b[1;33m(\u001b[0m\u001b[0mlabel\u001b[0m\u001b[1;33m,\u001b[0m \u001b[0maxis\u001b[0m\u001b[1;33m=\u001b[0m\u001b[0maxis\u001b[0m\u001b[1;33m)\u001b[0m\u001b[1;33m\u001b[0m\u001b[1;33m\u001b[0m\u001b[0m\n\u001b[0m\u001b[0;32m    626\u001b[0m \u001b[1;33m\u001b[0m\u001b[0m\n\u001b[0;32m    627\u001b[0m     \u001b[1;32mdef\u001b[0m \u001b[0m_get_loc\u001b[0m\u001b[1;33m(\u001b[0m\u001b[0mself\u001b[0m\u001b[1;33m,\u001b[0m \u001b[0mkey\u001b[0m\u001b[1;33m:\u001b[0m \u001b[0mint\u001b[0m\u001b[1;33m,\u001b[0m \u001b[0maxis\u001b[0m\u001b[1;33m:\u001b[0m \u001b[0mint\u001b[0m\u001b[1;33m)\u001b[0m\u001b[1;33m:\u001b[0m\u001b[1;33m\u001b[0m\u001b[1;33m\u001b[0m\u001b[0m\n",
            "\u001b[1;32m~\\anaconda3\\envs\\BRP2\\lib\\site-packages\\pandas\\core\\generic.py\u001b[0m in \u001b[0;36mxs\u001b[1;34m(self, key, axis, level, drop_level)\u001b[0m\n\u001b[0;32m   3535\u001b[0m             \u001b[0mloc\u001b[0m\u001b[1;33m,\u001b[0m \u001b[0mnew_index\u001b[0m \u001b[1;33m=\u001b[0m \u001b[0mself\u001b[0m\u001b[1;33m.\u001b[0m\u001b[0mindex\u001b[0m\u001b[1;33m.\u001b[0m\u001b[0mget_loc_level\u001b[0m\u001b[1;33m(\u001b[0m\u001b[0mkey\u001b[0m\u001b[1;33m,\u001b[0m \u001b[0mdrop_level\u001b[0m\u001b[1;33m=\u001b[0m\u001b[0mdrop_level\u001b[0m\u001b[1;33m)\u001b[0m\u001b[1;33m\u001b[0m\u001b[1;33m\u001b[0m\u001b[0m\n\u001b[0;32m   3536\u001b[0m         \u001b[1;32melse\u001b[0m\u001b[1;33m:\u001b[0m\u001b[1;33m\u001b[0m\u001b[1;33m\u001b[0m\u001b[0m\n\u001b[1;32m-> 3537\u001b[1;33m             \u001b[0mloc\u001b[0m \u001b[1;33m=\u001b[0m \u001b[0mself\u001b[0m\u001b[1;33m.\u001b[0m\u001b[0mindex\u001b[0m\u001b[1;33m.\u001b[0m\u001b[0mget_loc\u001b[0m\u001b[1;33m(\u001b[0m\u001b[0mkey\u001b[0m\u001b[1;33m)\u001b[0m\u001b[1;33m\u001b[0m\u001b[1;33m\u001b[0m\u001b[0m\n\u001b[0m\u001b[0;32m   3538\u001b[0m \u001b[1;33m\u001b[0m\u001b[0m\n\u001b[0;32m   3539\u001b[0m             \u001b[1;32mif\u001b[0m \u001b[0misinstance\u001b[0m\u001b[1;33m(\u001b[0m\u001b[0mloc\u001b[0m\u001b[1;33m,\u001b[0m \u001b[0mnp\u001b[0m\u001b[1;33m.\u001b[0m\u001b[0mndarray\u001b[0m\u001b[1;33m)\u001b[0m\u001b[1;33m:\u001b[0m\u001b[1;33m\u001b[0m\u001b[1;33m\u001b[0m\u001b[0m\n",
            "\u001b[1;32m~\\anaconda3\\envs\\BRP2\\lib\\site-packages\\pandas\\core\\indexes\\base.py\u001b[0m in \u001b[0;36mget_loc\u001b[1;34m(self, key, method, tolerance)\u001b[0m\n\u001b[0;32m   2646\u001b[0m                 \u001b[1;32mreturn\u001b[0m \u001b[0mself\u001b[0m\u001b[1;33m.\u001b[0m\u001b[0m_engine\u001b[0m\u001b[1;33m.\u001b[0m\u001b[0mget_loc\u001b[0m\u001b[1;33m(\u001b[0m\u001b[0mkey\u001b[0m\u001b[1;33m)\u001b[0m\u001b[1;33m\u001b[0m\u001b[1;33m\u001b[0m\u001b[0m\n\u001b[0;32m   2647\u001b[0m             \u001b[1;32mexcept\u001b[0m \u001b[0mKeyError\u001b[0m\u001b[1;33m:\u001b[0m\u001b[1;33m\u001b[0m\u001b[1;33m\u001b[0m\u001b[0m\n\u001b[1;32m-> 2648\u001b[1;33m                 \u001b[1;32mreturn\u001b[0m \u001b[0mself\u001b[0m\u001b[1;33m.\u001b[0m\u001b[0m_engine\u001b[0m\u001b[1;33m.\u001b[0m\u001b[0mget_loc\u001b[0m\u001b[1;33m(\u001b[0m\u001b[0mself\u001b[0m\u001b[1;33m.\u001b[0m\u001b[0m_maybe_cast_indexer\u001b[0m\u001b[1;33m(\u001b[0m\u001b[0mkey\u001b[0m\u001b[1;33m)\u001b[0m\u001b[1;33m)\u001b[0m\u001b[1;33m\u001b[0m\u001b[1;33m\u001b[0m\u001b[0m\n\u001b[0m\u001b[0;32m   2649\u001b[0m         \u001b[0mindexer\u001b[0m \u001b[1;33m=\u001b[0m \u001b[0mself\u001b[0m\u001b[1;33m.\u001b[0m\u001b[0mget_indexer\u001b[0m\u001b[1;33m(\u001b[0m\u001b[1;33m[\u001b[0m\u001b[0mkey\u001b[0m\u001b[1;33m]\u001b[0m\u001b[1;33m,\u001b[0m \u001b[0mmethod\u001b[0m\u001b[1;33m=\u001b[0m\u001b[0mmethod\u001b[0m\u001b[1;33m,\u001b[0m \u001b[0mtolerance\u001b[0m\u001b[1;33m=\u001b[0m\u001b[0mtolerance\u001b[0m\u001b[1;33m)\u001b[0m\u001b[1;33m\u001b[0m\u001b[1;33m\u001b[0m\u001b[0m\n\u001b[0;32m   2650\u001b[0m         \u001b[1;32mif\u001b[0m \u001b[0mindexer\u001b[0m\u001b[1;33m.\u001b[0m\u001b[0mndim\u001b[0m \u001b[1;33m>\u001b[0m \u001b[1;36m1\u001b[0m \u001b[1;32mor\u001b[0m \u001b[0mindexer\u001b[0m\u001b[1;33m.\u001b[0m\u001b[0msize\u001b[0m \u001b[1;33m>\u001b[0m \u001b[1;36m1\u001b[0m\u001b[1;33m:\u001b[0m\u001b[1;33m\u001b[0m\u001b[1;33m\u001b[0m\u001b[0m\n",
            "\u001b[1;32mpandas\\_libs\\index.pyx\u001b[0m in \u001b[0;36mpandas._libs.index.IndexEngine.get_loc\u001b[1;34m()\u001b[0m\n",
            "\u001b[1;32mpandas\\_libs\\index.pyx\u001b[0m in \u001b[0;36mpandas._libs.index.IndexEngine.get_loc\u001b[1;34m()\u001b[0m\n",
            "\u001b[1;32mpandas\\_libs\\hashtable_class_helper.pxi\u001b[0m in \u001b[0;36mpandas._libs.hashtable.PyObjectHashTable.get_item\u001b[1;34m()\u001b[0m\n",
            "\u001b[1;32mpandas\\_libs\\hashtable_class_helper.pxi\u001b[0m in \u001b[0;36mpandas._libs.hashtable.PyObjectHashTable.get_item\u001b[1;34m()\u001b[0m\n",
            "\u001b[1;31mKeyError\u001b[0m: 'Users/DELL/Updated_binder_enviro/all-samples/banjo\\x08anjo_A3_very-long_forte_normal.npy'"
          ]
        }
      ]
    },
    {
      "cell_type": "code",
      "metadata": {
        "id": "fwovgeJKqRhd",
        "colab_type": "code",
        "colab": {},
        "outputId": "5d989e81-447a-490c-de5f-13771b5f3a8c"
      },
      "source": [
        "df.iloc[0]"
      ],
      "execution_count": null,
      "outputs": [
        {
          "output_type": "execute_result",
          "data": {
            "text/plain": [
              "class              banjo\n",
              "duration         3.47429\n",
              "sampling rate      44100\n",
              "Name: /Users/DELL/Updated_binder_enviro/all-samples/banjo\\banjo_A3_very-long_forte_normal.npy, dtype: object"
            ]
          },
          "metadata": {
            "tags": []
          },
          "execution_count": 48
        }
      ]
    },
    {
      "cell_type": "code",
      "metadata": {
        "id": "9C09O242qRhf",
        "colab_type": "code",
        "colab": {}
      },
      "source": [
        "df.reset_index(inplace=True)"
      ],
      "execution_count": null,
      "outputs": []
    },
    {
      "cell_type": "code",
      "metadata": {
        "id": "KN-XRWMrqRhj",
        "colab_type": "code",
        "colab": {},
        "outputId": "5fcf1e05-f0b8-4f6b-b5c2-1d0a6233a9b3"
      },
      "source": [
        "df.sort_index()"
      ],
      "execution_count": null,
      "outputs": [
        {
          "output_type": "execute_result",
          "data": {
            "text/html": [
              "<div>\n",
              "<style scoped>\n",
              "    .dataframe tbody tr th:only-of-type {\n",
              "        vertical-align: middle;\n",
              "    }\n",
              "\n",
              "    .dataframe tbody tr th {\n",
              "        vertical-align: top;\n",
              "    }\n",
              "\n",
              "    .dataframe thead th {\n",
              "        text-align: right;\n",
              "    }\n",
              "</style>\n",
              "<table border=\"1\" class=\"dataframe\">\n",
              "  <thead>\n",
              "    <tr style=\"text-align: right;\">\n",
              "      <th></th>\n",
              "      <th>filename</th>\n",
              "      <th>class</th>\n",
              "      <th>duration</th>\n",
              "      <th>sampling rate</th>\n",
              "    </tr>\n",
              "  </thead>\n",
              "  <tbody>\n",
              "    <tr>\n",
              "      <th>0</th>\n",
              "      <td>/Users/DELL/Updated_binder_enviro/all-samples/...</td>\n",
              "      <td>banjo</td>\n",
              "      <td>3.474286</td>\n",
              "      <td>44100.0</td>\n",
              "    </tr>\n",
              "    <tr>\n",
              "      <th>1</th>\n",
              "      <td>/Users/DELL/Updated_binder_enviro/all-samples/...</td>\n",
              "      <td>banjo</td>\n",
              "      <td>3.500408</td>\n",
              "      <td>44100.0</td>\n",
              "    </tr>\n",
              "    <tr>\n",
              "      <th>2</th>\n",
              "      <td>/Users/DELL/Updated_binder_enviro/all-samples/...</td>\n",
              "      <td>banjo</td>\n",
              "      <td>3.813878</td>\n",
              "      <td>44100.0</td>\n",
              "    </tr>\n",
              "    <tr>\n",
              "      <th>3</th>\n",
              "      <td>/Users/DELL/Updated_binder_enviro/all-samples/...</td>\n",
              "      <td>banjo</td>\n",
              "      <td>3.160816</td>\n",
              "      <td>44100.0</td>\n",
              "    </tr>\n",
              "    <tr>\n",
              "      <th>4</th>\n",
              "      <td>/Users/DELL/Updated_binder_enviro/all-samples/...</td>\n",
              "      <td>banjo</td>\n",
              "      <td>3.866122</td>\n",
              "      <td>44100.0</td>\n",
              "    </tr>\n",
              "    <tr>\n",
              "      <th>...</th>\n",
              "      <td>...</td>\n",
              "      <td>...</td>\n",
              "      <td>...</td>\n",
              "      <td>...</td>\n",
              "    </tr>\n",
              "    <tr>\n",
              "      <th>13676</th>\n",
              "      <td>/Users/DELL/Updated_binder_enviro/all-samples/...</td>\n",
              "      <td>violin</td>\n",
              "      <td>2.220408</td>\n",
              "      <td>44100.0</td>\n",
              "    </tr>\n",
              "    <tr>\n",
              "      <th>13677</th>\n",
              "      <td>/Users/DELL/Updated_binder_enviro/all-samples/...</td>\n",
              "      <td>violin</td>\n",
              "      <td>1.306122</td>\n",
              "      <td>44100.0</td>\n",
              "    </tr>\n",
              "    <tr>\n",
              "      <th>13678</th>\n",
              "      <td>/Users/DELL/Updated_binder_enviro/all-samples/...</td>\n",
              "      <td>violin</td>\n",
              "      <td>1.567347</td>\n",
              "      <td>44100.0</td>\n",
              "    </tr>\n",
              "    <tr>\n",
              "      <th>13679</th>\n",
              "      <td>/Users/DELL/Updated_binder_enviro/all-samples/...</td>\n",
              "      <td>violin</td>\n",
              "      <td>2.351020</td>\n",
              "      <td>44100.0</td>\n",
              "    </tr>\n",
              "    <tr>\n",
              "      <th>13680</th>\n",
              "      <td>/Users/DELL/Updated_binder_enviro/all-samples/...</td>\n",
              "      <td>violin</td>\n",
              "      <td>1.436735</td>\n",
              "      <td>44100.0</td>\n",
              "    </tr>\n",
              "  </tbody>\n",
              "</table>\n",
              "<p>13681 rows × 4 columns</p>\n",
              "</div>"
            ],
            "text/plain": [
              "                                                filename   class  duration  \\\n",
              "0      /Users/DELL/Updated_binder_enviro/all-samples/...   banjo  3.474286   \n",
              "1      /Users/DELL/Updated_binder_enviro/all-samples/...   banjo  3.500408   \n",
              "2      /Users/DELL/Updated_binder_enviro/all-samples/...   banjo  3.813878   \n",
              "3      /Users/DELL/Updated_binder_enviro/all-samples/...   banjo  3.160816   \n",
              "4      /Users/DELL/Updated_binder_enviro/all-samples/...   banjo  3.866122   \n",
              "...                                                  ...     ...       ...   \n",
              "13676  /Users/DELL/Updated_binder_enviro/all-samples/...  violin  2.220408   \n",
              "13677  /Users/DELL/Updated_binder_enviro/all-samples/...  violin  1.306122   \n",
              "13678  /Users/DELL/Updated_binder_enviro/all-samples/...  violin  1.567347   \n",
              "13679  /Users/DELL/Updated_binder_enviro/all-samples/...  violin  2.351020   \n",
              "13680  /Users/DELL/Updated_binder_enviro/all-samples/...  violin  1.436735   \n",
              "\n",
              "       sampling rate  \n",
              "0            44100.0  \n",
              "1            44100.0  \n",
              "2            44100.0  \n",
              "3            44100.0  \n",
              "4            44100.0  \n",
              "...              ...  \n",
              "13676        44100.0  \n",
              "13677        44100.0  \n",
              "13678        44100.0  \n",
              "13679        44100.0  \n",
              "13680        44100.0  \n",
              "\n",
              "[13681 rows x 4 columns]"
            ]
          },
          "metadata": {
            "tags": []
          },
          "execution_count": 52
        }
      ]
    },
    {
      "cell_type": "code",
      "metadata": {
        "id": "XTkOTSH1qRhm",
        "colab_type": "code",
        "colab": {},
        "outputId": "3bdb2652-b738-4607-c6b5-45bd3dbdf906"
      },
      "source": [
        "df"
      ],
      "execution_count": null,
      "outputs": [
        {
          "output_type": "execute_result",
          "data": {
            "text/html": [
              "<div>\n",
              "<style scoped>\n",
              "    .dataframe tbody tr th:only-of-type {\n",
              "        vertical-align: middle;\n",
              "    }\n",
              "\n",
              "    .dataframe tbody tr th {\n",
              "        vertical-align: top;\n",
              "    }\n",
              "\n",
              "    .dataframe thead th {\n",
              "        text-align: right;\n",
              "    }\n",
              "</style>\n",
              "<table border=\"1\" class=\"dataframe\">\n",
              "  <thead>\n",
              "    <tr style=\"text-align: right;\">\n",
              "      <th></th>\n",
              "      <th>filename</th>\n",
              "      <th>class</th>\n",
              "      <th>duration</th>\n",
              "      <th>sampling rate</th>\n",
              "    </tr>\n",
              "  </thead>\n",
              "  <tbody>\n",
              "    <tr>\n",
              "      <th>0</th>\n",
              "      <td>/Users/DELL/Updated_binder_enviro/all-samples/...</td>\n",
              "      <td>banjo</td>\n",
              "      <td>3.474286</td>\n",
              "      <td>44100.0</td>\n",
              "    </tr>\n",
              "    <tr>\n",
              "      <th>1</th>\n",
              "      <td>/Users/DELL/Updated_binder_enviro/all-samples/...</td>\n",
              "      <td>banjo</td>\n",
              "      <td>3.500408</td>\n",
              "      <td>44100.0</td>\n",
              "    </tr>\n",
              "    <tr>\n",
              "      <th>2</th>\n",
              "      <td>/Users/DELL/Updated_binder_enviro/all-samples/...</td>\n",
              "      <td>banjo</td>\n",
              "      <td>3.813878</td>\n",
              "      <td>44100.0</td>\n",
              "    </tr>\n",
              "    <tr>\n",
              "      <th>3</th>\n",
              "      <td>/Users/DELL/Updated_binder_enviro/all-samples/...</td>\n",
              "      <td>banjo</td>\n",
              "      <td>3.160816</td>\n",
              "      <td>44100.0</td>\n",
              "    </tr>\n",
              "    <tr>\n",
              "      <th>4</th>\n",
              "      <td>/Users/DELL/Updated_binder_enviro/all-samples/...</td>\n",
              "      <td>banjo</td>\n",
              "      <td>3.866122</td>\n",
              "      <td>44100.0</td>\n",
              "    </tr>\n",
              "    <tr>\n",
              "      <th>...</th>\n",
              "      <td>...</td>\n",
              "      <td>...</td>\n",
              "      <td>...</td>\n",
              "      <td>...</td>\n",
              "    </tr>\n",
              "    <tr>\n",
              "      <th>13676</th>\n",
              "      <td>/Users/DELL/Updated_binder_enviro/all-samples/...</td>\n",
              "      <td>violin</td>\n",
              "      <td>2.220408</td>\n",
              "      <td>44100.0</td>\n",
              "    </tr>\n",
              "    <tr>\n",
              "      <th>13677</th>\n",
              "      <td>/Users/DELL/Updated_binder_enviro/all-samples/...</td>\n",
              "      <td>violin</td>\n",
              "      <td>1.306122</td>\n",
              "      <td>44100.0</td>\n",
              "    </tr>\n",
              "    <tr>\n",
              "      <th>13678</th>\n",
              "      <td>/Users/DELL/Updated_binder_enviro/all-samples/...</td>\n",
              "      <td>violin</td>\n",
              "      <td>1.567347</td>\n",
              "      <td>44100.0</td>\n",
              "    </tr>\n",
              "    <tr>\n",
              "      <th>13679</th>\n",
              "      <td>/Users/DELL/Updated_binder_enviro/all-samples/...</td>\n",
              "      <td>violin</td>\n",
              "      <td>2.351020</td>\n",
              "      <td>44100.0</td>\n",
              "    </tr>\n",
              "    <tr>\n",
              "      <th>13680</th>\n",
              "      <td>/Users/DELL/Updated_binder_enviro/all-samples/...</td>\n",
              "      <td>violin</td>\n",
              "      <td>1.436735</td>\n",
              "      <td>44100.0</td>\n",
              "    </tr>\n",
              "  </tbody>\n",
              "</table>\n",
              "<p>13681 rows × 4 columns</p>\n",
              "</div>"
            ],
            "text/plain": [
              "                                                filename   class  duration  \\\n",
              "0      /Users/DELL/Updated_binder_enviro/all-samples/...   banjo  3.474286   \n",
              "1      /Users/DELL/Updated_binder_enviro/all-samples/...   banjo  3.500408   \n",
              "2      /Users/DELL/Updated_binder_enviro/all-samples/...   banjo  3.813878   \n",
              "3      /Users/DELL/Updated_binder_enviro/all-samples/...   banjo  3.160816   \n",
              "4      /Users/DELL/Updated_binder_enviro/all-samples/...   banjo  3.866122   \n",
              "...                                                  ...     ...       ...   \n",
              "13676  /Users/DELL/Updated_binder_enviro/all-samples/...  violin  2.220408   \n",
              "13677  /Users/DELL/Updated_binder_enviro/all-samples/...  violin  1.306122   \n",
              "13678  /Users/DELL/Updated_binder_enviro/all-samples/...  violin  1.567347   \n",
              "13679  /Users/DELL/Updated_binder_enviro/all-samples/...  violin  2.351020   \n",
              "13680  /Users/DELL/Updated_binder_enviro/all-samples/...  violin  1.436735   \n",
              "\n",
              "       sampling rate  \n",
              "0            44100.0  \n",
              "1            44100.0  \n",
              "2            44100.0  \n",
              "3            44100.0  \n",
              "4            44100.0  \n",
              "...              ...  \n",
              "13676        44100.0  \n",
              "13677        44100.0  \n",
              "13678        44100.0  \n",
              "13679        44100.0  \n",
              "13680        44100.0  \n",
              "\n",
              "[13681 rows x 4 columns]"
            ]
          },
          "metadata": {
            "tags": []
          },
          "execution_count": 53
        }
      ]
    },
    {
      "cell_type": "code",
      "metadata": {
        "id": "xktjrxwhqRhp",
        "colab_type": "code",
        "colab": {}
      },
      "source": [
        "filt = df['duration']<=22"
      ],
      "execution_count": null,
      "outputs": []
    },
    {
      "cell_type": "code",
      "metadata": {
        "id": "YXTlCrV-qRhr",
        "colab_type": "code",
        "colab": {},
        "outputId": "073b273d-d324-4fd5-bc05-f4a613e42056"
      },
      "source": [
        "df[filt]"
      ],
      "execution_count": null,
      "outputs": [
        {
          "output_type": "execute_result",
          "data": {
            "text/html": [
              "<div>\n",
              "<style scoped>\n",
              "    .dataframe tbody tr th:only-of-type {\n",
              "        vertical-align: middle;\n",
              "    }\n",
              "\n",
              "    .dataframe tbody tr th {\n",
              "        vertical-align: top;\n",
              "    }\n",
              "\n",
              "    .dataframe thead th {\n",
              "        text-align: right;\n",
              "    }\n",
              "</style>\n",
              "<table border=\"1\" class=\"dataframe\">\n",
              "  <thead>\n",
              "    <tr style=\"text-align: right;\">\n",
              "      <th></th>\n",
              "      <th>filename</th>\n",
              "      <th>class</th>\n",
              "      <th>duration</th>\n",
              "      <th>sampling rate</th>\n",
              "    </tr>\n",
              "  </thead>\n",
              "  <tbody>\n",
              "    <tr>\n",
              "      <th>0</th>\n",
              "      <td>/Users/DELL/Updated_binder_enviro/all-samples/...</td>\n",
              "      <td>banjo</td>\n",
              "      <td>3.474286</td>\n",
              "      <td>44100.0</td>\n",
              "    </tr>\n",
              "    <tr>\n",
              "      <th>1</th>\n",
              "      <td>/Users/DELL/Updated_binder_enviro/all-samples/...</td>\n",
              "      <td>banjo</td>\n",
              "      <td>3.500408</td>\n",
              "      <td>44100.0</td>\n",
              "    </tr>\n",
              "    <tr>\n",
              "      <th>2</th>\n",
              "      <td>/Users/DELL/Updated_binder_enviro/all-samples/...</td>\n",
              "      <td>banjo</td>\n",
              "      <td>3.813878</td>\n",
              "      <td>44100.0</td>\n",
              "    </tr>\n",
              "    <tr>\n",
              "      <th>3</th>\n",
              "      <td>/Users/DELL/Updated_binder_enviro/all-samples/...</td>\n",
              "      <td>banjo</td>\n",
              "      <td>3.160816</td>\n",
              "      <td>44100.0</td>\n",
              "    </tr>\n",
              "    <tr>\n",
              "      <th>4</th>\n",
              "      <td>/Users/DELL/Updated_binder_enviro/all-samples/...</td>\n",
              "      <td>banjo</td>\n",
              "      <td>3.866122</td>\n",
              "      <td>44100.0</td>\n",
              "    </tr>\n",
              "    <tr>\n",
              "      <th>...</th>\n",
              "      <td>...</td>\n",
              "      <td>...</td>\n",
              "      <td>...</td>\n",
              "      <td>...</td>\n",
              "    </tr>\n",
              "    <tr>\n",
              "      <th>13676</th>\n",
              "      <td>/Users/DELL/Updated_binder_enviro/all-samples/...</td>\n",
              "      <td>violin</td>\n",
              "      <td>2.220408</td>\n",
              "      <td>44100.0</td>\n",
              "    </tr>\n",
              "    <tr>\n",
              "      <th>13677</th>\n",
              "      <td>/Users/DELL/Updated_binder_enviro/all-samples/...</td>\n",
              "      <td>violin</td>\n",
              "      <td>1.306122</td>\n",
              "      <td>44100.0</td>\n",
              "    </tr>\n",
              "    <tr>\n",
              "      <th>13678</th>\n",
              "      <td>/Users/DELL/Updated_binder_enviro/all-samples/...</td>\n",
              "      <td>violin</td>\n",
              "      <td>1.567347</td>\n",
              "      <td>44100.0</td>\n",
              "    </tr>\n",
              "    <tr>\n",
              "      <th>13679</th>\n",
              "      <td>/Users/DELL/Updated_binder_enviro/all-samples/...</td>\n",
              "      <td>violin</td>\n",
              "      <td>2.351020</td>\n",
              "      <td>44100.0</td>\n",
              "    </tr>\n",
              "    <tr>\n",
              "      <th>13680</th>\n",
              "      <td>/Users/DELL/Updated_binder_enviro/all-samples/...</td>\n",
              "      <td>violin</td>\n",
              "      <td>1.436735</td>\n",
              "      <td>44100.0</td>\n",
              "    </tr>\n",
              "  </tbody>\n",
              "</table>\n",
              "<p>13628 rows × 4 columns</p>\n",
              "</div>"
            ],
            "text/plain": [
              "                                                filename   class  duration  \\\n",
              "0      /Users/DELL/Updated_binder_enviro/all-samples/...   banjo  3.474286   \n",
              "1      /Users/DELL/Updated_binder_enviro/all-samples/...   banjo  3.500408   \n",
              "2      /Users/DELL/Updated_binder_enviro/all-samples/...   banjo  3.813878   \n",
              "3      /Users/DELL/Updated_binder_enviro/all-samples/...   banjo  3.160816   \n",
              "4      /Users/DELL/Updated_binder_enviro/all-samples/...   banjo  3.866122   \n",
              "...                                                  ...     ...       ...   \n",
              "13676  /Users/DELL/Updated_binder_enviro/all-samples/...  violin  2.220408   \n",
              "13677  /Users/DELL/Updated_binder_enviro/all-samples/...  violin  1.306122   \n",
              "13678  /Users/DELL/Updated_binder_enviro/all-samples/...  violin  1.567347   \n",
              "13679  /Users/DELL/Updated_binder_enviro/all-samples/...  violin  2.351020   \n",
              "13680  /Users/DELL/Updated_binder_enviro/all-samples/...  violin  1.436735   \n",
              "\n",
              "       sampling rate  \n",
              "0            44100.0  \n",
              "1            44100.0  \n",
              "2            44100.0  \n",
              "3            44100.0  \n",
              "4            44100.0  \n",
              "...              ...  \n",
              "13676        44100.0  \n",
              "13677        44100.0  \n",
              "13678        44100.0  \n",
              "13679        44100.0  \n",
              "13680        44100.0  \n",
              "\n",
              "[13628 rows x 4 columns]"
            ]
          },
          "metadata": {
            "tags": []
          },
          "execution_count": 63
        }
      ]
    },
    {
      "cell_type": "code",
      "metadata": {
        "id": "jaALeANWqRht",
        "colab_type": "code",
        "colab": {},
        "outputId": "98119ff5-329f-4929-d939-583be9f97e63"
      },
      "source": [
        "df['class'].value_counts()"
      ],
      "execution_count": null,
      "outputs": [
        {
          "output_type": "execute_result",
          "data": {
            "text/plain": [
              "violin           1502\n",
              "viola             973\n",
              "tuba              972\n",
              "bass-clarinet     944\n",
              "cello             889\n",
              "flute             878\n",
              "double-bass       852\n",
              "clarinet          846\n",
              "trombone          831\n",
              "saxophone         732\n",
              "bassoon           720\n",
              "contrabassoon     710\n",
              "english-horn      691\n",
              "french-horn       652\n",
              "oboe              596\n",
              "trumpet           485\n",
              "percussion        148\n",
              "guitar            106\n",
              "mandolin           80\n",
              "banjo              74\n",
              "Name: class, dtype: int64"
            ]
          },
          "metadata": {
            "tags": []
          },
          "execution_count": 65
        }
      ]
    },
    {
      "cell_type": "code",
      "metadata": {
        "id": "n4ymQxktqRhv",
        "colab_type": "code",
        "colab": {}
      },
      "source": [
        "filt2 = (df['class'] != 'percussion') & (df['duration']<=22)"
      ],
      "execution_count": null,
      "outputs": []
    },
    {
      "cell_type": "code",
      "metadata": {
        "id": "Pxe2YxnVqRhx",
        "colab_type": "code",
        "colab": {},
        "outputId": "be22a32a-a5c6-45d8-ec13-ecc6a8d03231"
      },
      "source": [
        "df[filt2]"
      ],
      "execution_count": null,
      "outputs": [
        {
          "output_type": "execute_result",
          "data": {
            "text/html": [
              "<div>\n",
              "<style scoped>\n",
              "    .dataframe tbody tr th:only-of-type {\n",
              "        vertical-align: middle;\n",
              "    }\n",
              "\n",
              "    .dataframe tbody tr th {\n",
              "        vertical-align: top;\n",
              "    }\n",
              "\n",
              "    .dataframe thead th {\n",
              "        text-align: right;\n",
              "    }\n",
              "</style>\n",
              "<table border=\"1\" class=\"dataframe\">\n",
              "  <thead>\n",
              "    <tr style=\"text-align: right;\">\n",
              "      <th></th>\n",
              "      <th>filename</th>\n",
              "      <th>class</th>\n",
              "      <th>duration</th>\n",
              "      <th>sampling rate</th>\n",
              "    </tr>\n",
              "  </thead>\n",
              "  <tbody>\n",
              "    <tr>\n",
              "      <th>0</th>\n",
              "      <td>/Users/DELL/Updated_binder_enviro/all-samples/...</td>\n",
              "      <td>banjo</td>\n",
              "      <td>3.474286</td>\n",
              "      <td>44100.0</td>\n",
              "    </tr>\n",
              "    <tr>\n",
              "      <th>1</th>\n",
              "      <td>/Users/DELL/Updated_binder_enviro/all-samples/...</td>\n",
              "      <td>banjo</td>\n",
              "      <td>3.500408</td>\n",
              "      <td>44100.0</td>\n",
              "    </tr>\n",
              "    <tr>\n",
              "      <th>2</th>\n",
              "      <td>/Users/DELL/Updated_binder_enviro/all-samples/...</td>\n",
              "      <td>banjo</td>\n",
              "      <td>3.813878</td>\n",
              "      <td>44100.0</td>\n",
              "    </tr>\n",
              "    <tr>\n",
              "      <th>3</th>\n",
              "      <td>/Users/DELL/Updated_binder_enviro/all-samples/...</td>\n",
              "      <td>banjo</td>\n",
              "      <td>3.160816</td>\n",
              "      <td>44100.0</td>\n",
              "    </tr>\n",
              "    <tr>\n",
              "      <th>4</th>\n",
              "      <td>/Users/DELL/Updated_binder_enviro/all-samples/...</td>\n",
              "      <td>banjo</td>\n",
              "      <td>3.866122</td>\n",
              "      <td>44100.0</td>\n",
              "    </tr>\n",
              "    <tr>\n",
              "      <th>...</th>\n",
              "      <td>...</td>\n",
              "      <td>...</td>\n",
              "      <td>...</td>\n",
              "      <td>...</td>\n",
              "    </tr>\n",
              "    <tr>\n",
              "      <th>13676</th>\n",
              "      <td>/Users/DELL/Updated_binder_enviro/all-samples/...</td>\n",
              "      <td>violin</td>\n",
              "      <td>2.220408</td>\n",
              "      <td>44100.0</td>\n",
              "    </tr>\n",
              "    <tr>\n",
              "      <th>13677</th>\n",
              "      <td>/Users/DELL/Updated_binder_enviro/all-samples/...</td>\n",
              "      <td>violin</td>\n",
              "      <td>1.306122</td>\n",
              "      <td>44100.0</td>\n",
              "    </tr>\n",
              "    <tr>\n",
              "      <th>13678</th>\n",
              "      <td>/Users/DELL/Updated_binder_enviro/all-samples/...</td>\n",
              "      <td>violin</td>\n",
              "      <td>1.567347</td>\n",
              "      <td>44100.0</td>\n",
              "    </tr>\n",
              "    <tr>\n",
              "      <th>13679</th>\n",
              "      <td>/Users/DELL/Updated_binder_enviro/all-samples/...</td>\n",
              "      <td>violin</td>\n",
              "      <td>2.351020</td>\n",
              "      <td>44100.0</td>\n",
              "    </tr>\n",
              "    <tr>\n",
              "      <th>13680</th>\n",
              "      <td>/Users/DELL/Updated_binder_enviro/all-samples/...</td>\n",
              "      <td>violin</td>\n",
              "      <td>1.436735</td>\n",
              "      <td>44100.0</td>\n",
              "    </tr>\n",
              "  </tbody>\n",
              "</table>\n",
              "<p>13480 rows × 4 columns</p>\n",
              "</div>"
            ],
            "text/plain": [
              "                                                filename   class  duration  \\\n",
              "0      /Users/DELL/Updated_binder_enviro/all-samples/...   banjo  3.474286   \n",
              "1      /Users/DELL/Updated_binder_enviro/all-samples/...   banjo  3.500408   \n",
              "2      /Users/DELL/Updated_binder_enviro/all-samples/...   banjo  3.813878   \n",
              "3      /Users/DELL/Updated_binder_enviro/all-samples/...   banjo  3.160816   \n",
              "4      /Users/DELL/Updated_binder_enviro/all-samples/...   banjo  3.866122   \n",
              "...                                                  ...     ...       ...   \n",
              "13676  /Users/DELL/Updated_binder_enviro/all-samples/...  violin  2.220408   \n",
              "13677  /Users/DELL/Updated_binder_enviro/all-samples/...  violin  1.306122   \n",
              "13678  /Users/DELL/Updated_binder_enviro/all-samples/...  violin  1.567347   \n",
              "13679  /Users/DELL/Updated_binder_enviro/all-samples/...  violin  2.351020   \n",
              "13680  /Users/DELL/Updated_binder_enviro/all-samples/...  violin  1.436735   \n",
              "\n",
              "       sampling rate  \n",
              "0            44100.0  \n",
              "1            44100.0  \n",
              "2            44100.0  \n",
              "3            44100.0  \n",
              "4            44100.0  \n",
              "...              ...  \n",
              "13676        44100.0  \n",
              "13677        44100.0  \n",
              "13678        44100.0  \n",
              "13679        44100.0  \n",
              "13680        44100.0  \n",
              "\n",
              "[13480 rows x 4 columns]"
            ]
          },
          "metadata": {
            "tags": []
          },
          "execution_count": 69
        }
      ]
    },
    {
      "cell_type": "code",
      "metadata": {
        "id": "l1NTGzBrqRh0",
        "colab_type": "code",
        "colab": {}
      },
      "source": [
        ""
      ],
      "execution_count": null,
      "outputs": []
    }
  ]
}