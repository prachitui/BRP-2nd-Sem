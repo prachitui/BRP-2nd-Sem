{
  "nbformat": 4,
  "nbformat_minor": 0,
  "metadata": {
    "kernelspec": {
      "display_name": "Python 3",
      "language": "python",
      "name": "python3"
    },
    "language_info": {
      "codemirror_mode": {
        "name": "ipython",
        "version": 3
      },
      "file_extension": ".py",
      "mimetype": "text/x-python",
      "name": "python",
      "nbconvert_exporter": "python",
      "pygments_lexer": "ipython3",
      "version": "3.7.6"
    },
    "colab": {
      "name": "Pandas Dataframe.ipynb",
      "provenance": []
    }
  },
  "cells": [
    {
      "cell_type": "markdown",
      "metadata": {
        "id": "Gkk7dpwTIH4Q",
        "colab_type": "text"
      },
      "source": [
        "#### Create Pandas Dataframe from the Dictionaries of Metadata"
      ]
    },
    {
      "cell_type": "code",
      "metadata": {
        "id": "RUJ8QwSZIH4R",
        "colab_type": "code",
        "colab": {}
      },
      "source": [
        "# Imports - need some comment here\n",
        "import pandas as pd\n",
        "import pickle"
      ],
      "execution_count": null,
      "outputs": []
    },
    {
      "cell_type": "code",
      "metadata": {
        "id": "oj7sefp5IH4W",
        "colab_type": "code",
        "colab": {}
      },
      "source": [
        "pkl_file_list = pickle.load( open( \"files_pkl.pkl\", \"rb\" ) )   # laoding pickle files list of dictionaries\n",
        "df = pd.DataFrame()                                                #converting the dictionaries into dataframe\n",
        "\n",
        "# This code works fine\n",
        "for i in range(len(pkl_file_list)):\n",
        "    with open(pkl_file_list[i],'rb') as f:\n",
        "        dict_instruments = pickle.load(f)\n",
        "        df = df.append(dict_instruments,ignore_index = True)\n",
        "\n",
        "# But there's a more elegant pythonic way:\n",
        "for file in pkl_file_list:\n",
        "    with open(file,'rb') as f:\n",
        "        dict_instruments = pickle.load(f)\n",
        "        df = df.append(dict_instruments,ignore_index = True)\n",
        "# See if it works, I didn't test"
      ],
      "execution_count": null,
      "outputs": []
    },
    {
      "cell_type": "code",
      "metadata": {
        "id": "BsWP6-hxIH4Z",
        "colab_type": "code",
        "colab": {},
        "outputId": "9567b18c-2a3e-41db-a56d-98c6aff89b1b"
      },
      "source": [
        "# Some comment here\n",
        "df.head()                   #"
      ],
      "execution_count": null,
      "outputs": [
        {
          "output_type": "execute_result",
          "data": {
            "text/html": [
              "<div>\n",
              "<style scoped>\n",
              "    .dataframe tbody tr th:only-of-type {\n",
              "        vertical-align: middle;\n",
              "    }\n",
              "\n",
              "    .dataframe tbody tr th {\n",
              "        vertical-align: top;\n",
              "    }\n",
              "\n",
              "    .dataframe thead th {\n",
              "        text-align: right;\n",
              "    }\n",
              "</style>\n",
              "<table border=\"1\" class=\"dataframe\">\n",
              "  <thead>\n",
              "    <tr style=\"text-align: right;\">\n",
              "      <th></th>\n",
              "      <th>class</th>\n",
              "      <th>duration</th>\n",
              "      <th>filename</th>\n",
              "      <th>sampling rate</th>\n",
              "    </tr>\n",
              "  </thead>\n",
              "  <tbody>\n",
              "    <tr>\n",
              "      <th>0</th>\n",
              "      <td>banjo</td>\n",
              "      <td>3.474286</td>\n",
              "      <td>/Users/DELL/Updated_binder_enviro/all-samples/...</td>\n",
              "      <td>44100.0</td>\n",
              "    </tr>\n",
              "    <tr>\n",
              "      <th>1</th>\n",
              "      <td>banjo</td>\n",
              "      <td>3.500408</td>\n",
              "      <td>/Users/DELL/Updated_binder_enviro/all-samples/...</td>\n",
              "      <td>44100.0</td>\n",
              "    </tr>\n",
              "    <tr>\n",
              "      <th>2</th>\n",
              "      <td>banjo</td>\n",
              "      <td>3.813878</td>\n",
              "      <td>/Users/DELL/Updated_binder_enviro/all-samples/...</td>\n",
              "      <td>44100.0</td>\n",
              "    </tr>\n",
              "    <tr>\n",
              "      <th>3</th>\n",
              "      <td>banjo</td>\n",
              "      <td>3.160816</td>\n",
              "      <td>/Users/DELL/Updated_binder_enviro/all-samples/...</td>\n",
              "      <td>44100.0</td>\n",
              "    </tr>\n",
              "    <tr>\n",
              "      <th>4</th>\n",
              "      <td>banjo</td>\n",
              "      <td>3.866122</td>\n",
              "      <td>/Users/DELL/Updated_binder_enviro/all-samples/...</td>\n",
              "      <td>44100.0</td>\n",
              "    </tr>\n",
              "  </tbody>\n",
              "</table>\n",
              "</div>"
            ],
            "text/plain": [
              "   class  duration                                           filename  \\\n",
              "0  banjo  3.474286  /Users/DELL/Updated_binder_enviro/all-samples/...   \n",
              "1  banjo  3.500408  /Users/DELL/Updated_binder_enviro/all-samples/...   \n",
              "2  banjo  3.813878  /Users/DELL/Updated_binder_enviro/all-samples/...   \n",
              "3  banjo  3.160816  /Users/DELL/Updated_binder_enviro/all-samples/...   \n",
              "4  banjo  3.866122  /Users/DELL/Updated_binder_enviro/all-samples/...   \n",
              "\n",
              "   sampling rate  \n",
              "0        44100.0  \n",
              "1        44100.0  \n",
              "2        44100.0  \n",
              "3        44100.0  \n",
              "4        44100.0  "
            ]
          },
          "metadata": {
            "tags": []
          },
          "execution_count": 11
        }
      ]
    },
    {
      "cell_type": "markdown",
      "metadata": {
        "id": "uvexW0IgIH4d",
        "colab_type": "text"
      },
      "source": [
        "#### Filtering the dataframes"
      ]
    },
    {
      "cell_type": "code",
      "metadata": {
        "id": "J2gj-vCNIH4e",
        "colab_type": "code",
        "colab": {}
      },
      "source": [
        "filtr =  (df['class'] != 'percussion') & (df['duration']<=22)  #creating filter to leave out the files with a duration longer than 22seconds\n",
        "                                                                    # and leave out files of class percussion"
      ],
      "execution_count": null,
      "outputs": []
    },
    {
      "cell_type": "code",
      "metadata": {
        "id": "2o6iCcURIH4g",
        "colab_type": "code",
        "colab": {},
        "outputId": "8319f3e7-8660-44bb-d4f4-0a131141e222"
      },
      "source": [
        "# Comment here\n",
        "df[filtr]"
      ],
      "execution_count": null,
      "outputs": [
        {
          "output_type": "execute_result",
          "data": {
            "text/html": [
              "<div>\n",
              "<style scoped>\n",
              "    .dataframe tbody tr th:only-of-type {\n",
              "        vertical-align: middle;\n",
              "    }\n",
              "\n",
              "    .dataframe tbody tr th {\n",
              "        vertical-align: top;\n",
              "    }\n",
              "\n",
              "    .dataframe thead th {\n",
              "        text-align: right;\n",
              "    }\n",
              "</style>\n",
              "<table border=\"1\" class=\"dataframe\">\n",
              "  <thead>\n",
              "    <tr style=\"text-align: right;\">\n",
              "      <th></th>\n",
              "      <th>class</th>\n",
              "      <th>duration</th>\n",
              "      <th>filename</th>\n",
              "      <th>sampling rate</th>\n",
              "    </tr>\n",
              "  </thead>\n",
              "  <tbody>\n",
              "    <tr>\n",
              "      <th>0</th>\n",
              "      <td>banjo</td>\n",
              "      <td>3.474286</td>\n",
              "      <td>/Users/DELL/Updated_binder_enviro/all-samples/...</td>\n",
              "      <td>44100.0</td>\n",
              "    </tr>\n",
              "    <tr>\n",
              "      <th>1</th>\n",
              "      <td>banjo</td>\n",
              "      <td>3.500408</td>\n",
              "      <td>/Users/DELL/Updated_binder_enviro/all-samples/...</td>\n",
              "      <td>44100.0</td>\n",
              "    </tr>\n",
              "    <tr>\n",
              "      <th>2</th>\n",
              "      <td>banjo</td>\n",
              "      <td>3.813878</td>\n",
              "      <td>/Users/DELL/Updated_binder_enviro/all-samples/...</td>\n",
              "      <td>44100.0</td>\n",
              "    </tr>\n",
              "    <tr>\n",
              "      <th>3</th>\n",
              "      <td>banjo</td>\n",
              "      <td>3.160816</td>\n",
              "      <td>/Users/DELL/Updated_binder_enviro/all-samples/...</td>\n",
              "      <td>44100.0</td>\n",
              "    </tr>\n",
              "    <tr>\n",
              "      <th>4</th>\n",
              "      <td>banjo</td>\n",
              "      <td>3.866122</td>\n",
              "      <td>/Users/DELL/Updated_binder_enviro/all-samples/...</td>\n",
              "      <td>44100.0</td>\n",
              "    </tr>\n",
              "    <tr>\n",
              "      <th>...</th>\n",
              "      <td>...</td>\n",
              "      <td>...</td>\n",
              "      <td>...</td>\n",
              "      <td>...</td>\n",
              "    </tr>\n",
              "    <tr>\n",
              "      <th>13676</th>\n",
              "      <td>violin</td>\n",
              "      <td>2.220408</td>\n",
              "      <td>/Users/DELL/Updated_binder_enviro/all-samples/...</td>\n",
              "      <td>44100.0</td>\n",
              "    </tr>\n",
              "    <tr>\n",
              "      <th>13677</th>\n",
              "      <td>violin</td>\n",
              "      <td>1.306122</td>\n",
              "      <td>/Users/DELL/Updated_binder_enviro/all-samples/...</td>\n",
              "      <td>44100.0</td>\n",
              "    </tr>\n",
              "    <tr>\n",
              "      <th>13678</th>\n",
              "      <td>violin</td>\n",
              "      <td>1.567347</td>\n",
              "      <td>/Users/DELL/Updated_binder_enviro/all-samples/...</td>\n",
              "      <td>44100.0</td>\n",
              "    </tr>\n",
              "    <tr>\n",
              "      <th>13679</th>\n",
              "      <td>violin</td>\n",
              "      <td>2.351020</td>\n",
              "      <td>/Users/DELL/Updated_binder_enviro/all-samples/...</td>\n",
              "      <td>44100.0</td>\n",
              "    </tr>\n",
              "    <tr>\n",
              "      <th>13680</th>\n",
              "      <td>violin</td>\n",
              "      <td>1.436735</td>\n",
              "      <td>/Users/DELL/Updated_binder_enviro/all-samples/...</td>\n",
              "      <td>44100.0</td>\n",
              "    </tr>\n",
              "  </tbody>\n",
              "</table>\n",
              "<p>13480 rows × 4 columns</p>\n",
              "</div>"
            ],
            "text/plain": [
              "        class  duration                                           filename  \\\n",
              "0       banjo  3.474286  /Users/DELL/Updated_binder_enviro/all-samples/...   \n",
              "1       banjo  3.500408  /Users/DELL/Updated_binder_enviro/all-samples/...   \n",
              "2       banjo  3.813878  /Users/DELL/Updated_binder_enviro/all-samples/...   \n",
              "3       banjo  3.160816  /Users/DELL/Updated_binder_enviro/all-samples/...   \n",
              "4       banjo  3.866122  /Users/DELL/Updated_binder_enviro/all-samples/...   \n",
              "...       ...       ...                                                ...   \n",
              "13676  violin  2.220408  /Users/DELL/Updated_binder_enviro/all-samples/...   \n",
              "13677  violin  1.306122  /Users/DELL/Updated_binder_enviro/all-samples/...   \n",
              "13678  violin  1.567347  /Users/DELL/Updated_binder_enviro/all-samples/...   \n",
              "13679  violin  2.351020  /Users/DELL/Updated_binder_enviro/all-samples/...   \n",
              "13680  violin  1.436735  /Users/DELL/Updated_binder_enviro/all-samples/...   \n",
              "\n",
              "       sampling rate  \n",
              "0            44100.0  \n",
              "1            44100.0  \n",
              "2            44100.0  \n",
              "3            44100.0  \n",
              "4            44100.0  \n",
              "...              ...  \n",
              "13676        44100.0  \n",
              "13677        44100.0  \n",
              "13678        44100.0  \n",
              "13679        44100.0  \n",
              "13680        44100.0  \n",
              "\n",
              "[13480 rows x 4 columns]"
            ]
          },
          "metadata": {
            "tags": []
          },
          "execution_count": 13
        }
      ]
    },
    {
      "cell_type": "code",
      "metadata": {
        "id": "_M6DGCzvJld6",
        "colab_type": "code",
        "colab": {}
      },
      "source": [
        ""
      ],
      "execution_count": null,
      "outputs": []
    }
  ]
}