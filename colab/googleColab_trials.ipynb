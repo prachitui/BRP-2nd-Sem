{
  "nbformat": 4,
  "nbformat_minor": 0,
  "metadata": {
    "colab": {
      "name": "googleColab_trials.ipynb",
      "provenance": []
    },
    "kernelspec": {
      "name": "python3",
      "display_name": "Python 3"
    }
  },
  "cells": [
    {
      "cell_type": "markdown",
      "metadata": {
        "id": "2Mq1up29GmUn",
        "colab_type": "text"
      },
      "source": [
        "# Download the Dataset"
      ]
    },
    {
      "cell_type": "code",
      "metadata": {
        "id": "-Spv9-J0F-y8",
        "colab_type": "code",
        "colab": {
          "base_uri": "https://localhost:8080/",
          "height": 84
        },
        "outputId": "47528f36-eeb2-4c19-bb40-b60e57f94ad7"
      },
      "source": [
        "#!wget https://philharmonia-assets.s3-eu-west-1.amazonaws.com/uploads/2020/02/12112005/all-samples.zip\n",
        "#Install pywget\n",
        "!pip install pywget # Don't install like that in your system, use anaconda navigtor"
      ],
      "execution_count": 1,
      "outputs": [
        {
          "output_type": "stream",
          "text": [
            "Collecting pywget\n",
            "  Downloading https://files.pythonhosted.org/packages/55/8b/6c565c0c52ab1a543f0548180601b0f97d387a2c4e40b2a43e384365e0fd/pywget-0.26-py2.py3-none-any.whl\n",
            "Installing collected packages: pywget\n",
            "Successfully installed pywget-0.26\n"
          ],
          "name": "stdout"
        }
      ]
    },
    {
      "cell_type": "code",
      "metadata": {
        "id": "lZWSTgZGdCyf",
        "colab_type": "code",
        "colab": {
          "base_uri": "https://localhost:8080/",
          "height": 35
        },
        "outputId": "5536d13f-5e0c-42a4-ed88-b3b22b7c6563"
      },
      "source": [
        "# Once you installed the pywget in your environment this should work\n",
        "from pywget import wget\n",
        "link = \"https://philharmonia-assets.s3-eu-west-1.amazonaws.com/uploads/2020/02/12112005/all-samples.zip\"\n",
        "destination = \"./\" # this is the directory where you want the file to be saved\n",
        "# in your case the can be something like /Users/DELL/Notebookks/\n",
        "wget.download(link, destination)"
      ],
      "execution_count": 2,
      "outputs": [
        {
          "output_type": "execute_result",
          "data": {
            "application/vnd.google.colaboratory.intrinsic": {
              "type": "string"
            },
            "text/plain": [
              "'./all-samples.zip'"
            ]
          },
          "metadata": {
            "tags": []
          },
          "execution_count": 2
        }
      ]
    },
    {
      "cell_type": "markdown",
      "metadata": {
        "id": "bugpFsAHLmFL",
        "colab_type": "text"
      },
      "source": [
        "# Extract zip files"
      ]
    },
    {
      "cell_type": "code",
      "metadata": {
        "id": "YCJr_oF2GfrH",
        "colab_type": "code",
        "colab": {}
      },
      "source": [
        "from zipfile import ZipFile\n",
        "with ZipFile('all-samples.zip', 'r') as zipObj:\n",
        "   # Extract all the contents of zip file in current directory\n",
        "   zipObj.extractall()"
      ],
      "execution_count": 3,
      "outputs": []
    },
    {
      "cell_type": "code",
      "metadata": {
        "id": "gem9j-UlGqWz",
        "colab_type": "code",
        "colab": {}
      },
      "source": [
        "import os\n",
        "dir_path='./all-samples/'"
      ],
      "execution_count": 4,
      "outputs": []
    },
    {
      "cell_type": "code",
      "metadata": {
        "id": "tvSk59UgHEgR",
        "colab_type": "code",
        "colab": {}
      },
      "source": [
        "for path, dir_list, file_list in os.walk(dir_path):\n",
        "    for file_name in file_list:\n",
        "        if file_name.endswith(\".zip\"):\n",
        "            abs_file_path = os.path.join(path, file_name)\n",
        "            output_path = os.path.splitext(abs_file_path)[0]\n",
        "            zip_obj = ZipFile(abs_file_path, 'r')\n",
        "            zip_obj.extractall(output_path)\n",
        "            zip_obj.close()\n",
        "  "
      ],
      "execution_count": 5,
      "outputs": []
    },
    {
      "cell_type": "markdown",
      "metadata": {
        "id": "BHuLb0VNM00M",
        "colab_type": "text"
      },
      "source": [
        "# Start Trials"
      ]
    },
    {
      "cell_type": "code",
      "metadata": {
        "id": "iRM4Jo5TH0Xa",
        "colab_type": "code",
        "colab": {}
      },
      "source": [
        "path_dataset='./all-samples/'\n",
        "import fnmatch\n",
        "import librosa\n",
        "import sys\n",
        "import numpy as np\n",
        "import pickle"
      ],
      "execution_count": 6,
      "outputs": []
    },
    {
      "cell_type": "code",
      "metadata": {
        "id": "hWG0-e_zH4UR",
        "colab_type": "code",
        "colab": {
          "base_uri": "https://localhost:8080/",
          "height": 622
        },
        "outputId": "e0f05e8d-f2ea-420e-b174-7d8e098f2419"
      },
      "source": [
        "instruments = ['banjo','bass-clarinet','bassoon', 'cello','clarinet','contrabassoon',\n",
        "               'english-horn','double-bass','flute','french-horn','guitar','mandolin',\n",
        "               'oboe','percussion','saxophone','trombone','trumpet','tuba','viola','violin']\n",
        "classes = []\n",
        "durations = []\n",
        "files_error = []\n",
        "files_mp3 = []\n",
        "files_pkl = []\n",
        "files_npy = []\n",
        "\n",
        "counter=1\n",
        "# Walk through all files in path_dataset\n",
        "for root, dirnames, filenames in os.walk(path_dataset):\n",
        "    # Get all mp3 files\n",
        "    for filename in fnmatch.filter(filenames, '*.mp3'):\n",
        "      print (\"Get %d = %s\"%(counter, filename))\n",
        "      # Get path and filename without extension\n",
        "      name_no_ext = os.path.join(root,os.path.splitext(filename)[0])\n",
        "      try:\n",
        "        # Load mp3\n",
        "        y, sr = librosa.load(os.path.join(root, filename), sr=None)\n",
        "        # Append mp3 file to list\n",
        "        files_mp3.append(name_no_ext+'.mp3')\n",
        "        # Save audio samples as numpy array\n",
        "        np.save(name_no_ext,y)\n",
        "        # Append .npy file to list\n",
        "        files_npy.append(name_no_ext+'.npy')\n",
        "        # Get duration of audio file\n",
        "        duration =librosa.get_duration(y=y, sr=sr)\n",
        "        # Append duration to the list\n",
        "        durations.append(duration)\n",
        "        # Get type os instrument from filename and append to list\n",
        "        if 'percussion' in root:\n",
        "          class_inst='percussion'\n",
        "          classes.append(class_inst)\n",
        "        else:\n",
        "          for instrument in instruments:\n",
        "            if fnmatch.fnmatchcase(filename, instrument+'*'):\n",
        "              class_inst=instrument\n",
        "              classes.append(class_inst)\n",
        "        # Create a dictionary with data from file\n",
        "        data_dictionary = {'filename': (name_no_ext+'.npy'), 'sampling rate' : sr, 'duration' : duration, 'class' : class_inst}\n",
        "        # Save dictionary to a file .pkl\n",
        "        with open(name_no_ext+'.pkl', 'wb') as f:\n",
        "                pickle.dump(data_dictionary, f)\n",
        "        # Append .pkl file to a list\n",
        "        files_pkl.append(name_no_ext+'.pkl')\n",
        "      except Exception as e:\n",
        "            files_error.append({'file':os.path.join(root, filename),'error':sys.exc_info()[0]})\n",
        "            print(\"Error loading %s. Error: %s\" % (filename,e))\n",
        "      counter+=1\n",
        "\n",
        "# Save classes list\n",
        "with open('classes.pkl', 'wb') as f:\n",
        "  pickle.dump(classes, f)\n",
        "# Save durations list\n",
        "with open('durations.pkl', 'wb') as f:\n",
        "  pickle.dump(durations, f)\n",
        "# Save files error list\n",
        "with open('files_errors.pkl', 'wb') as f:\n",
        "  pickle.dump(files_error, f)\n",
        "# Save files mp3 list\n",
        "with open('files_mp3.pkl', 'wb') as f:\n",
        "  pickle.dump(files_mp3, f)\n",
        "# Save files pkl files list\n",
        "with open('files_pkl.pkl', 'wb') as f:\n",
        "  pickle.dump(files_pkl, f)\n",
        "# Save files npy list\n",
        "with open('files_npy.pkl', 'wb') as f:\n",
        "  pickle.dump(files_npy, f)"
      ],
      "execution_count": 7,
      "outputs": [
        {
          "output_type": "stream",
          "text": [
            "Get 1 = bassoon_C4_phrase_forte_fluttertonguing.mp3\n",
            "Get 2 = bassoon_B4_025_fortissimo_normal.mp3\n",
            "Get 3 = bassoon_Cs2_025_mezzo-piano_normal.mp3\n",
            "Get 4 = bassoon_G3_phrase_mezzo-forte_staccato.mp3\n",
            "Get 5 = bassoon_Fs4_05_piano_normal.mp3\n",
            "Get 6 = bassoon_F3_phrase_mezzo-forte_tongued-slur.mp3\n",
            "Get 7 = bassoon_G2_15_piano_normal.mp3\n",
            "Get 8 = bassoon_Fs2_1_fortissimo_normal.mp3\n",
            "Get 9 = bassoon_C4_05_forte_normal.mp3\n",
            "Get 10 = bassoon_B1_025_fortissimo_normal.mp3\n",
            "Get 11 = bassoon_D3_15_forte_normal.mp3\n",
            "Get 12 = bassoon_As4_long_forte_minor-trill.mp3\n",
            "Get 13 = bassoon_E2_very-long_cresc-decresc_normal.mp3\n",
            "Get 14 = bassoon_G4_05_piano_normal.mp3\n",
            "Get 15 = bassoon_B2_025_forte_normal.mp3\n"
          ],
          "name": "stdout"
        },
        {
          "output_type": "error",
          "ename": "KeyboardInterrupt",
          "evalue": "ignored",
          "traceback": [
            "\u001b[0;31m---------------------------------------------------------------------------\u001b[0m",
            "\u001b[0;31mKeyboardInterrupt\u001b[0m                         Traceback (most recent call last)",
            "\u001b[0;32m<ipython-input-7-36fde1036d06>\u001b[0m in \u001b[0;36m<module>\u001b[0;34m()\u001b[0m\n\u001b[1;32m     19\u001b[0m       \u001b[0;32mtry\u001b[0m\u001b[0;34m:\u001b[0m\u001b[0;34m\u001b[0m\u001b[0;34m\u001b[0m\u001b[0m\n\u001b[1;32m     20\u001b[0m         \u001b[0;31m# Load mp3\u001b[0m\u001b[0;34m\u001b[0m\u001b[0;34m\u001b[0m\u001b[0;34m\u001b[0m\u001b[0m\n\u001b[0;32m---> 21\u001b[0;31m         \u001b[0my\u001b[0m\u001b[0;34m,\u001b[0m \u001b[0msr\u001b[0m \u001b[0;34m=\u001b[0m \u001b[0mlibrosa\u001b[0m\u001b[0;34m.\u001b[0m\u001b[0mload\u001b[0m\u001b[0;34m(\u001b[0m\u001b[0mos\u001b[0m\u001b[0;34m.\u001b[0m\u001b[0mpath\u001b[0m\u001b[0;34m.\u001b[0m\u001b[0mjoin\u001b[0m\u001b[0;34m(\u001b[0m\u001b[0mroot\u001b[0m\u001b[0;34m,\u001b[0m \u001b[0mfilename\u001b[0m\u001b[0;34m)\u001b[0m\u001b[0;34m,\u001b[0m \u001b[0msr\u001b[0m\u001b[0;34m=\u001b[0m\u001b[0;32mNone\u001b[0m\u001b[0;34m)\u001b[0m\u001b[0;34m\u001b[0m\u001b[0;34m\u001b[0m\u001b[0m\n\u001b[0m\u001b[1;32m     22\u001b[0m         \u001b[0;31m# Append mp3 file to list\u001b[0m\u001b[0;34m\u001b[0m\u001b[0;34m\u001b[0m\u001b[0;34m\u001b[0m\u001b[0m\n\u001b[1;32m     23\u001b[0m         \u001b[0mfiles_mp3\u001b[0m\u001b[0;34m.\u001b[0m\u001b[0mappend\u001b[0m\u001b[0;34m(\u001b[0m\u001b[0mname_no_ext\u001b[0m\u001b[0;34m+\u001b[0m\u001b[0;34m'.mp3'\u001b[0m\u001b[0;34m)\u001b[0m\u001b[0;34m\u001b[0m\u001b[0;34m\u001b[0m\u001b[0m\n",
            "\u001b[0;32m/usr/local/lib/python3.6/dist-packages/librosa/core/audio.py\u001b[0m in \u001b[0;36mload\u001b[0;34m(path, sr, mono, offset, duration, dtype, res_type)\u001b[0m\n\u001b[1;32m    117\u001b[0m \u001b[0;34m\u001b[0m\u001b[0m\n\u001b[1;32m    118\u001b[0m     \u001b[0my\u001b[0m \u001b[0;34m=\u001b[0m \u001b[0;34m[\u001b[0m\u001b[0;34m]\u001b[0m\u001b[0;34m\u001b[0m\u001b[0;34m\u001b[0m\u001b[0m\n\u001b[0;32m--> 119\u001b[0;31m     \u001b[0;32mwith\u001b[0m \u001b[0maudioread\u001b[0m\u001b[0;34m.\u001b[0m\u001b[0maudio_open\u001b[0m\u001b[0;34m(\u001b[0m\u001b[0mos\u001b[0m\u001b[0;34m.\u001b[0m\u001b[0mpath\u001b[0m\u001b[0;34m.\u001b[0m\u001b[0mrealpath\u001b[0m\u001b[0;34m(\u001b[0m\u001b[0mpath\u001b[0m\u001b[0;34m)\u001b[0m\u001b[0;34m)\u001b[0m \u001b[0;32mas\u001b[0m \u001b[0minput_file\u001b[0m\u001b[0;34m:\u001b[0m\u001b[0;34m\u001b[0m\u001b[0;34m\u001b[0m\u001b[0m\n\u001b[0m\u001b[1;32m    120\u001b[0m         \u001b[0msr_native\u001b[0m \u001b[0;34m=\u001b[0m \u001b[0minput_file\u001b[0m\u001b[0;34m.\u001b[0m\u001b[0msamplerate\u001b[0m\u001b[0;34m\u001b[0m\u001b[0;34m\u001b[0m\u001b[0m\n\u001b[1;32m    121\u001b[0m         \u001b[0mn_channels\u001b[0m \u001b[0;34m=\u001b[0m \u001b[0minput_file\u001b[0m\u001b[0;34m.\u001b[0m\u001b[0mchannels\u001b[0m\u001b[0;34m\u001b[0m\u001b[0;34m\u001b[0m\u001b[0m\n",
            "\u001b[0;32m/usr/local/lib/python3.6/dist-packages/audioread/__init__.py\u001b[0m in \u001b[0;36maudio_open\u001b[0;34m(path, backends)\u001b[0m\n\u001b[1;32m    105\u001b[0m     \"\"\"\n\u001b[1;32m    106\u001b[0m     \u001b[0;32mif\u001b[0m \u001b[0mbackends\u001b[0m \u001b[0;32mis\u001b[0m \u001b[0;32mNone\u001b[0m\u001b[0;34m:\u001b[0m\u001b[0;34m\u001b[0m\u001b[0;34m\u001b[0m\u001b[0m\n\u001b[0;32m--> 107\u001b[0;31m         \u001b[0mbackends\u001b[0m \u001b[0;34m=\u001b[0m \u001b[0mavailable_backends\u001b[0m\u001b[0;34m(\u001b[0m\u001b[0;34m)\u001b[0m\u001b[0;34m\u001b[0m\u001b[0;34m\u001b[0m\u001b[0m\n\u001b[0m\u001b[1;32m    108\u001b[0m \u001b[0;34m\u001b[0m\u001b[0m\n\u001b[1;32m    109\u001b[0m     \u001b[0;32mfor\u001b[0m \u001b[0mBackendClass\u001b[0m \u001b[0;32min\u001b[0m \u001b[0mbackends\u001b[0m\u001b[0;34m:\u001b[0m\u001b[0;34m\u001b[0m\u001b[0;34m\u001b[0m\u001b[0m\n",
            "\u001b[0;32m/usr/local/lib/python3.6/dist-packages/audioread/__init__.py\u001b[0m in \u001b[0;36mavailable_backends\u001b[0;34m()\u001b[0m\n\u001b[1;32m     69\u001b[0m \u001b[0;34m\u001b[0m\u001b[0m\n\u001b[1;32m     70\u001b[0m     \u001b[0;31m# Core Audio.\u001b[0m\u001b[0;34m\u001b[0m\u001b[0;34m\u001b[0m\u001b[0;34m\u001b[0m\u001b[0m\n\u001b[0;32m---> 71\u001b[0;31m     \u001b[0;32mif\u001b[0m \u001b[0m_ca_available\u001b[0m\u001b[0;34m(\u001b[0m\u001b[0;34m)\u001b[0m\u001b[0;34m:\u001b[0m\u001b[0;34m\u001b[0m\u001b[0;34m\u001b[0m\u001b[0m\n\u001b[0m\u001b[1;32m     72\u001b[0m         \u001b[0;32mfrom\u001b[0m \u001b[0;34m.\u001b[0m \u001b[0;32mimport\u001b[0m \u001b[0mmacca\u001b[0m\u001b[0;34m\u001b[0m\u001b[0;34m\u001b[0m\u001b[0m\n\u001b[1;32m     73\u001b[0m         \u001b[0mresult\u001b[0m\u001b[0;34m.\u001b[0m\u001b[0mappend\u001b[0m\u001b[0;34m(\u001b[0m\u001b[0mmacca\u001b[0m\u001b[0;34m.\u001b[0m\u001b[0mExtAudioFile\u001b[0m\u001b[0;34m)\u001b[0m\u001b[0;34m\u001b[0m\u001b[0;34m\u001b[0m\u001b[0m\n",
            "\u001b[0;32m/usr/local/lib/python3.6/dist-packages/audioread/__init__.py\u001b[0m in \u001b[0;36m_ca_available\u001b[0;34m()\u001b[0m\n\u001b[1;32m     47\u001b[0m     \"\"\"\n\u001b[1;32m     48\u001b[0m     \u001b[0;32mimport\u001b[0m \u001b[0mctypes\u001b[0m\u001b[0;34m.\u001b[0m\u001b[0mutil\u001b[0m\u001b[0;34m\u001b[0m\u001b[0;34m\u001b[0m\u001b[0m\n\u001b[0;32m---> 49\u001b[0;31m     \u001b[0mlib\u001b[0m \u001b[0;34m=\u001b[0m \u001b[0mctypes\u001b[0m\u001b[0;34m.\u001b[0m\u001b[0mutil\u001b[0m\u001b[0;34m.\u001b[0m\u001b[0mfind_library\u001b[0m\u001b[0;34m(\u001b[0m\u001b[0;34m'AudioToolbox'\u001b[0m\u001b[0;34m)\u001b[0m\u001b[0;34m\u001b[0m\u001b[0;34m\u001b[0m\u001b[0m\n\u001b[0m\u001b[1;32m     50\u001b[0m     \u001b[0;32mreturn\u001b[0m \u001b[0mlib\u001b[0m \u001b[0;32mis\u001b[0m \u001b[0;32mnot\u001b[0m \u001b[0;32mNone\u001b[0m\u001b[0;34m\u001b[0m\u001b[0;34m\u001b[0m\u001b[0m\n\u001b[1;32m     51\u001b[0m \u001b[0;34m\u001b[0m\u001b[0m\n",
            "\u001b[0;32m/usr/lib/python3.6/ctypes/util.py\u001b[0m in \u001b[0;36mfind_library\u001b[0;34m(name)\u001b[0m\n\u001b[1;32m    312\u001b[0m             \u001b[0;31m# See issue #9998\u001b[0m\u001b[0;34m\u001b[0m\u001b[0;34m\u001b[0m\u001b[0;34m\u001b[0m\u001b[0m\n\u001b[1;32m    313\u001b[0m             \u001b[0;32mreturn\u001b[0m \u001b[0m_findSoname_ldconfig\u001b[0m\u001b[0;34m(\u001b[0m\u001b[0mname\u001b[0m\u001b[0;34m)\u001b[0m \u001b[0;32mor\u001b[0m\u001b[0;31m \u001b[0m\u001b[0;31m\\\u001b[0m\u001b[0;34m\u001b[0m\u001b[0;34m\u001b[0m\u001b[0m\n\u001b[0;32m--> 314\u001b[0;31m                    \u001b[0m_get_soname\u001b[0m\u001b[0;34m(\u001b[0m\u001b[0m_findLib_gcc\u001b[0m\u001b[0;34m(\u001b[0m\u001b[0mname\u001b[0m\u001b[0;34m)\u001b[0m \u001b[0;32mor\u001b[0m \u001b[0m_findLib_ld\u001b[0m\u001b[0;34m(\u001b[0m\u001b[0mname\u001b[0m\u001b[0;34m)\u001b[0m\u001b[0;34m)\u001b[0m\u001b[0;34m\u001b[0m\u001b[0;34m\u001b[0m\u001b[0m\n\u001b[0m\u001b[1;32m    315\u001b[0m \u001b[0;34m\u001b[0m\u001b[0m\n\u001b[1;32m    316\u001b[0m \u001b[0;31m################################################################\u001b[0m\u001b[0;34m\u001b[0m\u001b[0;34m\u001b[0m\u001b[0;34m\u001b[0m\u001b[0m\n",
            "\u001b[0;32m/usr/lib/python3.6/ctypes/util.py\u001b[0m in \u001b[0;36m_findLib_gcc\u001b[0;34m(name)\u001b[0m\n\u001b[1;32m    114\u001b[0m                 \u001b[0;32mreturn\u001b[0m \u001b[0;32mNone\u001b[0m\u001b[0;34m\u001b[0m\u001b[0;34m\u001b[0m\u001b[0m\n\u001b[1;32m    115\u001b[0m             \u001b[0;32mwith\u001b[0m \u001b[0mproc\u001b[0m\u001b[0;34m:\u001b[0m\u001b[0;34m\u001b[0m\u001b[0;34m\u001b[0m\u001b[0m\n\u001b[0;32m--> 116\u001b[0;31m                 \u001b[0mtrace\u001b[0m \u001b[0;34m=\u001b[0m \u001b[0mproc\u001b[0m\u001b[0;34m.\u001b[0m\u001b[0mstdout\u001b[0m\u001b[0;34m.\u001b[0m\u001b[0mread\u001b[0m\u001b[0;34m(\u001b[0m\u001b[0;34m)\u001b[0m\u001b[0;34m\u001b[0m\u001b[0;34m\u001b[0m\u001b[0m\n\u001b[0m\u001b[1;32m    117\u001b[0m         \u001b[0;32mfinally\u001b[0m\u001b[0;34m:\u001b[0m\u001b[0;34m\u001b[0m\u001b[0;34m\u001b[0m\u001b[0m\n\u001b[1;32m    118\u001b[0m             \u001b[0;32mtry\u001b[0m\u001b[0;34m:\u001b[0m\u001b[0;34m\u001b[0m\u001b[0;34m\u001b[0m\u001b[0m\n",
            "\u001b[0;31mKeyboardInterrupt\u001b[0m: "
          ]
        }
      ]
    },
    {
      "cell_type": "code",
      "metadata": {
        "id": "MSL3yvS5H7ZJ",
        "colab_type": "code",
        "colab": {}
      },
      "source": [
        "import pandas as pd\n",
        "ds_Classes = pd.Series(classes)\n",
        "print(ds_Classes.value_counts())\n",
        "print(ds_Classes.value_counts().sum())"
      ],
      "execution_count": null,
      "outputs": []
    },
    {
      "cell_type": "markdown",
      "metadata": {
        "id": "VyqHadOS53NE",
        "colab_type": "text"
      },
      "source": [
        "The cells below is just to show you a way to learn and understand how to get information about the errors."
      ]
    },
    {
      "cell_type": "code",
      "metadata": {
        "id": "sWO0aUs2GWMs",
        "colab_type": "code",
        "colab": {}
      },
      "source": [
        "print(len(classes))\n",
        "print(len(durations))\n",
        "print(len(files_error))\n",
        "print(len(files_npy))\n",
        "print(len(files_pkl))\n",
        "print(len(files_mp3))"
      ],
      "execution_count": null,
      "outputs": []
    },
    {
      "cell_type": "code",
      "metadata": {
        "id": "JLFtkm1VFsUK",
        "colab_type": "code",
        "colab": {}
      },
      "source": [
        "import numpy as np\n",
        "import matplotlib.pyplot as plt\n",
        "import math\n",
        "df_durations = pd.Series(durations)\n",
        "w = 1\n",
        "n = math.ceil((df_durations.max() - df_durations.min())/w)\n",
        "plt.figure(figsize=(10,8))\n",
        "df_durations.hist(grid=True, bins=n, rwidth=0.8,\n",
        "                   color='#607c8e', histtype='bar', ec='black')\n",
        "plt.xticks(np.arange(0,80,1), rotation=90);"
      ],
      "execution_count": null,
      "outputs": []
    },
    {
      "cell_type": "markdown",
      "metadata": {
        "id": "uIOM8Ptp8ez1",
        "colab_type": "text"
      },
      "source": [
        "The maximum duration is 77 seconds and the minimum is 0.078 seconds. the .value_counts will count just the numbers that are exaclty the same, we used .value_coutns for the list of strings to count how many times each string is present in the list. For the histogram it doesn't make sense to use .value_count()\n",
        "\n",
        "Now we now, that most of the durations are lower than 22 seconds, so if we want we can zoom in and plot just the bins until 20 seconds but we must have in mind that there are audio files with the duration bigger than 20 seconds. Can you find out how many audio files have the duration higher than 20 seconds?"
      ]
    },
    {
      "cell_type": "code",
      "metadata": {
        "id": "f_TLH9_7GblM",
        "colab_type": "code",
        "colab": {}
      },
      "source": [
        "import numpy as np\n",
        "import matplotlib.pyplot as plt\n",
        "import math\n",
        "df_durations = pd.Series(durations)\n",
        "w = 1\n",
        "n = math.ceil((df_durations.max() - df_durations.min())/w)\n",
        "plt.figure(figsize=(10,8))\n",
        "df_durations.hist(grid=True, bins=np.arange(0,20,1), rwidth=0.8,\n",
        "                   color='#607c8e', histtype='bar', ec='black')\n",
        "plt.xticks(np.arange(0,20,1), rotation=90);"
      ],
      "execution_count": null,
      "outputs": []
    },
    {
      "cell_type": "code",
      "metadata": {
        "id": "NlLrv8_y90OE",
        "colab_type": "code",
        "colab": {}
      },
      "source": [
        "We see that the great majority of audio files has a duration of less than 1 second."
      ],
      "execution_count": null,
      "outputs": []
    },
    {
      "cell_type": "code",
      "metadata": {
        "id": "hbPCZ_U47Z4o",
        "colab_type": "code",
        "colab": {}
      },
      "source": [
        "df_durations.le(1).value_counts()\n",
        "# We see that 7339 audio files have the duration smaller than 1 second, and 6342 have duration higher than 6342"
      ],
      "execution_count": null,
      "outputs": []
    },
    {
      "cell_type": "code",
      "metadata": {
        "id": "wLxVbe_0-beG",
        "colab_type": "code",
        "colab": {}
      },
      "source": [
        "(df_durations >= 20)"
      ],
      "execution_count": null,
      "outputs": []
    },
    {
      "cell_type": "code",
      "metadata": {
        "id": "yVAmBh2l-eoZ",
        "colab_type": "code",
        "colab": {}
      },
      "source": [
        "(df_durations >= 20).value_counts()\n",
        "# here we see that only 60 audio files have the duration higher than 20 seconds."
      ],
      "execution_count": null,
      "outputs": []
    },
    {
      "cell_type": "code",
      "metadata": {
        "id": "6mIBzWT3-iz6",
        "colab_type": "code",
        "colab": {}
      },
      "source": [
        "df_durations[df_durations >= 20]\n",
        "# There are many ways to do the same kind of thing in Python, here are the files that have the duration higher than 20 seconds."
      ],
      "execution_count": null,
      "outputs": []
    },
    {
      "cell_type": "code",
      "metadata": {
        "id": "0GodXWbC-y9i",
        "colab_type": "code",
        "colab": {}
      },
      "source": [
        "import numpy as np\n",
        "my_array=np.array([0,1,2,3,4])\n",
        "my_filename='my_filename'\n",
        "\n",
        "# Saving an array:\n",
        "with open(my_filename+'.npy', 'wb') as f:\n",
        "  np.save(f, my_array)"
      ],
      "execution_count": null,
      "outputs": []
    },
    {
      "cell_type": "code",
      "metadata": {
        "id": "QlK0zvY9YB92",
        "colab_type": "code",
        "colab": {}
      },
      "source": [
        "# Loading the saved array\n",
        "with open('my_filename.npy', 'rb') as f:\n",
        "  my_loaded_array = np.load(f)"
      ],
      "execution_count": null,
      "outputs": []
    },
    {
      "cell_type": "code",
      "metadata": {
        "id": "b82rNLkRYblz",
        "colab_type": "code",
        "colab": {}
      },
      "source": [
        "print(my_loaded_array)"
      ],
      "execution_count": null,
      "outputs": []
    },
    {
      "cell_type": "code",
      "metadata": {
        "id": "WzI6C1xWYdo0",
        "colab_type": "code",
        "colab": {}
      },
      "source": [
        "# the file my_filename.npy was save in the working directory\n",
        "!ls -l "
      ],
      "execution_count": null,
      "outputs": []
    },
    {
      "cell_type": "code",
      "metadata": {
        "id": "cdpdEbqdZWwn",
        "colab_type": "code",
        "colab": {}
      },
      "source": [
        "# We can see that the file my_filename.npy was saved and has 160 bytes"
      ],
      "execution_count": null,
      "outputs": []
    },
    {
      "cell_type": "code",
      "metadata": {
        "id": "YJd0ZKENGpuf",
        "colab_type": "code",
        "colab": {}
      },
      "source": [
        "!ls  ./all-samples/all-samples/bassoon/\n"
      ],
      "execution_count": null,
      "outputs": []
    },
    {
      "cell_type": "code",
      "metadata": {
        "id": "Lv-LNv4FKUU8",
        "colab_type": "code",
        "colab": {}
      },
      "source": [
        ""
      ],
      "execution_count": null,
      "outputs": []
    }
  ]
}
