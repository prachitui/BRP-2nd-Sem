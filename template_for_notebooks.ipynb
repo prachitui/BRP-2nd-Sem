{
  "nbformat": 4,
  "nbformat_minor": 0,
  "metadata": {
    "colab": {
      "name": "template_for_notebooks.ipynb",
      "provenance": []
    },
    "kernelspec": {
      "name": "python3",
      "display_name": "Python 3"
    }
  },
  "cells": [
    {
      "cell_type": "markdown",
      "metadata": {
        "id": "NZyRAH1K2bu8",
        "colab_type": "text"
      },
      "source": [
        "# Name of the Project\n",
        "## Name of the Subject (baisc research project or something)\n",
        "### Student Name: your name\n",
        "### Professor Supervisor: namy of prof. schuller\n",
        "### Research Assistant Supervisor: Renato de C. R. Profeta"
      ]
    },
    {
      "cell_type": "markdown",
      "metadata": {
        "id": "OdrZg6k-3-a_",
        "colab_type": "text"
      },
      "source": [
        "## Dataset Exploration and Files Preparation (for other notebooks change this title)"
      ]
    },
    {
      "cell_type": "markdown",
      "metadata": {
        "id": "vh8GScmG4DWL",
        "colab_type": "text"
      },
      "source": [
        "### Name of Subsection (example: Preparing files and Getting Metadata from the Dataset)\n",
        "#### Subssection description (example: Loading .mp3 files, saving audio samples as numpy arrays, getting duration of audio files, getting instrument type from filename, creating dictionaries of metadata)"
      ]
    },
    {
      "cell_type": "code",
      "metadata": {
        "id": "pDzvOCsn4tkD",
        "colab_type": "code",
        "colab": {}
      },
      "source": [
        "# Here you can put the part of the code related to this part.\n"
      ],
      "execution_count": 3,
      "outputs": []
    },
    {
      "cell_type": "code",
      "metadata": {
        "id": "ZMRhscZz52mX",
        "colab_type": "code",
        "colab": {}
      },
      "source": [
        "# Use as many cells as you need."
      ],
      "execution_count": null,
      "outputs": []
    },
    {
      "cell_type": "markdown",
      "metadata": {
        "id": "a2bqI2yx4pgO",
        "colab_type": "text"
      },
      "source": [
        "### Name of Subsection (example: Plotting Instrument Types Bar Chart)\n",
        "#### Subssection descritpion (description of whta you are doing)"
      ]
    },
    {
      "cell_type": "code",
      "metadata": {
        "id": "0wQjOI6O5xmV",
        "colab_type": "code",
        "colab": {}
      },
      "source": [
        "# Here you can put the part of the code to plot the classes bar chart"
      ],
      "execution_count": 4,
      "outputs": []
    },
    {
      "cell_type": "code",
      "metadata": {
        "id": "f8Oq0jBY58jB",
        "colab_type": "code",
        "colab": {}
      },
      "source": [
        "# Use as many cells as you need"
      ],
      "execution_count": 5,
      "outputs": []
    },
    {
      "cell_type": "markdown",
      "metadata": {
        "id": "TqQuZ-bD5_yX",
        "colab_type": "text"
      },
      "source": [
        "### Name of Subsection (example: Plotting Durations of Audio Files Histogram)\n",
        "#### Subssection descritpion (description of whta you are doing)"
      ]
    },
    {
      "cell_type": "code",
      "metadata": {
        "id": "cQKbBGuo6IvV",
        "colab_type": "code",
        "colab": {}
      },
      "source": [
        "# Here you can put the part of the code to plot the duration histogram"
      ],
      "execution_count": 6,
      "outputs": []
    },
    {
      "cell_type": "code",
      "metadata": {
        "id": "MQzAHeHY6Mac",
        "colab_type": "code",
        "colab": {}
      },
      "source": [
        "# Use as many cells as you need"
      ],
      "execution_count": null,
      "outputs": []
    }
  ]
}