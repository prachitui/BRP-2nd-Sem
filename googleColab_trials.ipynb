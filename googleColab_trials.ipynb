{
  "nbformat": 4,
  "nbformat_minor": 0,
  "metadata": {
    "colab": {
      "name": "googleColab_trials.ipynb",
      "provenance": []
    },
    "kernelspec": {
      "name": "python3",
      "display_name": "Python 3"
    }
  },
  "cells": [
    {
      "cell_type": "markdown",
      "metadata": {
        "id": "2Mq1up29GmUn",
        "colab_type": "text"
      },
      "source": [
        "# Download the Dataset"
      ]
    },
    {
      "cell_type": "code",
      "metadata": {
        "id": "-Spv9-J0F-y8",
        "colab_type": "code",
        "colab": {
          "base_uri": "https://localhost:8080/",
          "height": 202
        },
        "outputId": "05d1b791-a0ec-4cdb-bc91-561178f0d7f9"
      },
      "source": [
        "!wget https://philharmonia-assets.s3-eu-west-1.amazonaws.com/uploads/2020/02/12112005/all-samples.zip"
      ],
      "execution_count": 1,
      "outputs": [
        {
          "output_type": "stream",
          "text": [
            "--2020-06-06 10:30:53--  https://philharmonia-assets.s3-eu-west-1.amazonaws.com/uploads/2020/02/12112005/all-samples.zip\n",
            "Resolving philharmonia-assets.s3-eu-west-1.amazonaws.com (philharmonia-assets.s3-eu-west-1.amazonaws.com)... 52.218.60.16\n",
            "Connecting to philharmonia-assets.s3-eu-west-1.amazonaws.com (philharmonia-assets.s3-eu-west-1.amazonaws.com)|52.218.60.16|:443... connected.\n",
            "HTTP request sent, awaiting response... 200 OK\n",
            "Length: 260849422 (249M) [application/zip]\n",
            "Saving to: ‘all-samples.zip’\n",
            "\n",
            "all-samples.zip     100%[===================>] 248.76M  30.5MB/s    in 8.8s    \n",
            "\n",
            "2020-06-06 10:31:03 (28.2 MB/s) - ‘all-samples.zip’ saved [260849422/260849422]\n",
            "\n"
          ],
          "name": "stdout"
        }
      ]
    },
    {
      "cell_type": "markdown",
      "metadata": {
        "id": "bugpFsAHLmFL",
        "colab_type": "text"
      },
      "source": [
        "# Extract zip files"
      ]
    },
    {
      "cell_type": "code",
      "metadata": {
        "id": "YCJr_oF2GfrH",
        "colab_type": "code",
        "colab": {}
      },
      "source": [
        "from zipfile import ZipFile\n",
        "with ZipFile('all-samples.zip', 'r') as zipObj:\n",
        "   # Extract all the contents of zip file in current directory\n",
        "   zipObj.extractall()"
      ],
      "execution_count": 0,
      "outputs": []
    },
    {
      "cell_type": "code",
      "metadata": {
        "id": "gem9j-UlGqWz",
        "colab_type": "code",
        "colab": {}
      },
      "source": [
        "import os\n",
        "dir_path='./all-samples'"
      ],
      "execution_count": 0,
      "outputs": []
    },
    {
      "cell_type": "code",
      "metadata": {
        "id": "tvSk59UgHEgR",
        "colab_type": "code",
        "colab": {}
      },
      "source": [
        "for path, dir_list, file_list in os.walk(dir_path):\n",
        "    for file_name in file_list:\n",
        "        if file_name.endswith(\".zip\"):\n",
        "            abs_file_path = os.path.join(path, file_name)\n",
        "\n",
        "            parent_path = os.path.split(abs_file_path)[0]\n",
        "            output_folder_name = os.path.splitext(abs_file_path)[0]\n",
        "            output_path = os.path.join(parent_path, output_folder_name)\n",
        "\n",
        "            zip_obj = ZipFile(abs_file_path, 'r')\n",
        "            zip_obj.extractall(output_path)\n",
        "            zip_obj.close()"
      ],
      "execution_count": 0,
      "outputs": []
    },
    {
      "cell_type": "markdown",
      "metadata": {
        "id": "BHuLb0VNM00M",
        "colab_type": "text"
      },
      "source": [
        "# Start Trials"
      ]
    },
    {
      "cell_type": "code",
      "metadata": {
        "id": "iRM4Jo5TH0Xa",
        "colab_type": "code",
        "colab": {}
      },
      "source": [
        "path_dataset='./all-samples/all-samples/'"
      ],
      "execution_count": 0,
      "outputs": []
    },
    {
      "cell_type": "code",
      "metadata": {
        "id": "hWG0-e_zH4UR",
        "colab_type": "code",
        "colab": {}
      },
      "source": [
        "instruments = ['banjo','bass-clarinet','bassoon', 'cello','clarinet','contrabassoon',\n",
        "               'english-horn','double-bass','flute','french-horn','guitar','mandolin',\n",
        "               'oboe','percussion','saxophone','trombone','trumpet','tuba','viola','violin']\n",
        "classes = []\n",
        "\n",
        "for root, dirnames, filenames in os.walk(path_dataset):\n",
        "    for filename in filenames:\n",
        "        for instrument in instruments:\n",
        "            if instrument in filename:\n",
        "                classes.append(instrument)"
      ],
      "execution_count": 0,
      "outputs": []
    },
    {
      "cell_type": "code",
      "metadata": {
        "id": "MSL3yvS5H7ZJ",
        "colab_type": "code",
        "colab": {
          "base_uri": "https://localhost:8080/",
          "height": 353
        },
        "outputId": "9db0829f-f568-4325-ed66-ba723af82b52"
      },
      "source": [
        "import pandas as pd\n",
        "ds_Classes = pd.Series(classes)\n",
        "ds_Classes.value_counts()"
      ],
      "execution_count": 10,
      "outputs": [
        {
          "output_type": "execute_result",
          "data": {
            "text/plain": [
              "clarinet         1790\n",
              "violin           1502\n",
              "bassoon          1430\n",
              "viola             974\n",
              "tuba              972\n",
              "bass-clarinet     944\n",
              "cello             930\n",
              "flute             878\n",
              "double-bass       852\n",
              "trombone          831\n",
              "saxophone         733\n",
              "contrabassoon     710\n",
              "english-horn      691\n",
              "french-horn       652\n",
              "oboe              596\n",
              "trumpet           485\n",
              "guitar            107\n",
              "mandolin           80\n",
              "banjo              74\n",
              "dtype: int64"
            ]
          },
          "metadata": {
            "tags": []
          },
          "execution_count": 10
        }
      ]
    },
    {
      "cell_type": "code",
      "metadata": {
        "id": "RTl0ze76Mm2Z",
        "colab_type": "code",
        "colab": {}
      },
      "source": [
        ""
      ],
      "execution_count": 0,
      "outputs": []
    }
  ]
}