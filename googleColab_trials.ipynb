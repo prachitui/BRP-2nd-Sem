{
  "nbformat": 4,
  "nbformat_minor": 0,
  "metadata": {
    "colab": {
      "name": "googleColab_trials.ipynb",
      "provenance": []
    },
    "kernelspec": {
      "name": "python3",
      "display_name": "Python 3"
    }
  },
  "cells": [
    {
      "cell_type": "markdown",
      "metadata": {
        "id": "2Mq1up29GmUn",
        "colab_type": "text"
      },
      "source": [
        "# Download the Dataset"
      ]
    },
    {
      "cell_type": "code",
      "metadata": {
        "id": "-Spv9-J0F-y8",
        "colab_type": "code",
        "colab": {
          "base_uri": "https://localhost:8080/",
          "height": 202
        },
        "outputId": "9a33b879-49aa-4154-da27-ab9d7dccce6a"
      },
      "source": [
        "!wget https://philharmonia-assets.s3-eu-west-1.amazonaws.com/uploads/2020/02/12112005/all-samples.zip"
      ],
      "execution_count": null,
      "outputs": [
        {
          "output_type": "stream",
          "text": [
            "--2020-06-22 14:09:21--  https://philharmonia-assets.s3-eu-west-1.amazonaws.com/uploads/2020/02/12112005/all-samples.zip\n",
            "Resolving philharmonia-assets.s3-eu-west-1.amazonaws.com (philharmonia-assets.s3-eu-west-1.amazonaws.com)... 52.218.56.168\n",
            "Connecting to philharmonia-assets.s3-eu-west-1.amazonaws.com (philharmonia-assets.s3-eu-west-1.amazonaws.com)|52.218.56.168|:443... connected.\n",
            "HTTP request sent, awaiting response... 200 OK\n",
            "Length: 260849422 (249M) [application/zip]\n",
            "Saving to: ‘all-samples.zip’\n",
            "\n",
            "all-samples.zip     100%[===================>] 248.76M  11.6MB/s    in 24s     \n",
            "\n",
            "2020-06-22 14:09:45 (10.6 MB/s) - ‘all-samples.zip’ saved [260849422/260849422]\n",
            "\n"
          ],
          "name": "stdout"
        }
      ]
    },
    {
      "cell_type": "markdown",
      "metadata": {
        "id": "bugpFsAHLmFL",
        "colab_type": "text"
      },
      "source": [
        "# Extract zip files"
      ]
    },
    {
      "cell_type": "code",
      "metadata": {
        "id": "YCJr_oF2GfrH",
        "colab_type": "code",
        "colab": {}
      },
      "source": [
        "from zipfile import ZipFile\n",
        "with ZipFile('all-samples.zip', 'r') as zipObj:\n",
        "   # Extract all the contents of zip file in current directory\n",
        "   zipObj.extractall()"
      ],
      "execution_count": null,
      "outputs": []
    },
    {
      "cell_type": "code",
      "metadata": {
        "id": "gem9j-UlGqWz",
        "colab_type": "code",
        "colab": {}
      },
      "source": [
        "import os\n",
        "dir_path='./all-samples'"
      ],
      "execution_count": null,
      "outputs": []
    },
    {
      "cell_type": "code",
      "metadata": {
        "id": "tvSk59UgHEgR",
        "colab_type": "code",
        "colab": {}
      },
      "source": [
        "for path, dir_list, file_list in os.walk(dir_path):\n",
        "    for file_name in file_list:\n",
        "        if file_name.endswith(\".zip\"):\n",
        "            abs_file_path = os.path.join(path, file_name)\n",
        "\n",
        "            parent_path = os.path.split(abs_file_path)[0]\n",
        "            output_folder_name = os.path.splitext(abs_file_path)[0]\n",
        "            output_path = os.path.join(parent_path, output_folder_name)\n",
        "\n",
        "            zip_obj = ZipFile(abs_file_path, 'r')\n",
        "            zip_obj.extractall(output_path)\n",
        "            zip_obj.close()"
      ],
      "execution_count": null,
      "outputs": []
    },
    {
      "cell_type": "markdown",
      "metadata": {
        "id": "BHuLb0VNM00M",
        "colab_type": "text"
      },
      "source": [
        "# Start Trials"
      ]
    },
    {
      "cell_type": "code",
      "metadata": {
        "id": "iRM4Jo5TH0Xa",
        "colab_type": "code",
        "colab": {}
      },
      "source": [
        "path_dataset='./all-samples/all-samples/'\n",
        "import fnmatch\n",
        "import librosa\n",
        "import sys"
      ],
      "execution_count": null,
      "outputs": []
    },
    {
      "cell_type": "code",
      "metadata": {
        "id": "hWG0-e_zH4UR",
        "colab_type": "code",
        "colab": {
          "base_uri": "https://localhost:8080/",
          "height": 1000
        },
        "outputId": "e260284a-1e3e-4fbf-e18e-b6e59430d6e5"
      },
      "source": [
        "instruments = ['banjo','bass-clarinet','bassoon', 'cello','clarinet','contrabassoon',\n",
        "               'english-horn','double-bass','flute','french-horn','guitar','mandolin',\n",
        "               'oboe','percussion','saxophone','trombone','trumpet','tuba','viola','violin']\n",
        "classes = []\n",
        "durations = []\n",
        "files_error = []\n",
        "\n",
        "counter=1\n",
        "for root, dirnames, filenames in os.walk(path_dataset):\n",
        "    for filename in filenames:\n",
        "      print (\"Get %d = %s\"%(counter, filename))\n",
        "      try:\n",
        "        y, sr = librosa.load(os.path.join(root, filename), sr=None)\n",
        "        durations.append(librosa.get_duration(y=y, sr=sr))\n",
        "        if 'percussion' in root:\n",
        "          classes.append('percussion')\n",
        "        else:\n",
        "          for instrument in instruments:\n",
        "            if fnmatch.fnmatchcase(filename, instrument+'*'):\n",
        "              classes.append(instrument)\n",
        "      except Exception as e:\n",
        "            files_error.append({'file':os.path.join(root, filename),'error':sys.exc_info()})\n",
        "            print(\"Error loading %s. Error: %s\" % (filename,e))\n",
        "      counter+=1\n"
      ],
      "execution_count": null,
      "outputs": [
        {
          "output_type": "stream",
          "text": [
            "Get 1 = clarinet_G4_025_forte_normal.mp3\n",
            "Get 2 = clarinet_E4_05_fortissimo_normal.mp3\n",
            "Get 3 = clarinet_A6_15_forte_normal.mp3\n",
            "Get 4 = clarinet_Gs3_1_piano_normal.mp3\n",
            "Get 5 = clarinet_A5_1_pianissimo_normal.mp3\n",
            "Get 6 = clarinet_A3_025_pianissimo_normal.mp3\n",
            "Get 7 = clarinet_E5_phrase_mezzo-forte_tongued-slur.mp3\n",
            "Get 8 = clarinet_C5_025_pianissimo_normal.mp3\n",
            "Get 9 = clarinet_D4_long_mezzo-forte_major-trill.mp3\n",
            "Get 10 = clarinet_Fs6_025_fortissimo_normal.mp3\n",
            "Get 11 = clarinet_B4_15_piano_normal.mp3\n",
            "Get 12 = clarinet_D5_1_piano_normal.mp3\n",
            "Get 13 = clarinet_Ds5_05_pianissimo_normal.mp3\n",
            "Get 14 = clarinet_D3_05_fortissimo_normal.mp3\n",
            "Get 15 = clarinet_Ds3_15_pianissimo_normal.mp3\n",
            "Get 16 = clarinet_G3_15_forte_normal.mp3\n",
            "Get 17 = clarinet_D4_1_piano_normal.mp3\n",
            "Get 18 = clarinet_Ds5_15_piano_normal.mp3\n",
            "Get 19 = clarinet_G6_15_pianissimo_normal.mp3\n",
            "Get 20 = clarinet_Fs5_1_piano_normal.mp3\n",
            "Get 21 = clarinet_D4_very-long_cresc-decresc_normal.mp3\n",
            "Get 22 = clarinet_D5_very-long_piano_normal.mp3\n",
            "Get 23 = clarinet_Ds3_1_pianissimo_normal.mp3\n",
            "Get 24 = clarinet_B3_15_pianissimo_normal.mp3\n",
            "Get 25 = clarinet_G3_1_forte_normal.mp3\n",
            "Get 26 = clarinet_D4_1_forte_normal.mp3\n",
            "Get 27 = clarinet_B6_025_forte_normal.mp3\n",
            "Get 28 = clarinet_B4_025_piano_normal.mp3\n",
            "Get 29 = clarinet_D5_long_mezzo-forte_major-trill.mp3\n",
            "Get 30 = clarinet_As6_025_pianissimo_normal.mp3\n",
            "Get 31 = clarinet_G3_025_pianissimo_normal.mp3\n",
            "Get 32 = clarinet_G3_phrase_mezzo-forte_staccatissimo.mp3\n",
            "Get 33 = clarinet_Fs3_1_piano_normal.mp3\n",
            "Get 34 = clarinet_D4_025_fortissimo_normal.mp3\n",
            "Get 35 = clarinet_E4_1_forte_normal.mp3\n",
            "Get 36 = clarinet_E6_1_pianissimo_normal.mp3\n",
            "Get 37 = clarinet_G6_1_fortissimo_normal.mp3\n",
            "Get 38 = clarinet_E6_025_forte_normal.mp3\n",
            "Get 39 = clarinet_B5_05_fortissimo_normal.mp3\n",
            "Get 40 = clarinet_C7_15_piano_normal.mp3\n",
            "Get 41 = clarinet_B4_025_forte_normal.mp3\n",
            "Get 42 = clarinet_Ds3_15_forte_normal.mp3\n",
            "Get 43 = clarinet_D4_phrase_mezzo-forte_staccato.mp3\n",
            "Get 44 = clarinet_D4_05_forte_normal.mp3\n",
            "Get 45 = clarinet_F4_15_pianissimo_normal.mp3\n",
            "Get 46 = clarinet_F6_very-long_cresc-decresc_normal.mp3\n",
            "Get 47 = clarinet_F6_15_piano_normal.mp3\n",
            "Get 48 = clarinet_D6_025_pianissimo_normal.mp3\n",
            "Get 49 = clarinet_D3_15_fortissimo_normal.mp3\n",
            "Get 50 = clarinet_D4_1_fortissimo_normal.mp3\n",
            "Get 51 = clarinet_B6_1_pianissimo_normal.mp3\n",
            "Get 52 = clarinet_F6_025_forte_normal.mp3\n",
            "Get 53 = clarinet_Ds3_025_fortissimo_normal.mp3\n",
            "Get 54 = clarinet_F4_05_fortissimo_normal.mp3\n",
            "Get 55 = clarinet_G6_1_piano_normal.mp3\n",
            "Get 56 = clarinet_B4_phrase_mezzo-forte_staccatissimo.mp3\n",
            "Get 57 = clarinet_C7_15_pianissimo_normal.mp3\n",
            "Get 58 = clarinet_E6_15_pianissimo_normal.mp3\n",
            "Get 59 = clarinet_D4_phrase_mezzo-forte_fluttertonguing.mp3\n"
          ],
          "name": "stdout"
        },
        {
          "output_type": "error",
          "ename": "KeyboardInterrupt",
          "evalue": "ignored",
          "traceback": [
            "\u001b[0;31m---------------------------------------------------------------------------\u001b[0m",
            "\u001b[0;31mKeyboardInterrupt\u001b[0m                         Traceback (most recent call last)",
            "\u001b[0;32m<ipython-input-6-b1e5e337a43f>\u001b[0m in \u001b[0;36m<module>\u001b[0;34m()\u001b[0m\n\u001b[1;32m     11\u001b[0m       \u001b[0mprint\u001b[0m \u001b[0;34m(\u001b[0m\u001b[0;34m\"Get %d = %s\"\u001b[0m\u001b[0;34m%\u001b[0m\u001b[0;34m(\u001b[0m\u001b[0mcounter\u001b[0m\u001b[0;34m,\u001b[0m \u001b[0mfilename\u001b[0m\u001b[0;34m)\u001b[0m\u001b[0;34m)\u001b[0m\u001b[0;34m\u001b[0m\u001b[0;34m\u001b[0m\u001b[0m\n\u001b[1;32m     12\u001b[0m       \u001b[0;32mtry\u001b[0m\u001b[0;34m:\u001b[0m\u001b[0;34m\u001b[0m\u001b[0;34m\u001b[0m\u001b[0m\n\u001b[0;32m---> 13\u001b[0;31m         \u001b[0my\u001b[0m\u001b[0;34m,\u001b[0m \u001b[0msr\u001b[0m \u001b[0;34m=\u001b[0m \u001b[0mlibrosa\u001b[0m\u001b[0;34m.\u001b[0m\u001b[0mload\u001b[0m\u001b[0;34m(\u001b[0m\u001b[0mos\u001b[0m\u001b[0;34m.\u001b[0m\u001b[0mpath\u001b[0m\u001b[0;34m.\u001b[0m\u001b[0mjoin\u001b[0m\u001b[0;34m(\u001b[0m\u001b[0mroot\u001b[0m\u001b[0;34m,\u001b[0m \u001b[0mfilename\u001b[0m\u001b[0;34m)\u001b[0m\u001b[0;34m,\u001b[0m \u001b[0msr\u001b[0m\u001b[0;34m=\u001b[0m\u001b[0;32mNone\u001b[0m\u001b[0;34m)\u001b[0m\u001b[0;34m\u001b[0m\u001b[0;34m\u001b[0m\u001b[0m\n\u001b[0m\u001b[1;32m     14\u001b[0m         \u001b[0mdurations\u001b[0m\u001b[0;34m.\u001b[0m\u001b[0mappend\u001b[0m\u001b[0;34m(\u001b[0m\u001b[0mlibrosa\u001b[0m\u001b[0;34m.\u001b[0m\u001b[0mget_duration\u001b[0m\u001b[0;34m(\u001b[0m\u001b[0my\u001b[0m\u001b[0;34m=\u001b[0m\u001b[0my\u001b[0m\u001b[0;34m,\u001b[0m \u001b[0msr\u001b[0m\u001b[0;34m=\u001b[0m\u001b[0msr\u001b[0m\u001b[0;34m)\u001b[0m\u001b[0;34m)\u001b[0m\u001b[0;34m\u001b[0m\u001b[0;34m\u001b[0m\u001b[0m\n\u001b[1;32m     15\u001b[0m         \u001b[0;32mif\u001b[0m \u001b[0;34m'percussion'\u001b[0m \u001b[0;32min\u001b[0m \u001b[0mroot\u001b[0m\u001b[0;34m:\u001b[0m\u001b[0;34m\u001b[0m\u001b[0;34m\u001b[0m\u001b[0m\n",
            "\u001b[0;32m/usr/local/lib/python3.6/dist-packages/librosa/core/audio.py\u001b[0m in \u001b[0;36mload\u001b[0;34m(path, sr, mono, offset, duration, dtype, res_type)\u001b[0m\n\u001b[1;32m    117\u001b[0m \u001b[0;34m\u001b[0m\u001b[0m\n\u001b[1;32m    118\u001b[0m     \u001b[0my\u001b[0m \u001b[0;34m=\u001b[0m \u001b[0;34m[\u001b[0m\u001b[0;34m]\u001b[0m\u001b[0;34m\u001b[0m\u001b[0;34m\u001b[0m\u001b[0m\n\u001b[0;32m--> 119\u001b[0;31m     \u001b[0;32mwith\u001b[0m \u001b[0maudioread\u001b[0m\u001b[0;34m.\u001b[0m\u001b[0maudio_open\u001b[0m\u001b[0;34m(\u001b[0m\u001b[0mos\u001b[0m\u001b[0;34m.\u001b[0m\u001b[0mpath\u001b[0m\u001b[0;34m.\u001b[0m\u001b[0mrealpath\u001b[0m\u001b[0;34m(\u001b[0m\u001b[0mpath\u001b[0m\u001b[0;34m)\u001b[0m\u001b[0;34m)\u001b[0m \u001b[0;32mas\u001b[0m \u001b[0minput_file\u001b[0m\u001b[0;34m:\u001b[0m\u001b[0;34m\u001b[0m\u001b[0;34m\u001b[0m\u001b[0m\n\u001b[0m\u001b[1;32m    120\u001b[0m         \u001b[0msr_native\u001b[0m \u001b[0;34m=\u001b[0m \u001b[0minput_file\u001b[0m\u001b[0;34m.\u001b[0m\u001b[0msamplerate\u001b[0m\u001b[0;34m\u001b[0m\u001b[0;34m\u001b[0m\u001b[0m\n\u001b[1;32m    121\u001b[0m         \u001b[0mn_channels\u001b[0m \u001b[0;34m=\u001b[0m \u001b[0minput_file\u001b[0m\u001b[0;34m.\u001b[0m\u001b[0mchannels\u001b[0m\u001b[0;34m\u001b[0m\u001b[0;34m\u001b[0m\u001b[0m\n",
            "\u001b[0;32m/usr/local/lib/python3.6/dist-packages/audioread/__init__.py\u001b[0m in \u001b[0;36maudio_open\u001b[0;34m(path, backends)\u001b[0m\n\u001b[1;32m    109\u001b[0m     \u001b[0;32mfor\u001b[0m \u001b[0mBackendClass\u001b[0m \u001b[0;32min\u001b[0m \u001b[0mbackends\u001b[0m\u001b[0;34m:\u001b[0m\u001b[0;34m\u001b[0m\u001b[0;34m\u001b[0m\u001b[0m\n\u001b[1;32m    110\u001b[0m         \u001b[0;32mtry\u001b[0m\u001b[0;34m:\u001b[0m\u001b[0;34m\u001b[0m\u001b[0;34m\u001b[0m\u001b[0m\n\u001b[0;32m--> 111\u001b[0;31m             \u001b[0;32mreturn\u001b[0m \u001b[0mBackendClass\u001b[0m\u001b[0;34m(\u001b[0m\u001b[0mpath\u001b[0m\u001b[0;34m)\u001b[0m\u001b[0;34m\u001b[0m\u001b[0;34m\u001b[0m\u001b[0m\n\u001b[0m\u001b[1;32m    112\u001b[0m         \u001b[0;32mexcept\u001b[0m \u001b[0mDecodeError\u001b[0m\u001b[0;34m:\u001b[0m\u001b[0;34m\u001b[0m\u001b[0;34m\u001b[0m\u001b[0m\n\u001b[1;32m    113\u001b[0m             \u001b[0;32mpass\u001b[0m\u001b[0;34m\u001b[0m\u001b[0;34m\u001b[0m\u001b[0m\n",
            "\u001b[0;32m/usr/local/lib/python3.6/dist-packages/audioread/ffdec.py\u001b[0m in \u001b[0;36m__init__\u001b[0;34m(self, filename, block_size)\u001b[0m\n\u001b[1;32m    172\u001b[0m \u001b[0;34m\u001b[0m\u001b[0m\n\u001b[1;32m    173\u001b[0m         \u001b[0;31m# Read relevant information from stderr.\u001b[0m\u001b[0;34m\u001b[0m\u001b[0;34m\u001b[0m\u001b[0;34m\u001b[0m\u001b[0m\n\u001b[0;32m--> 174\u001b[0;31m         \u001b[0mself\u001b[0m\u001b[0;34m.\u001b[0m\u001b[0m_get_info\u001b[0m\u001b[0;34m(\u001b[0m\u001b[0;34m)\u001b[0m\u001b[0;34m\u001b[0m\u001b[0;34m\u001b[0m\u001b[0m\n\u001b[0m\u001b[1;32m    175\u001b[0m \u001b[0;34m\u001b[0m\u001b[0m\n\u001b[1;32m    176\u001b[0m         \u001b[0;31m# Start a separate thread to read the rest of the data from\u001b[0m\u001b[0;34m\u001b[0m\u001b[0;34m\u001b[0m\u001b[0;34m\u001b[0m\u001b[0m\n",
            "\u001b[0;32m/usr/local/lib/python3.6/dist-packages/audioread/ffdec.py\u001b[0m in \u001b[0;36m_get_info\u001b[0;34m(self)\u001b[0m\n\u001b[1;32m    216\u001b[0m         \u001b[0mout_parts\u001b[0m \u001b[0;34m=\u001b[0m \u001b[0;34m[\u001b[0m\u001b[0;34m]\u001b[0m\u001b[0;34m\u001b[0m\u001b[0;34m\u001b[0m\u001b[0m\n\u001b[1;32m    217\u001b[0m         \u001b[0;32mwhile\u001b[0m \u001b[0;32mTrue\u001b[0m\u001b[0;34m:\u001b[0m\u001b[0;34m\u001b[0m\u001b[0;34m\u001b[0m\u001b[0m\n\u001b[0;32m--> 218\u001b[0;31m             \u001b[0mline\u001b[0m \u001b[0;34m=\u001b[0m \u001b[0mself\u001b[0m\u001b[0;34m.\u001b[0m\u001b[0mproc\u001b[0m\u001b[0;34m.\u001b[0m\u001b[0mstderr\u001b[0m\u001b[0;34m.\u001b[0m\u001b[0mreadline\u001b[0m\u001b[0;34m(\u001b[0m\u001b[0;34m)\u001b[0m\u001b[0;34m\u001b[0m\u001b[0;34m\u001b[0m\u001b[0m\n\u001b[0m\u001b[1;32m    219\u001b[0m             \u001b[0;32mif\u001b[0m \u001b[0;32mnot\u001b[0m \u001b[0mline\u001b[0m\u001b[0;34m:\u001b[0m\u001b[0;34m\u001b[0m\u001b[0;34m\u001b[0m\u001b[0m\n\u001b[1;32m    220\u001b[0m                 \u001b[0;31m# EOF and data not found.\u001b[0m\u001b[0;34m\u001b[0m\u001b[0;34m\u001b[0m\u001b[0;34m\u001b[0m\u001b[0m\n",
            "\u001b[0;31mKeyboardInterrupt\u001b[0m: "
          ]
        }
      ]
    },
    {
      "cell_type": "code",
      "metadata": {
        "id": "MSL3yvS5H7ZJ",
        "colab_type": "code",
        "colab": {
          "base_uri": "https://localhost:8080/",
          "height": 370
        },
        "outputId": "09632d7d-9af4-4c74-f397-eabac157ce40"
      },
      "source": [
        "import pandas as pd\n",
        "ds_Classes = pd.Series(classes)\n",
        "ds_Classes.value_counts()"
      ],
      "execution_count": null,
      "outputs": [
        {
          "output_type": "execute_result",
          "data": {
            "text/plain": [
              "violin           1502\n",
              "viola             973\n",
              "tuba              972\n",
              "bass-clarinet     944\n",
              "cello             889\n",
              "flute             878\n",
              "double-bass       852\n",
              "clarinet          846\n",
              "trombone          831\n",
              "saxophone         732\n",
              "bassoon           720\n",
              "contrabassoon     710\n",
              "english-horn      691\n",
              "french-horn       652\n",
              "oboe              596\n",
              "trumpet           485\n",
              "percussion        148\n",
              "guitar            106\n",
              "mandolin           80\n",
              "banjo              74\n",
              "dtype: int64"
            ]
          },
          "metadata": {
            "tags": []
          },
          "execution_count": 7
        }
      ]
    },
    {
      "cell_type": "markdown",
      "metadata": {
        "id": "VyqHadOS53NE",
        "colab_type": "text"
      },
      "source": [
        "The cells below is just to show you a way to learn and understand how to get information about the errors."
      ]
    },
    {
      "cell_type": "code",
      "metadata": {
        "id": "sWO0aUs2GWMs",
        "colab_type": "code",
        "colab": {
          "base_uri": "https://localhost:8080/",
          "height": 54
        },
        "outputId": "be1c0e0d-4892-4d8c-d438-5598ad8807bb"
      },
      "source": [
        "print(files_error)"
      ],
      "execution_count": null,
      "outputs": [
        {
          "output_type": "stream",
          "text": [
            "[{'file': './all-samples/all-samples/saxophone/saxophone_Fs3_15_fortissimo_normal.mp3', 'error': (<class 'EOFError'>, EOFError(), <traceback object at 0x7f3cd1928f08>)}, {'file': './all-samples/all-samples/viola/viola_D6_05_piano_arco-normal.mp3', 'error': (<class 'EOFError'>, EOFError(), <traceback object at 0x7f3cd1928688>)}]\n"
          ],
          "name": "stdout"
        }
      ]
    },
    {
      "cell_type": "code",
      "metadata": {
        "id": "g0f8HpNi4qw_",
        "colab_type": "code",
        "colab": {
          "base_uri": "https://localhost:8080/",
          "height": 319
        },
        "outputId": "3e0ac91f-c647-443f-c007-20ad7e95206f"
      },
      "source": [
        "import traceback\n",
        "traceback.print_exception(files_error[0]['error'][0],files_error[0]['error'][1],files_error[0]['error'][2])"
      ],
      "execution_count": null,
      "outputs": [
        {
          "output_type": "stream",
          "text": [
            "Traceback (most recent call last):\n",
            "  File \"<ipython-input-6-b1e5e337a43f>\", line 13, in <module>\n",
            "    y, sr = librosa.load(os.path.join(root, filename), sr=None)\n",
            "  File \"/usr/local/lib/python3.6/dist-packages/librosa/core/audio.py\", line 119, in load\n",
            "    with audioread.audio_open(os.path.realpath(path)) as input_file:\n",
            "  File \"/usr/local/lib/python3.6/dist-packages/audioread/__init__.py\", line 111, in audio_open\n",
            "    return BackendClass(path)\n",
            "  File \"/usr/local/lib/python3.6/dist-packages/audioread/rawread.py\", line 65, in __init__\n",
            "    self._file = aifc.open(self._fh)\n",
            "  File \"/usr/lib/python3.6/aifc.py\", line 913, in open\n",
            "    return Aifc_read(f)\n",
            "  File \"/usr/lib/python3.6/aifc.py\", line 358, in __init__\n",
            "    self.initfp(f)\n",
            "  File \"/usr/lib/python3.6/aifc.py\", line 314, in initfp\n",
            "    chunk = Chunk(file)\n",
            "  File \"/usr/lib/python3.6/chunk.py\", line 63, in __init__\n",
            "    raise EOFError\n",
            "EOFError\n"
          ],
          "name": "stderr"
        }
      ]
    },
    {
      "cell_type": "code",
      "metadata": {
        "id": "vPMF3ZmM7_xp",
        "colab_type": "code",
        "colab": {
          "base_uri": "https://localhost:8080/",
          "height": 50
        },
        "outputId": "663c68a6-1819-4e9b-d05e-38470f99c126"
      },
      "source": [
        "# Maximum duration\n",
        "print(max(durations))\n",
        "# Minumum duration\n",
        "print(min(durations))"
      ],
      "execution_count": null,
      "outputs": [
        {
          "output_type": "stream",
          "text": [
            "77.60979591836735\n",
            "0.0783673469387755\n"
          ],
          "name": "stdout"
        }
      ]
    },
    {
      "cell_type": "code",
      "metadata": {
        "id": "JLFtkm1VFsUK",
        "colab_type": "code",
        "colab": {
          "base_uri": "https://localhost:8080/",
          "height": 486
        },
        "outputId": "76006380-e8c8-4236-c865-fc27e3c74451"
      },
      "source": [
        "import numpy as np\n",
        "import matplotlib.pyplot as plt\n",
        "import math\n",
        "df_durations = pd.Series(durations)\n",
        "w = 1\n",
        "n = math.ceil((df_durations.max() - df_durations.min())/w)\n",
        "plt.figure(figsize=(10,8))\n",
        "df_durations.hist(grid=True, bins=n, rwidth=0.8,\n",
        "                   color='#607c8e', histtype='bar', ec='black')\n",
        "plt.xticks(np.arange(0,80,1), rotation=90);"
      ],
      "execution_count": null,
      "outputs": [
        {
          "output_type": "display_data",
          "data": {
            "image/png": "[encoded data removed]",
            "text/plain": [
              "<Figure size 720x576 with 1 Axes>"
            ]
          },
          "metadata": {
            "tags": [],
            "needs_background": "light"
          }
        }
      ]
    },
    {
      "cell_type": "markdown",
      "metadata": {
        "id": "uIOM8Ptp8ez1",
        "colab_type": "text"
      },
      "source": [
        "The maximum duration is 77 seconds and the minimum is 0.078 seconds. the .value_counts will count just the numbers that are exaclty the same, we used .value_coutns for the list of strings to count how many times each string is present in the list. For the histogram it doesn't make sense to use .value_count()\n",
        "\n",
        "Now we now, that most of the durations are lower than 22 seconds, so if we want we can zoom in and plot just the bins until 20 seconds but we must have in mind that there are audio files with the duration bigger than 20 seconds. Can you find out how many audio files have the duration higher than 20 seconds?"
      ]
    },
    {
      "cell_type": "code",
      "metadata": {
        "id": "f_TLH9_7GblM",
        "colab_type": "code",
        "colab": {
          "base_uri": "https://localhost:8080/",
          "height": 486
        },
        "outputId": "a6f56022-bdaa-4fdc-9d6c-ed5bcba24fec"
      },
      "source": [
        "import numpy as np\n",
        "import matplotlib.pyplot as plt\n",
        "import math\n",
        "df_durations = pd.Series(durations)\n",
        "w = 1\n",
        "n = math.ceil((df_durations.max() - df_durations.min())/w)\n",
        "plt.figure(figsize=(10,8))\n",
        "df_durations.hist(grid=True, bins=np.arange(0,20,1), rwidth=0.8,\n",
        "                   color='#607c8e', histtype='bar', ec='black')\n",
        "plt.xticks(np.arange(0,20,1), rotation=90);"
      ],
      "execution_count": null,
      "outputs": [
        {
          "output_type": "display_data",
          "data": {
            "image/png": "[encoded data removed]",
            "text/plain": [
              "<Figure size 720x576 with 1 Axes>"
            ]
          },
          "metadata": {
            "tags": [],
            "needs_background": "light"
          }
        }
      ]
    },
    {
      "cell_type": "code",
      "metadata": {
        "id": "NlLrv8_y90OE",
        "colab_type": "code",
        "colab": {}
      },
      "source": [
        "We see that the great majority of audio files has a duration of less than 1 second."
      ],
      "execution_count": null,
      "outputs": []
    },
    {
      "cell_type": "code",
      "metadata": {
        "id": "hbPCZ_U47Z4o",
        "colab_type": "code",
        "colab": {
          "base_uri": "https://localhost:8080/",
          "height": 67
        },
        "outputId": "4bc7e8b1-1c44-405e-c340-2b9f6099765f"
      },
      "source": [
        "df_durations.le(1).value_counts()\n",
        "# We see that 7339 audio files have the duration smaller than 1 second, and 6342 have duration higher than 6342"
      ],
      "execution_count": null,
      "outputs": [
        {
          "output_type": "execute_result",
          "data": {
            "text/plain": [
              "False    7339\n",
              "True     6342\n",
              "dtype: int64"
            ]
          },
          "metadata": {
            "tags": []
          },
          "execution_count": 37
        }
      ]
    },
    {
      "cell_type": "code",
      "metadata": {
        "id": "wLxVbe_0-beG",
        "colab_type": "code",
        "colab": {
          "base_uri": "https://localhost:8080/",
          "height": 218
        },
        "outputId": "97fc9792-17c7-4abc-bbcf-3ea3b78d9de4"
      },
      "source": [
        "(df_durations >= 20)"
      ],
      "execution_count": null,
      "outputs": [
        {
          "output_type": "execute_result",
          "data": {
            "text/plain": [
              "0        False\n",
              "1        False\n",
              "2        False\n",
              "3        False\n",
              "4        False\n",
              "         ...  \n",
              "13676    False\n",
              "13677    False\n",
              "13678    False\n",
              "13679    False\n",
              "13680    False\n",
              "Length: 13681, dtype: bool"
            ]
          },
          "metadata": {
            "tags": []
          },
          "execution_count": 38
        }
      ]
    },
    {
      "cell_type": "code",
      "metadata": {
        "id": "yVAmBh2l-eoZ",
        "colab_type": "code",
        "colab": {
          "base_uri": "https://localhost:8080/",
          "height": 67
        },
        "outputId": "c6a868c3-bc02-43a5-da7d-47e87de13930"
      },
      "source": [
        "(df_durations >= 20).value_counts()\n",
        "# here we see that only 60 audio files have the duration higher than 20 seconds."
      ],
      "execution_count": null,
      "outputs": [
        {
          "output_type": "execute_result",
          "data": {
            "text/plain": [
              "False    13621\n",
              "True        60\n",
              "dtype: int64"
            ]
          },
          "metadata": {
            "tags": []
          },
          "execution_count": 39
        }
      ]
    },
    {
      "cell_type": "code",
      "metadata": {
        "id": "6mIBzWT3-iz6",
        "colab_type": "code",
        "colab": {
          "base_uri": "https://localhost:8080/",
          "height": 1000
        },
        "outputId": "05fb53e2-81d4-4235-e528-cb6fb68ae984"
      },
      "source": [
        "df_durations[df_durations >= 20]\n",
        "# There are many ways to do the same kind of thing in Python, here are the files that have the duration higher than 20 seconds."
      ],
      "execution_count": null,
      "outputs": [
        {
          "output_type": "execute_result",
          "data": {
            "text/plain": [
              "21       32.653061\n",
              "567      77.609796\n",
              "653      61.257143\n",
              "671      33.123265\n",
              "688      32.339592\n",
              "860      50.677551\n",
              "1045     62.302041\n",
              "1278     31.399184\n",
              "2148     40.411429\n",
              "2281     43.937959\n",
              "2410     41.456327\n",
              "2750     27.141224\n",
              "2949     28.499592\n",
              "3267     32.417959\n",
              "3638     70.661224\n",
              "3823     34.037551\n",
              "5999     54.308571\n",
              "6003     46.680816\n",
              "6013     26.618776\n",
              "6017     43.937959\n",
              "6188     52.819592\n",
              "6296     46.210612\n",
              "7153     29.544490\n",
              "7814     26.618776\n",
              "9342     23.144490\n",
              "9395     24.685714\n",
              "9641     20.897959\n",
              "9650     26.932245\n",
              "9751     20.297143\n",
              "9757     66.925714\n",
              "9776     24.137143\n",
              "9831     21.080816\n",
              "9847     52.349388\n",
              "9854     53.185306\n",
              "9884     22.935510\n",
              "9898     46.576327\n",
              "10053    21.942857\n",
              "10062    22.961633\n",
              "10106    57.939592\n",
              "10123    50.599184\n",
              "10135    28.813061\n",
              "10258    23.327347\n",
              "10261    22.360816\n",
              "10339    20.453878\n",
              "10380    22.700408\n",
              "10500    20.506122\n",
              "11379    22.543673\n",
              "11505    27.715918\n",
              "11604    31.399184\n",
              "11771    26.044082\n",
              "12144    31.216327\n",
              "12715    20.088163\n",
              "13051    41.769796\n",
              "13138    37.982041\n",
              "13189    33.384490\n",
              "13235    45.609796\n",
              "13259    39.209796\n",
              "13286    28.917551\n",
              "13319    37.590204\n",
              "13474    42.161633\n",
              "dtype: float64"
            ]
          },
          "metadata": {
            "tags": []
          },
          "execution_count": 40
        }
      ]
    },
    {
      "cell_type": "code",
      "metadata": {
        "id": "0GodXWbC-y9i",
        "colab_type": "code",
        "colab": {}
      },
      "source": [
        "import numpy as np\n",
        "my_array=np.array([0,1,2,3,4])\n",
        "my_filename='my_filename'\n",
        "\n",
        "# Saving an array:\n",
        "with open(my_filename+'.npy', 'wb') as f:\n",
        "  np.save(f, my_array)"
      ],
      "execution_count": 21,
      "outputs": []
    },
    {
      "cell_type": "code",
      "metadata": {
        "id": "QlK0zvY9YB92",
        "colab_type": "code",
        "colab": {}
      },
      "source": [
        "# Loading the saved array\n",
        "with open('my_filename.npy', 'rb') as f:\n",
        "  my_loaded_array = np.load(f)"
      ],
      "execution_count": 22,
      "outputs": []
    },
    {
      "cell_type": "code",
      "metadata": {
        "id": "b82rNLkRYblz",
        "colab_type": "code",
        "colab": {
          "base_uri": "https://localhost:8080/",
          "height": 34
        },
        "outputId": "5911adff-1323-4c1d-dbd8-10c643be4960"
      },
      "source": [
        "print(my_loaded_array)"
      ],
      "execution_count": 23,
      "outputs": [
        {
          "output_type": "stream",
          "text": [
            "[0 1 2 3 4]\n"
          ],
          "name": "stdout"
        }
      ]
    },
    {
      "cell_type": "code",
      "metadata": {
        "id": "WzI6C1xWYdo0",
        "colab_type": "code",
        "colab": {
          "base_uri": "https://localhost:8080/",
          "height": 134
        },
        "outputId": "73b384ba-1386-4e5b-9098-ed9d85446035"
      },
      "source": [
        "# the file my_filename.npy was save in the working directory\n",
        "!ls -l "
      ],
      "execution_count": 24,
      "outputs": [
        {
          "output_type": "stream",
          "text": [
            "total 254760\n",
            "drwxr-xr-x 3 root root      4096 Jun 22 14:09 all-samples\n",
            "-rw-r--r-- 1 root root 260849422 Feb 12 11:20 all-samples.zip\n",
            "drwxr-xr-x 3 root root      4096 Jun 22 14:09 __MACOSX\n",
            "-rw-r--r-- 1 root root       168 Jun 22 14:27 my_filename.npy\n",
            "-rw-r--r-- 1 root root       168 Jun 22 14:25 my_filename.turbo\n",
            "drwxr-xr-x 1 root root      4096 Jun 17 16:18 sample_data\n"
          ],
          "name": "stdout"
        }
      ]
    },
    {
      "cell_type": "code",
      "metadata": {
        "id": "cdpdEbqdZWwn",
        "colab_type": "code",
        "colab": {}
      },
      "source": [
        "# We can see that the file my_filename.npy was saved and has 160 bytes"
      ],
      "execution_count": 26,
      "outputs": []
    },
    {
      "cell_type": "code",
      "metadata": {
        "id": "t3HljbQqZd-c",
        "colab_type": "code",
        "colab": {}
      },
      "source": [
        ""
      ],
      "execution_count": null,
      "outputs": []
    }
  ]
}