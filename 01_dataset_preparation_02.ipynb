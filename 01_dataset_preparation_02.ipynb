{
 "cells": [
  {
   "cell_type": "markdown",
   "metadata": {},
   "source": [
    "# Predictor and Generator for Audio Signals using Machine Learning\n",
    "## Basic Research Project\n",
    "### Student Name: Prachi Sharma\n",
    "### Professor Supervisor: Prof. Gerald Schuller\n",
    "### Research Assistant Supervisor: Renato de C. R. Profeta"
   ]
  },
  {
   "cell_type": "markdown",
   "metadata": {},
   "source": [
    "## Create Pandas Dataframe from the Dictionaries of Metadata"
   ]
  },
  {
   "cell_type": "code",
   "execution_count": 1,
   "metadata": {},
   "outputs": [],
   "source": [
    "# Importing necessary libraries\n",
    "import pandas as pd\n",
    "import pickle"
   ]
  },
  {
   "cell_type": "code",
   "execution_count": 2,
   "metadata": {},
   "outputs": [],
   "source": [
    "pkl_file_list = pickle.load( open( \"files_pkl.pkl\", \"rb\" ) )   # laoding pickle files list of dictionaries\n",
    "df = pd.DataFrame()                                                #converting the dictionaries into dataframe\n",
    "\n",
    "# We had list of all the pickle files named 'files_pkl.pkl' we saved it into pkl_file_list\n",
    "\n",
    "# Now here we are looping over the list and accesing every pickle file, which is a dictionary in itself\n",
    "for i in range(len(pkl_file_list)):\n",
    "    with open(pkl_file_list[i],'rb') as f:\n",
    "        dict_instruments = pickle.load(f)\n",
    "        df = df.append(dict_instruments,ignore_index = True)"
   ]
  },
  {
   "cell_type": "code",
   "execution_count": 3,
   "metadata": {},
   "outputs": [
    {
     "data": {
      "text/html": [
       "<div>\n",
       "<style scoped>\n",
       "    .dataframe tbody tr th:only-of-type {\n",
       "        vertical-align: middle;\n",
       "    }\n",
       "\n",
       "    .dataframe tbody tr th {\n",
       "        vertical-align: top;\n",
       "    }\n",
       "\n",
       "    .dataframe thead th {\n",
       "        text-align: right;\n",
       "    }\n",
       "</style>\n",
       "<table border=\"1\" class=\"dataframe\">\n",
       "  <thead>\n",
       "    <tr style=\"text-align: right;\">\n",
       "      <th></th>\n",
       "      <th>class</th>\n",
       "      <th>duration</th>\n",
       "      <th>filename</th>\n",
       "      <th>sampling rate</th>\n",
       "    </tr>\n",
       "  </thead>\n",
       "  <tbody>\n",
       "    <tr>\n",
       "      <th>0</th>\n",
       "      <td>banjo</td>\n",
       "      <td>3.474286</td>\n",
       "      <td>/Users/DELL/Updated_binder_enviro/all-samples/...</td>\n",
       "      <td>44100.0</td>\n",
       "    </tr>\n",
       "    <tr>\n",
       "      <th>1</th>\n",
       "      <td>banjo</td>\n",
       "      <td>3.500408</td>\n",
       "      <td>/Users/DELL/Updated_binder_enviro/all-samples/...</td>\n",
       "      <td>44100.0</td>\n",
       "    </tr>\n",
       "    <tr>\n",
       "      <th>2</th>\n",
       "      <td>banjo</td>\n",
       "      <td>3.813878</td>\n",
       "      <td>/Users/DELL/Updated_binder_enviro/all-samples/...</td>\n",
       "      <td>44100.0</td>\n",
       "    </tr>\n",
       "    <tr>\n",
       "      <th>3</th>\n",
       "      <td>banjo</td>\n",
       "      <td>3.160816</td>\n",
       "      <td>/Users/DELL/Updated_binder_enviro/all-samples/...</td>\n",
       "      <td>44100.0</td>\n",
       "    </tr>\n",
       "    <tr>\n",
       "      <th>4</th>\n",
       "      <td>banjo</td>\n",
       "      <td>3.866122</td>\n",
       "      <td>/Users/DELL/Updated_binder_enviro/all-samples/...</td>\n",
       "      <td>44100.0</td>\n",
       "    </tr>\n",
       "  </tbody>\n",
       "</table>\n",
       "</div>"
      ],
      "text/plain": [
       "   class  duration                                           filename  \\\n",
       "0  banjo  3.474286  /Users/DELL/Updated_binder_enviro/all-samples/...   \n",
       "1  banjo  3.500408  /Users/DELL/Updated_binder_enviro/all-samples/...   \n",
       "2  banjo  3.813878  /Users/DELL/Updated_binder_enviro/all-samples/...   \n",
       "3  banjo  3.160816  /Users/DELL/Updated_binder_enviro/all-samples/...   \n",
       "4  banjo  3.866122  /Users/DELL/Updated_binder_enviro/all-samples/...   \n",
       "\n",
       "   sampling rate  \n",
       "0        44100.0  \n",
       "1        44100.0  \n",
       "2        44100.0  \n",
       "3        44100.0  \n",
       "4        44100.0  "
      ]
     },
     "execution_count": 3,
     "metadata": {},
     "output_type": "execute_result"
    }
   ],
   "source": [
    "# Here we are checking if we have our data right. So, we use df.head() to display some rows for us to check the data\n",
    "\n",
    "df.head()                   #"
   ]
  },
  {
   "cell_type": "markdown",
   "metadata": {},
   "source": [
    "#### Filtering the dataframes"
   ]
  },
  {
   "cell_type": "code",
   "execution_count": 4,
   "metadata": {},
   "outputs": [],
   "source": [
    "filtr =  (df['class'] != 'percussion') & (df['duration']<=22)  #creating filter to leave out the files with a duration longer than 22seconds\n",
    "                                                                    # and leave out files of class percussion"
   ]
  },
  {
   "cell_type": "code",
   "execution_count": 5,
   "metadata": {},
   "outputs": [
    {
     "data": {
      "text/html": [
       "<div>\n",
       "<style scoped>\n",
       "    .dataframe tbody tr th:only-of-type {\n",
       "        vertical-align: middle;\n",
       "    }\n",
       "\n",
       "    .dataframe tbody tr th {\n",
       "        vertical-align: top;\n",
       "    }\n",
       "\n",
       "    .dataframe thead th {\n",
       "        text-align: right;\n",
       "    }\n",
       "</style>\n",
       "<table border=\"1\" class=\"dataframe\">\n",
       "  <thead>\n",
       "    <tr style=\"text-align: right;\">\n",
       "      <th></th>\n",
       "      <th>class</th>\n",
       "      <th>duration</th>\n",
       "      <th>filename</th>\n",
       "      <th>sampling rate</th>\n",
       "    </tr>\n",
       "  </thead>\n",
       "  <tbody>\n",
       "    <tr>\n",
       "      <th>0</th>\n",
       "      <td>banjo</td>\n",
       "      <td>3.474286</td>\n",
       "      <td>/Users/DELL/Updated_binder_enviro/all-samples/...</td>\n",
       "      <td>44100.0</td>\n",
       "    </tr>\n",
       "    <tr>\n",
       "      <th>1</th>\n",
       "      <td>banjo</td>\n",
       "      <td>3.500408</td>\n",
       "      <td>/Users/DELL/Updated_binder_enviro/all-samples/...</td>\n",
       "      <td>44100.0</td>\n",
       "    </tr>\n",
       "    <tr>\n",
       "      <th>2</th>\n",
       "      <td>banjo</td>\n",
       "      <td>3.813878</td>\n",
       "      <td>/Users/DELL/Updated_binder_enviro/all-samples/...</td>\n",
       "      <td>44100.0</td>\n",
       "    </tr>\n",
       "    <tr>\n",
       "      <th>3</th>\n",
       "      <td>banjo</td>\n",
       "      <td>3.160816</td>\n",
       "      <td>/Users/DELL/Updated_binder_enviro/all-samples/...</td>\n",
       "      <td>44100.0</td>\n",
       "    </tr>\n",
       "    <tr>\n",
       "      <th>4</th>\n",
       "      <td>banjo</td>\n",
       "      <td>3.866122</td>\n",
       "      <td>/Users/DELL/Updated_binder_enviro/all-samples/...</td>\n",
       "      <td>44100.0</td>\n",
       "    </tr>\n",
       "    <tr>\n",
       "      <th>...</th>\n",
       "      <td>...</td>\n",
       "      <td>...</td>\n",
       "      <td>...</td>\n",
       "      <td>...</td>\n",
       "    </tr>\n",
       "    <tr>\n",
       "      <th>13676</th>\n",
       "      <td>violin</td>\n",
       "      <td>2.220408</td>\n",
       "      <td>/Users/DELL/Updated_binder_enviro/all-samples/...</td>\n",
       "      <td>44100.0</td>\n",
       "    </tr>\n",
       "    <tr>\n",
       "      <th>13677</th>\n",
       "      <td>violin</td>\n",
       "      <td>1.306122</td>\n",
       "      <td>/Users/DELL/Updated_binder_enviro/all-samples/...</td>\n",
       "      <td>44100.0</td>\n",
       "    </tr>\n",
       "    <tr>\n",
       "      <th>13678</th>\n",
       "      <td>violin</td>\n",
       "      <td>1.567347</td>\n",
       "      <td>/Users/DELL/Updated_binder_enviro/all-samples/...</td>\n",
       "      <td>44100.0</td>\n",
       "    </tr>\n",
       "    <tr>\n",
       "      <th>13679</th>\n",
       "      <td>violin</td>\n",
       "      <td>2.351020</td>\n",
       "      <td>/Users/DELL/Updated_binder_enviro/all-samples/...</td>\n",
       "      <td>44100.0</td>\n",
       "    </tr>\n",
       "    <tr>\n",
       "      <th>13680</th>\n",
       "      <td>violin</td>\n",
       "      <td>1.436735</td>\n",
       "      <td>/Users/DELL/Updated_binder_enviro/all-samples/...</td>\n",
       "      <td>44100.0</td>\n",
       "    </tr>\n",
       "  </tbody>\n",
       "</table>\n",
       "<p>13480 rows × 4 columns</p>\n",
       "</div>"
      ],
      "text/plain": [
       "        class  duration                                           filename  \\\n",
       "0       banjo  3.474286  /Users/DELL/Updated_binder_enviro/all-samples/...   \n",
       "1       banjo  3.500408  /Users/DELL/Updated_binder_enviro/all-samples/...   \n",
       "2       banjo  3.813878  /Users/DELL/Updated_binder_enviro/all-samples/...   \n",
       "3       banjo  3.160816  /Users/DELL/Updated_binder_enviro/all-samples/...   \n",
       "4       banjo  3.866122  /Users/DELL/Updated_binder_enviro/all-samples/...   \n",
       "...       ...       ...                                                ...   \n",
       "13676  violin  2.220408  /Users/DELL/Updated_binder_enviro/all-samples/...   \n",
       "13677  violin  1.306122  /Users/DELL/Updated_binder_enviro/all-samples/...   \n",
       "13678  violin  1.567347  /Users/DELL/Updated_binder_enviro/all-samples/...   \n",
       "13679  violin  2.351020  /Users/DELL/Updated_binder_enviro/all-samples/...   \n",
       "13680  violin  1.436735  /Users/DELL/Updated_binder_enviro/all-samples/...   \n",
       "\n",
       "       sampling rate  \n",
       "0            44100.0  \n",
       "1            44100.0  \n",
       "2            44100.0  \n",
       "3            44100.0  \n",
       "4            44100.0  \n",
       "...              ...  \n",
       "13676        44100.0  \n",
       "13677        44100.0  \n",
       "13678        44100.0  \n",
       "13679        44100.0  \n",
       "13680        44100.0  \n",
       "\n",
       "[13480 rows x 4 columns]"
      ]
     },
     "execution_count": 5,
     "metadata": {},
     "output_type": "execute_result"
    }
   ],
   "source": [
    "df[filtr] # checking out the filtered dataset here"
   ]
  },
  {
   "cell_type": "code",
   "execution_count": 6,
   "metadata": {},
   "outputs": [
    {
     "name": "stdout",
     "output_type": "stream",
     "text": [
      "        class  duration                                           filename  \\\n",
      "0       banjo  3.474286  /Users/DELL/Updated_binder_enviro/all-samples/...   \n",
      "1       banjo  3.500408  /Users/DELL/Updated_binder_enviro/all-samples/...   \n",
      "2       banjo  3.813878  /Users/DELL/Updated_binder_enviro/all-samples/...   \n",
      "3       banjo  3.160816  /Users/DELL/Updated_binder_enviro/all-samples/...   \n",
      "4       banjo  3.866122  /Users/DELL/Updated_binder_enviro/all-samples/...   \n",
      "...       ...       ...                                                ...   \n",
      "13676  violin  2.220408  /Users/DELL/Updated_binder_enviro/all-samples/...   \n",
      "13677  violin  1.306122  /Users/DELL/Updated_binder_enviro/all-samples/...   \n",
      "13678  violin  1.567347  /Users/DELL/Updated_binder_enviro/all-samples/...   \n",
      "13679  violin  2.351020  /Users/DELL/Updated_binder_enviro/all-samples/...   \n",
      "13680  violin  1.436735  /Users/DELL/Updated_binder_enviro/all-samples/...   \n",
      "\n",
      "       sampling rate  \n",
      "0            44100.0  \n",
      "1            44100.0  \n",
      "2            44100.0  \n",
      "3            44100.0  \n",
      "4            44100.0  \n",
      "...              ...  \n",
      "13676        44100.0  \n",
      "13677        44100.0  \n",
      "13678        44100.0  \n",
      "13679        44100.0  \n",
      "13680        44100.0  \n",
      "\n",
      "[13480 rows x 4 columns]\n"
     ]
    }
   ],
   "source": [
    "s = df[filtr] #saving the filtered dataset into a variable s\n",
    "print(s)   #printing to see our data"
   ]
  },
  {
   "cell_type": "markdown",
   "metadata": {},
   "source": [
    "## Dividing the dataset into training and test set here"
   ]
  },
  {
   "cell_type": "code",
   "execution_count": 7,
   "metadata": {},
   "outputs": [
    {
     "data": {
      "text/plain": [
       "5"
      ]
     },
     "execution_count": 7,
     "metadata": {},
     "output_type": "execute_result"
    }
   ],
   "source": [
    "# importing necessary libraries\n",
    "import numpy as np\n",
    "from sklearn.model_selection import StratifiedShuffleSplit\n",
    "\n",
    "sss = StratifiedShuffleSplit(n_splits=5, test_size=0.25, random_state=42)\n",
    "sss.get_n_splits(s)"
   ]
  },
  {
   "cell_type": "code",
   "execution_count": 8,
   "metadata": {},
   "outputs": [
    {
     "name": "stdout",
     "output_type": "stream",
     "text": [
      "StratifiedShuffleSplit(n_splits=5, random_state=42, test_size=0.25,\n",
      "            train_size=None)\n"
     ]
    }
   ],
   "source": [
    "print(sss)"
   ]
  },
  {
   "cell_type": "code",
   "execution_count": 9,
   "metadata": {},
   "outputs": [
    {
     "name": "stdout",
     "output_type": "stream",
     "text": [
      "TRAIN: [11164  8319  3592 ...  6078  1442 10623] TEST: [13189 10326 12673 ... 10476  9639 10461]\n",
      "TRAIN: [ 4977  7039 12779 ...  6075  5435  7970] TEST: [ 2232 10282  2888 ...  7024  4493  6451]\n",
      "TRAIN: [3110 4168 2164 ... 5962 5034 6446] TEST: [ 4255  7816  5662 ... 12677  8586  4051]\n",
      "TRAIN: [  305  6173  2617 ... 12589  5451  8822] TEST: [12027  9437  6928 ...  9219 11669  9182]\n",
      "TRAIN: [ 7414  1904 12400 ... 12944  9534  5688] TEST: [11387 10258  7718 ... 12243  8663   434]\n"
     ]
    }
   ],
   "source": [
    "for train_index, test_index in sss.split(s, s['class']):   # divinding our dataset into training and test  data\n",
    "    print(\"TRAIN:\", train_index, \"TEST:\", test_index)\n",
    "    train_set = s.iloc[train_index] \n",
    "    test_set = s.iloc[test_index] "
   ]
  },
  {
   "cell_type": "code",
   "execution_count": 10,
   "metadata": {},
   "outputs": [
    {
     "name": "stdout",
     "output_type": "stream",
     "text": [
      "               class   duration  \\\n",
      "7457            oboe   0.470204   \n",
      "1912           cello   2.272653   \n",
      "12601         violin   1.097143   \n",
      "5439    english-horn  11.676735   \n",
      "1808           cello   1.802449   \n",
      "...              ...        ...   \n",
      "963    bass-clarinet   2.768980   \n",
      "9658        trombone   1.175510   \n",
      "13145         violin   1.593469   \n",
      "9731        trombone   1.306122   \n",
      "5720    english-horn   2.324898   \n",
      "\n",
      "                                                filename  sampling rate  \n",
      "7457   /Users/DELL/Updated_binder_enviro/all-samples/...        44100.0  \n",
      "1912   /Users/DELL/Updated_binder_enviro/all-samples/...        44100.0  \n",
      "12601  /Users/DELL/Updated_binder_enviro/all-samples/...        44100.0  \n",
      "5439   /Users/DELL/Updated_binder_enviro/all-samples/...        44100.0  \n",
      "1808   /Users/DELL/Updated_binder_enviro/all-samples/...        44100.0  \n",
      "...                                                  ...            ...  \n",
      "963    /Users/DELL/Updated_binder_enviro/all-samples/...        44100.0  \n",
      "9658   /Users/DELL/Updated_binder_enviro/all-samples/...        44100.0  \n",
      "13145  /Users/DELL/Updated_binder_enviro/all-samples/...        44100.0  \n",
      "9731   /Users/DELL/Updated_binder_enviro/all-samples/...        44100.0  \n",
      "5720   /Users/DELL/Updated_binder_enviro/all-samples/...        44100.0  \n",
      "\n",
      "[10110 rows x 4 columns]\n"
     ]
    }
   ],
   "source": [
    "print(train_set) # printing training set"
   ]
  },
  {
   "cell_type": "code",
   "execution_count": 11,
   "metadata": {},
   "outputs": [
    {
     "name": "stdout",
     "output_type": "stream",
     "text": [
      "               class  duration  \\\n",
      "11588          viola  1.541224   \n",
      "10457           tuba  0.444082   \n",
      "7761            oboe  1.567347   \n",
      "10673           tuba  0.391837   \n",
      "4930     double-bass  1.880816   \n",
      "...              ...       ...   \n",
      "6113           flute  1.175510   \n",
      "10717           tuba  0.417959   \n",
      "12444         violin  1.018776   \n",
      "8856       saxophone  0.679184   \n",
      "434    bass-clarinet  0.600816   \n",
      "\n",
      "                                                filename  sampling rate  \n",
      "11588  /Users/DELL/Updated_binder_enviro/all-samples/...        44100.0  \n",
      "10457  /Users/DELL/Updated_binder_enviro/all-samples/...        44100.0  \n",
      "7761   /Users/DELL/Updated_binder_enviro/all-samples/...        44100.0  \n",
      "10673  /Users/DELL/Updated_binder_enviro/all-samples/...        44100.0  \n",
      "4930   /Users/DELL/Updated_binder_enviro/all-samples/...        44100.0  \n",
      "...                                                  ...            ...  \n",
      "6113   /Users/DELL/Updated_binder_enviro/all-samples/...        44100.0  \n",
      "10717  /Users/DELL/Updated_binder_enviro/all-samples/...        44100.0  \n",
      "12444  /Users/DELL/Updated_binder_enviro/all-samples/...        44100.0  \n",
      "8856   /Users/DELL/Updated_binder_enviro/all-samples/...        44100.0  \n",
      "434    /Users/DELL/Updated_binder_enviro/all-samples/...        44100.0  \n",
      "\n",
      "[3370 rows x 4 columns]\n"
     ]
    }
   ],
   "source": [
    "print(test_set)  # printing test set"
   ]
  },
  {
   "cell_type": "code",
   "execution_count": 12,
   "metadata": {},
   "outputs": [],
   "source": [
    "train_set.to_pickle('train_set_dataframe.pkl') #converting training set into pickle file"
   ]
  },
  {
   "cell_type": "code",
   "execution_count": 13,
   "metadata": {},
   "outputs": [],
   "source": [
    "test_set.to_pickle('test_set_dataframe.pkl')  #converting test set into pickle file"
   ]
  },
  {
   "cell_type": "code",
   "execution_count": null,
   "metadata": {},
   "outputs": [],
   "source": []
  }
 ],
 "metadata": {
  "kernelspec": {
   "display_name": "Python 3",
   "language": "python",
   "name": "python3"
  },
  "language_info": {
   "codemirror_mode": {
    "name": "ipython",
    "version": 3
   },
   "file_extension": ".py",
   "mimetype": "text/x-python",
   "name": "python",
   "nbconvert_exporter": "python",
   "pygments_lexer": "ipython3",
   "version": "3.7.6"
  }
 },
 "nbformat": 4,
 "nbformat_minor": 4
}
