{
 "cells": [
  {
   "cell_type": "markdown",
   "metadata": {},
   "source": [
    "# Predictor and Generator for Audio Signals using Machine Learning\n",
    "## Basic Research Project\n",
    "### Student Name: Prachi Sharma\n",
    "### Professor Supervisor: Prof. Gerald Schuller\n",
    "### Research Assistant Supervisor: Renato de C. R. Profeta"
   ]
  },
  {
   "cell_type": "markdown",
   "metadata": {},
   "source": [
    "## Create Pandas Dataframe from the Dictionaries of Metadata"
   ]
  },
  {
   "cell_type": "code",
   "execution_count": 1,
   "metadata": {},
   "outputs": [],
   "source": [
    "# Importing necessary libraries\n",
    "import pandas as pd\n",
    "import pickle"
   ]
  },
  {
   "cell_type": "code",
   "execution_count": 2,
   "metadata": {},
   "outputs": [],
   "source": [
    "pkl_file_list = pickle.load( open( \"files_pkl.pkl\", \"rb\" ) )   # laoding pickle files list of dictionaries\n",
    "df = pd.DataFrame()                #defining an empty dataframe here      \n",
    "\n",
    "# We had list of all the pickle files named 'files_pkl.pkl' we saved it into pkl_file_list\n",
    "\n",
    "# Now here we are looping over the list and accesing every pickle file, which is a dictionary in itself\n",
    "\n",
    "for file in pkl_file_list:\n",
    "    with open(file,'rb') as f:\n",
    "        dict_instruments = pickle.load(f)       #loading the dictionaries\n",
    "        df = df.append(dict_instruments,ignore_index = True) #here we are appending every dictionary to the dataframe"
   ]
  },
  {
   "cell_type": "code",
   "execution_count": 3,
   "metadata": {},
   "outputs": [
    {
     "data": {
      "text/html": [
       "<div>\n",
       "<style scoped>\n",
       "    .dataframe tbody tr th:only-of-type {\n",
       "        vertical-align: middle;\n",
       "    }\n",
       "\n",
       "    .dataframe tbody tr th {\n",
       "        vertical-align: top;\n",
       "    }\n",
       "\n",
       "    .dataframe thead th {\n",
       "        text-align: right;\n",
       "    }\n",
       "</style>\n",
       "<table border=\"1\" class=\"dataframe\">\n",
       "  <thead>\n",
       "    <tr style=\"text-align: right;\">\n",
       "      <th></th>\n",
       "      <th>class</th>\n",
       "      <th>duration</th>\n",
       "      <th>filename</th>\n",
       "      <th>sampling rate</th>\n",
       "    </tr>\n",
       "  </thead>\n",
       "  <tbody>\n",
       "    <tr>\n",
       "      <th>0</th>\n",
       "      <td>banjo</td>\n",
       "      <td>3.474286</td>\n",
       "      <td>/Users/DELL/Updated_binder_enviro/all-samples/...</td>\n",
       "      <td>44100.0</td>\n",
       "    </tr>\n",
       "    <tr>\n",
       "      <th>1</th>\n",
       "      <td>banjo</td>\n",
       "      <td>3.500408</td>\n",
       "      <td>/Users/DELL/Updated_binder_enviro/all-samples/...</td>\n",
       "      <td>44100.0</td>\n",
       "    </tr>\n",
       "    <tr>\n",
       "      <th>2</th>\n",
       "      <td>banjo</td>\n",
       "      <td>3.813878</td>\n",
       "      <td>/Users/DELL/Updated_binder_enviro/all-samples/...</td>\n",
       "      <td>44100.0</td>\n",
       "    </tr>\n",
       "    <tr>\n",
       "      <th>3</th>\n",
       "      <td>banjo</td>\n",
       "      <td>3.160816</td>\n",
       "      <td>/Users/DELL/Updated_binder_enviro/all-samples/...</td>\n",
       "      <td>44100.0</td>\n",
       "    </tr>\n",
       "    <tr>\n",
       "      <th>4</th>\n",
       "      <td>banjo</td>\n",
       "      <td>3.866122</td>\n",
       "      <td>/Users/DELL/Updated_binder_enviro/all-samples/...</td>\n",
       "      <td>44100.0</td>\n",
       "    </tr>\n",
       "  </tbody>\n",
       "</table>\n",
       "</div>"
      ],
      "text/plain": [
       "   class  duration                                           filename  \\\n",
       "0  banjo  3.474286  /Users/DELL/Updated_binder_enviro/all-samples/...   \n",
       "1  banjo  3.500408  /Users/DELL/Updated_binder_enviro/all-samples/...   \n",
       "2  banjo  3.813878  /Users/DELL/Updated_binder_enviro/all-samples/...   \n",
       "3  banjo  3.160816  /Users/DELL/Updated_binder_enviro/all-samples/...   \n",
       "4  banjo  3.866122  /Users/DELL/Updated_binder_enviro/all-samples/...   \n",
       "\n",
       "   sampling rate  \n",
       "0        44100.0  \n",
       "1        44100.0  \n",
       "2        44100.0  \n",
       "3        44100.0  \n",
       "4        44100.0  "
      ]
     },
     "execution_count": 3,
     "metadata": {},
     "output_type": "execute_result"
    }
   ],
   "source": [
    "# Here we are checking if we have our data right. So, we use df.head() to display some rows for us to check the data\n",
    "\n",
    "df.head()                   "
   ]
  },
  {
   "cell_type": "markdown",
   "metadata": {},
   "source": [
    "#### Filtering the dataframes"
   ]
  },
  {
   "cell_type": "code",
   "execution_count": 4,
   "metadata": {},
   "outputs": [],
   "source": [
    "filtr =  (df['class'] != 'percussion') & (df['duration']<=22)  #creating filter to leave out the files with a duration longer than 22seconds\n",
    "                                                                    # and leave out files of class percussion"
   ]
  },
  {
   "cell_type": "code",
   "execution_count": 5,
   "metadata": {},
   "outputs": [
    {
     "data": {
      "text/html": [
       "<div>\n",
       "<style scoped>\n",
       "    .dataframe tbody tr th:only-of-type {\n",
       "        vertical-align: middle;\n",
       "    }\n",
       "\n",
       "    .dataframe tbody tr th {\n",
       "        vertical-align: top;\n",
       "    }\n",
       "\n",
       "    .dataframe thead th {\n",
       "        text-align: right;\n",
       "    }\n",
       "</style>\n",
       "<table border=\"1\" class=\"dataframe\">\n",
       "  <thead>\n",
       "    <tr style=\"text-align: right;\">\n",
       "      <th></th>\n",
       "      <th>class</th>\n",
       "      <th>duration</th>\n",
       "      <th>filename</th>\n",
       "      <th>sampling rate</th>\n",
       "    </tr>\n",
       "  </thead>\n",
       "  <tbody>\n",
       "    <tr>\n",
       "      <th>0</th>\n",
       "      <td>banjo</td>\n",
       "      <td>3.474286</td>\n",
       "      <td>/Users/DELL/Updated_binder_enviro/all-samples/...</td>\n",
       "      <td>44100.0</td>\n",
       "    </tr>\n",
       "    <tr>\n",
       "      <th>1</th>\n",
       "      <td>banjo</td>\n",
       "      <td>3.500408</td>\n",
       "      <td>/Users/DELL/Updated_binder_enviro/all-samples/...</td>\n",
       "      <td>44100.0</td>\n",
       "    </tr>\n",
       "    <tr>\n",
       "      <th>2</th>\n",
       "      <td>banjo</td>\n",
       "      <td>3.813878</td>\n",
       "      <td>/Users/DELL/Updated_binder_enviro/all-samples/...</td>\n",
       "      <td>44100.0</td>\n",
       "    </tr>\n",
       "    <tr>\n",
       "      <th>3</th>\n",
       "      <td>banjo</td>\n",
       "      <td>3.160816</td>\n",
       "      <td>/Users/DELL/Updated_binder_enviro/all-samples/...</td>\n",
       "      <td>44100.0</td>\n",
       "    </tr>\n",
       "    <tr>\n",
       "      <th>4</th>\n",
       "      <td>banjo</td>\n",
       "      <td>3.866122</td>\n",
       "      <td>/Users/DELL/Updated_binder_enviro/all-samples/...</td>\n",
       "      <td>44100.0</td>\n",
       "    </tr>\n",
       "    <tr>\n",
       "      <th>...</th>\n",
       "      <td>...</td>\n",
       "      <td>...</td>\n",
       "      <td>...</td>\n",
       "      <td>...</td>\n",
       "    </tr>\n",
       "    <tr>\n",
       "      <th>13676</th>\n",
       "      <td>violin</td>\n",
       "      <td>2.220408</td>\n",
       "      <td>/Users/DELL/Updated_binder_enviro/all-samples/...</td>\n",
       "      <td>44100.0</td>\n",
       "    </tr>\n",
       "    <tr>\n",
       "      <th>13677</th>\n",
       "      <td>violin</td>\n",
       "      <td>1.306122</td>\n",
       "      <td>/Users/DELL/Updated_binder_enviro/all-samples/...</td>\n",
       "      <td>44100.0</td>\n",
       "    </tr>\n",
       "    <tr>\n",
       "      <th>13678</th>\n",
       "      <td>violin</td>\n",
       "      <td>1.567347</td>\n",
       "      <td>/Users/DELL/Updated_binder_enviro/all-samples/...</td>\n",
       "      <td>44100.0</td>\n",
       "    </tr>\n",
       "    <tr>\n",
       "      <th>13679</th>\n",
       "      <td>violin</td>\n",
       "      <td>2.351020</td>\n",
       "      <td>/Users/DELL/Updated_binder_enviro/all-samples/...</td>\n",
       "      <td>44100.0</td>\n",
       "    </tr>\n",
       "    <tr>\n",
       "      <th>13680</th>\n",
       "      <td>violin</td>\n",
       "      <td>1.436735</td>\n",
       "      <td>/Users/DELL/Updated_binder_enviro/all-samples/...</td>\n",
       "      <td>44100.0</td>\n",
       "    </tr>\n",
       "  </tbody>\n",
       "</table>\n",
       "<p>13480 rows × 4 columns</p>\n",
       "</div>"
      ],
      "text/plain": [
       "        class  duration                                           filename  \\\n",
       "0       banjo  3.474286  /Users/DELL/Updated_binder_enviro/all-samples/...   \n",
       "1       banjo  3.500408  /Users/DELL/Updated_binder_enviro/all-samples/...   \n",
       "2       banjo  3.813878  /Users/DELL/Updated_binder_enviro/all-samples/...   \n",
       "3       banjo  3.160816  /Users/DELL/Updated_binder_enviro/all-samples/...   \n",
       "4       banjo  3.866122  /Users/DELL/Updated_binder_enviro/all-samples/...   \n",
       "...       ...       ...                                                ...   \n",
       "13676  violin  2.220408  /Users/DELL/Updated_binder_enviro/all-samples/...   \n",
       "13677  violin  1.306122  /Users/DELL/Updated_binder_enviro/all-samples/...   \n",
       "13678  violin  1.567347  /Users/DELL/Updated_binder_enviro/all-samples/...   \n",
       "13679  violin  2.351020  /Users/DELL/Updated_binder_enviro/all-samples/...   \n",
       "13680  violin  1.436735  /Users/DELL/Updated_binder_enviro/all-samples/...   \n",
       "\n",
       "       sampling rate  \n",
       "0            44100.0  \n",
       "1            44100.0  \n",
       "2            44100.0  \n",
       "3            44100.0  \n",
       "4            44100.0  \n",
       "...              ...  \n",
       "13676        44100.0  \n",
       "13677        44100.0  \n",
       "13678        44100.0  \n",
       "13679        44100.0  \n",
       "13680        44100.0  \n",
       "\n",
       "[13480 rows x 4 columns]"
      ]
     },
     "execution_count": 5,
     "metadata": {},
     "output_type": "execute_result"
    }
   ],
   "source": [
    "df[filtr] # checking out the filtered dataset here"
   ]
  },
  {
   "cell_type": "code",
   "execution_count": 6,
   "metadata": {},
   "outputs": [
    {
     "name": "stdout",
     "output_type": "stream",
     "text": [
      "        class  duration                                           filename  \\\n",
      "0       banjo  3.474286  /Users/DELL/Updated_binder_enviro/all-samples/...   \n",
      "1       banjo  3.500408  /Users/DELL/Updated_binder_enviro/all-samples/...   \n",
      "2       banjo  3.813878  /Users/DELL/Updated_binder_enviro/all-samples/...   \n",
      "3       banjo  3.160816  /Users/DELL/Updated_binder_enviro/all-samples/...   \n",
      "4       banjo  3.866122  /Users/DELL/Updated_binder_enviro/all-samples/...   \n",
      "...       ...       ...                                                ...   \n",
      "13676  violin  2.220408  /Users/DELL/Updated_binder_enviro/all-samples/...   \n",
      "13677  violin  1.306122  /Users/DELL/Updated_binder_enviro/all-samples/...   \n",
      "13678  violin  1.567347  /Users/DELL/Updated_binder_enviro/all-samples/...   \n",
      "13679  violin  2.351020  /Users/DELL/Updated_binder_enviro/all-samples/...   \n",
      "13680  violin  1.436735  /Users/DELL/Updated_binder_enviro/all-samples/...   \n",
      "\n",
      "       sampling rate  \n",
      "0            44100.0  \n",
      "1            44100.0  \n",
      "2            44100.0  \n",
      "3            44100.0  \n",
      "4            44100.0  \n",
      "...              ...  \n",
      "13676        44100.0  \n",
      "13677        44100.0  \n",
      "13678        44100.0  \n",
      "13679        44100.0  \n",
      "13680        44100.0  \n",
      "\n",
      "[13480 rows x 4 columns]\n"
     ]
    }
   ],
   "source": [
    "s = df[filtr] #saving the filtered dataset into a variable s\n",
    "print(s)   #printing to see our data"
   ]
  },
  {
   "cell_type": "markdown",
   "metadata": {},
   "source": [
    "## Dividing the dataset into training and test set here"
   ]
  },
  {
   "cell_type": "code",
   "execution_count": 14,
   "metadata": {},
   "outputs": [
    {
     "data": {
      "text/plain": [
       "1"
      ]
     },
     "execution_count": 14,
     "metadata": {},
     "output_type": "execute_result"
    }
   ],
   "source": [
    "# importing necessary libraries\n",
    "import numpy as np\n",
    "from sklearn.model_selection import StratifiedShuffleSplit\n",
    "\n",
    "sss = StratifiedShuffleSplit(n_splits=1, test_size=0.25, random_state=42)\n",
    "sss.get_n_splits(s)"
   ]
  },
  {
   "cell_type": "code",
   "execution_count": 15,
   "metadata": {},
   "outputs": [
    {
     "name": "stdout",
     "output_type": "stream",
     "text": [
      "StratifiedShuffleSplit(n_splits=1, random_state=42, test_size=0.25,\n",
      "            train_size=None)\n"
     ]
    }
   ],
   "source": [
    "print(sss)"
   ]
  },
  {
   "cell_type": "code",
   "execution_count": 16,
   "metadata": {},
   "outputs": [
    {
     "name": "stdout",
     "output_type": "stream",
     "text": [
      "TRAIN: [11164  8319  3592 ...  6078  1442 10623] TEST: [13189 10326 12673 ... 10476  9639 10461]\n"
     ]
    }
   ],
   "source": [
    "for train_index, test_index in sss.split(s, s['class']):   # divinding our dataset into training and test  data\n",
    "    print(\"TRAIN:\", train_index, \"TEST:\", test_index)\n",
    "    train_set = s.iloc[train_index] \n",
    "    test_set = s.iloc[test_index] "
   ]
  },
  {
   "cell_type": "code",
   "execution_count": 17,
   "metadata": {},
   "outputs": [
    {
     "name": "stdout",
     "output_type": "stream",
     "text": [
      "               class  duration  \\\n",
      "11364          viola  1.044898   \n",
      "8512       saxophone  0.653061   \n",
      "3610   contrabassoon  1.280000   \n",
      "7393        mandolin  2.220408   \n",
      "1814           cello  0.888163   \n",
      "...              ...       ...   \n",
      "3314        clarinet  1.541224   \n",
      "1899           cello  1.018776   \n",
      "6110           flute  1.227755   \n",
      "1444         bassoon  1.462857   \n",
      "10823           tuba  0.809796   \n",
      "\n",
      "                                                filename  sampling rate  \n",
      "11364  /Users/DELL/Updated_binder_enviro/all-samples/...        44100.0  \n",
      "8512   /Users/DELL/Updated_binder_enviro/all-samples/...        44100.0  \n",
      "3610   /Users/DELL/Updated_binder_enviro/all-samples/...        44100.0  \n",
      "7393   /Users/DELL/Updated_binder_enviro/all-samples/...        44100.0  \n",
      "1814   /Users/DELL/Updated_binder_enviro/all-samples/...        44100.0  \n",
      "...                                                  ...            ...  \n",
      "3314   /Users/DELL/Updated_binder_enviro/all-samples/...        44100.0  \n",
      "1899   /Users/DELL/Updated_binder_enviro/all-samples/...        44100.0  \n",
      "6110   /Users/DELL/Updated_binder_enviro/all-samples/...        44100.0  \n",
      "1444   /Users/DELL/Updated_binder_enviro/all-samples/...        44100.0  \n",
      "10823  /Users/DELL/Updated_binder_enviro/all-samples/...        44100.0  \n",
      "\n",
      "[10110 rows x 4 columns]\n"
     ]
    }
   ],
   "source": [
    "print(train_set) # printing training set"
   ]
  },
  {
   "cell_type": "code",
   "execution_count": 18,
   "metadata": {},
   "outputs": [
    {
     "name": "stdout",
     "output_type": "stream",
     "text": [
      "             class  duration  \\\n",
      "13390       violin  1.044898   \n",
      "10525         tuba  0.966531   \n",
      "12874       violin  0.783673   \n",
      "2332         cello  2.115918   \n",
      "2425         cello  2.351020   \n",
      "...            ...       ...   \n",
      "6727   french-horn  2.037551   \n",
      "9764       trumpet  0.835918   \n",
      "10676         tuba  0.417959   \n",
      "9837       trumpet  1.384490   \n",
      "10661         tuba  0.496327   \n",
      "\n",
      "                                                filename  sampling rate  \n",
      "13390  /Users/DELL/Updated_binder_enviro/all-samples/...        44100.0  \n",
      "10525  /Users/DELL/Updated_binder_enviro/all-samples/...        44100.0  \n",
      "12874  /Users/DELL/Updated_binder_enviro/all-samples/...        44100.0  \n",
      "2332   /Users/DELL/Updated_binder_enviro/all-samples/...        44100.0  \n",
      "2425   /Users/DELL/Updated_binder_enviro/all-samples/...        44100.0  \n",
      "...                                                  ...            ...  \n",
      "6727   /Users/DELL/Updated_binder_enviro/all-samples/...        44100.0  \n",
      "9764   /Users/DELL/Updated_binder_enviro/all-samples/...        44100.0  \n",
      "10676  /Users/DELL/Updated_binder_enviro/all-samples/...        44100.0  \n",
      "9837   /Users/DELL/Updated_binder_enviro/all-samples/...        44100.0  \n",
      "10661  /Users/DELL/Updated_binder_enviro/all-samples/...        44100.0  \n",
      "\n",
      "[3370 rows x 4 columns]\n"
     ]
    }
   ],
   "source": [
    "print(test_set)  # printing test set"
   ]
  },
  {
   "cell_type": "code",
   "execution_count": 19,
   "metadata": {},
   "outputs": [],
   "source": [
    "train_set.to_pickle('train_set_dataframe.pkl') #converting training set into pickle file"
   ]
  },
  {
   "cell_type": "code",
   "execution_count": 20,
   "metadata": {},
   "outputs": [],
   "source": [
    "test_set.to_pickle('test_set_dataframe.pkl')  #converting test set into pickle file"
   ]
  },
  {
   "cell_type": "code",
   "execution_count": null,
   "metadata": {},
   "outputs": [],
   "source": []
  }
 ],
 "metadata": {
  "kernelspec": {
   "display_name": "Python 3",
   "language": "python",
   "name": "python3"
  },
  "language_info": {
   "codemirror_mode": {
    "name": "ipython",
    "version": 3
   },
   "file_extension": ".py",
   "mimetype": "text/x-python",
   "name": "python",
   "nbconvert_exporter": "python",
   "pygments_lexer": "ipython3",
   "version": "3.7.6"
  }
 },
 "nbformat": 4,
 "nbformat_minor": 4
}
